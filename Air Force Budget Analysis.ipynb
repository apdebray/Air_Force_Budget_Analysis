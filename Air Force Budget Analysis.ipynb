{
 "cells": [
  {
   "cell_type": "code",
   "execution_count": 0,
   "metadata": {
    "application/vnd.databricks.v1+cell": {
     "cellMetadata": {
      "byteLimit": 2048000,
      "rowLimit": 10000
     },
     "inputWidgets": {},
     "nuid": "855d6a0c-37ba-464d-bc16-5d0766d4eba6",
     "showTitle": false,
     "tableResultSettingsMap": {},
     "title": ""
    }
   },
   "outputs": [
    {
     "output_type": "stream",
     "name": "stdout",
     "output_type": "stream",
     "text": [
      "+-----------+------+------+---------+--------+\n|FISCAL YEAR|  ARMY|  NAVY|AIR FORCE|DEFENSE-|\n+-----------+------+------+---------+--------+\n|     OTHER\"| TOTAL|  NULL|     NULL|    NULL|\n|       1999|65,773|78,598|   79,158|  37,850|\n|       2000|70,336|87,204|   82,092|  41,602|\n|       2001|73,800|90,444|   84,827|  41,909|\n|       2002|83,319|98,547|   95,561|  54,688|\n+-----------+------+------+---------+--------+\nonly showing top 5 rows\n\n"
     ]
    }
   ],
   "source": [
    "from pyspark.sql import SparkSession\n",
    "\n",
    "# Initialize Spark session\n",
    "spark = SparkSession.builder.appName(\"AirForceRetention\").getOrCreate()\n",
    "\n",
    "# Load CSV files into Spark DataFrames using corrected File API paths\n",
    "df_defense_spending = spark.read.csv(\"dbfs:/FileStore/defense_spending_compared_to_gov_spending_on_paying_individuals.csv\", header=True, inferSchema=True)\n",
    "df_airforce_personnel = spark.read.csv(\"dbfs:/FileStore/airforce_personnel_breakdown.csv\", header=True, inferSchema=True)\n",
    "df_military_pay = spark.read.csv(\"dbfs:/FileStore/FY2013_Military_Annual_Composite_Pay.csv\", header=True, inferSchema=True)\n",
    "df_personnel = spark.read.csv(\"dbfs:/FileStore/military_personnel_numbers.csv\", header=True, inferSchema=True)\n",
    "df_outlays = spark.read.csv(\"dbfs:/FileStore/national_defense_outlays_and_payments_to_individuals.csv\", header=True, inferSchema=True)\n",
    "df_officer_pay = spark.read.csv(\"dbfs:/FileStore/officer_enlisted_pay.csv\", header=True, inferSchema=True)\n",
    "df_budget = spark.read.csv(\"dbfs:/FileStore/spending_on_various_af_budget_categories.csv\", header=True, inferSchema=True)\n",
    "df_toa = spark.read.csv(\"dbfs:/FileStore/total_obligational_authority_by_service_component.csv\", header=True, inferSchema=True)\n",
    "\n",
    "# Show first few rows for verification\n",
    "df_personnel.show(5)"
   ]
  },
  {
   "cell_type": "markdown",
   "metadata": {
    "application/vnd.databricks.v1+cell": {
     "cellMetadata": {
      "byteLimit": 2048000,
      "rowLimit": 10000
     },
     "inputWidgets": {},
     "nuid": "0608fefb-c935-41cf-9ca2-840549b9b6f4",
     "showTitle": false,
     "tableResultSettingsMap": {},
     "title": ""
    }
   },
   "source": [
    "Creating Database for project"
   ]
  },
  {
   "cell_type": "code",
   "execution_count": 0,
   "metadata": {
    "application/vnd.databricks.v1+cell": {
     "cellMetadata": {
      "byteLimit": 2048000,
      "implicitDf": true,
      "rowLimit": 10000
     },
     "inputWidgets": {},
     "nuid": "6ac201cf-013d-4d0b-82b5-99adf09ecd9e",
     "showTitle": false,
     "tableResultSettingsMap": {},
     "title": ""
    }
   },
   "outputs": [
    {
     "output_type": "display_data",
     "data": {
      "text/html": [
       "<style scoped>\n",
       "  .table-result-container {\n",
       "    max-height: 300px;\n",
       "    overflow: auto;\n",
       "  }\n",
       "  table, th, td {\n",
       "    border: 1px solid black;\n",
       "    border-collapse: collapse;\n",
       "  }\n",
       "  th, td {\n",
       "    padding: 5px;\n",
       "  }\n",
       "  th {\n",
       "    text-align: left;\n",
       "  }\n",
       "</style><div class='table-result-container'><table class='table-result'><thead style='background-color: white'><tr></tr></thead><tbody></tbody></table></div>"
      ]
     },
     "metadata": {
      "application/vnd.databricks.v1+output": {
       "addedWidgets": {},
       "aggData": [],
       "aggError": "",
       "aggOverflow": false,
       "aggSchema": [],
       "aggSeriesLimitReached": false,
       "aggType": "",
       "arguments": {},
       "columnCustomDisplayInfos": {},
       "data": [],
       "datasetInfos": [],
       "dbfsResultPath": null,
       "isJsonSchema": true,
       "metadata": {
        "dataframeName": null
       },
       "overflow": false,
       "plotOptions": {
        "customPlotOptions": {},
        "displayType": "table",
        "pivotAggregation": null,
        "pivotColumns": null,
        "xColumns": null,
        "yColumns": null
       },
       "removedWidgets": [],
       "schema": [],
       "type": "table"
      }
     },
     "output_type": "display_data"
    }
   ],
   "source": [
    "%sql\n",
    "CREATE DATABASE IF NOT EXISTS airforce_analysis;\n",
    "USE airforce_analysis;"
   ]
  },
  {
   "cell_type": "markdown",
   "metadata": {
    "application/vnd.databricks.v1+cell": {
     "cellMetadata": {
      "byteLimit": 2048000,
      "rowLimit": 10000
     },
     "inputWidgets": {},
     "nuid": "be89c20a-6eca-4364-90a0-01a71b74b0e1",
     "showTitle": false,
     "tableResultSettingsMap": {},
     "title": ""
    }
   },
   "source": [
    "Registering Hive tables"
   ]
  },
  {
   "cell_type": "code",
   "execution_count": 0,
   "metadata": {
    "application/vnd.databricks.v1+cell": {
     "cellMetadata": {
      "byteLimit": 2048000,
      "implicitDf": true,
      "rowLimit": 10000
     },
     "inputWidgets": {},
     "nuid": "92c82a15-52be-4fac-b671-442681701b1a",
     "showTitle": false,
     "tableResultSettingsMap": {},
     "title": ""
    }
   },
   "outputs": [
    {
     "output_type": "display_data",
     "data": {
      "text/plain": [
       "org.apache.spark.sql.catalyst.analysis.TableAlreadyExistsException: [TABLE_OR_VIEW_ALREADY_EXISTS] Cannot create table or view `spark_catalog`.`airforce_analysis`.`defense_spending` because it already exists.\n",
       "Choose a different name, drop or replace the existing object, add the IF NOT EXISTS clause to tolerate pre-existing objects, or add the OR REFRESH clause to refresh the existing streaming table. SQLSTATE: 42P07\n",
       "\tat org.apache.spark.sql.errors.QueryCompilationErrors$.tableAlreadyExistsError(QueryCompilationErrors.scala:3003)\n",
       "\tat org.apache.spark.sql.execution.command.CreateDataSourceTableCommand.run(createDataSourceTables.scala:62)\n",
       "\tat org.apache.spark.sql.execution.command.ExecutedCommandExec.$anonfun$sideEffectResult$2(commands.scala:84)\n",
       "\tat org.apache.spark.sql.execution.SparkPlan.runCommandWithAetherOff(SparkPlan.scala:178)\n",
       "\tat org.apache.spark.sql.execution.SparkPlan.runCommandInAetherOrSpark(SparkPlan.scala:189)\n",
       "\tat org.apache.spark.sql.execution.command.ExecutedCommandExec.$anonfun$sideEffectResult$1(commands.scala:84)\n",
       "\tat com.databricks.spark.util.FrameProfiler$.record(FrameProfiler.scala:94)\n",
       "\tat org.apache.spark.sql.execution.command.ExecutedCommandExec.sideEffectResult$lzycompute(commands.scala:81)\n",
       "\tat org.apache.spark.sql.execution.command.ExecutedCommandExec.sideEffectResult(commands.scala:80)\n",
       "\tat org.apache.spark.sql.execution.command.ExecutedCommandExec.executeCollect(commands.scala:94)\n",
       "\tat org.apache.spark.sql.execution.QueryExecution$$anonfun$$nestedInanonfun$eagerlyExecuteCommands$1$1.$anonfun$applyOrElse$4(QueryExecution.scala:358)\n",
       "\tat org.apache.spark.sql.catalyst.QueryPlanningTracker$.withTracker(QueryPlanningTracker.scala:168)\n",
       "\tat org.apache.spark.sql.execution.QueryExecution$$anonfun$$nestedInanonfun$eagerlyExecuteCommands$1$1.$anonfun$applyOrElse$3(QueryExecution.scala:358)\n",
       "\tat org.apache.spark.sql.execution.SQLExecution$.$anonfun$withNewExecutionId0$9(SQLExecution.scala:406)\n",
       "\tat org.apache.spark.sql.execution.SQLExecution$.withSQLConfPropagated(SQLExecution.scala:714)\n",
       "\tat org.apache.spark.sql.execution.SQLExecution$.$anonfun$withNewExecutionId0$1(SQLExecution.scala:278)\n",
       "\tat org.apache.spark.sql.SparkSession.withActive(SparkSession.scala:1175)\n",
       "\tat org.apache.spark.sql.execution.SQLExecution$.withNewExecutionId0(SQLExecution.scala:165)\n",
       "\tat org.apache.spark.sql.execution.SQLExecution$.withNewExecutionId(SQLExecution.scala:651)\n",
       "\tat org.apache.spark.sql.execution.QueryExecution$$anonfun$$nestedInanonfun$eagerlyExecuteCommands$1$1.$anonfun$applyOrElse$2(QueryExecution.scala:357)\n",
       "\tat org.apache.spark.sql.execution.QueryExecution$.withInternalError(QueryExecution.scala:1103)\n",
       "\tat org.apache.spark.sql.execution.QueryExecution$$anonfun$$nestedInanonfun$eagerlyExecuteCommands$1$1.$anonfun$applyOrElse$1(QueryExecution.scala:353)\n",
       "\tat org.apache.spark.sql.execution.QueryExecution.org$apache$spark$sql$execution$QueryExecution$$withMVTagsIfNecessary(QueryExecution.scala:312)\n",
       "\tat org.apache.spark.sql.execution.QueryExecution$$anonfun$$nestedInanonfun$eagerlyExecuteCommands$1$1.applyOrElse(QueryExecution.scala:350)\n",
       "\tat org.apache.spark.sql.execution.QueryExecution$$anonfun$$nestedInanonfun$eagerlyExecuteCommands$1$1.applyOrElse(QueryExecution.scala:334)\n",
       "\tat org.apache.spark.sql.catalyst.trees.TreeNode.$anonfun$transformDownWithPruning$1(TreeNode.scala:505)\n",
       "\tat org.apache.spark.sql.catalyst.trees.CurrentOrigin$.withOrigin(origin.scala:83)\n",
       "\tat org.apache.spark.sql.catalyst.trees.TreeNode.transformDownWithPruning(TreeNode.scala:505)\n",
       "\tat org.apache.spark.sql.catalyst.plans.logical.LogicalPlan.org$apache$spark$sql$catalyst$plans$logical$AnalysisHelper$$super$transformDownWithPruning(LogicalPlan.scala:39)\n",
       "\tat org.apache.spark.sql.catalyst.plans.logical.AnalysisHelper.transformDownWithPruning(AnalysisHelper.scala:343)\n",
       "\tat org.apache.spark.sql.catalyst.plans.logical.AnalysisHelper.transformDownWithPruning$(AnalysisHelper.scala:339)\n",
       "\tat org.apache.spark.sql.catalyst.plans.logical.LogicalPlan.transformDownWithPruning(LogicalPlan.scala:39)\n",
       "\tat org.apache.spark.sql.catalyst.plans.logical.LogicalPlan.transformDownWithPruning(LogicalPlan.scala:39)\n",
       "\tat org.apache.spark.sql.catalyst.trees.TreeNode.transformDown(TreeNode.scala:481)\n",
       "\tat org.apache.spark.sql.execution.QueryExecution.$anonfun$eagerlyExecuteCommands$1(QueryExecution.scala:334)\n",
       "\tat org.apache.spark.sql.catalyst.plans.logical.AnalysisHelper$.allowInvokingTransformsInAnalyzer(AnalysisHelper.scala:400)\n",
       "\tat org.apache.spark.sql.execution.QueryExecution.eagerlyExecuteCommands(QueryExecution.scala:334)\n",
       "\tat org.apache.spark.sql.execution.QueryExecution.commandExecuted$lzycompute(QueryExecution.scala:271)\n",
       "\tat org.apache.spark.sql.execution.QueryExecution.commandExecuted(QueryExecution.scala:268)\n",
       "\tat org.apache.spark.sql.Dataset.<init>(Dataset.scala:289)\n",
       "\tat org.apache.spark.sql.Dataset$.$anonfun$ofRows$2(Dataset.scala:127)\n",
       "\tat org.apache.spark.sql.SparkSession.withActive(SparkSession.scala:1175)\n",
       "\tat org.apache.spark.sql.SparkSession.$anonfun$withActiveAndFrameProfiler$1(SparkSession.scala:1182)\n",
       "\tat com.databricks.spark.util.FrameProfiler$.record(FrameProfiler.scala:94)\n",
       "\tat org.apache.spark.sql.SparkSession.withActiveAndFrameProfiler(SparkSession.scala:1182)\n",
       "\tat org.apache.spark.sql.Dataset$.ofRows(Dataset.scala:116)\n",
       "\tat org.apache.spark.sql.SparkSession.$anonfun$sql$4(SparkSession.scala:954)\n",
       "\tat org.apache.spark.sql.SparkSession.withActive(SparkSession.scala:1175)\n",
       "\tat org.apache.spark.sql.SparkSession.sql(SparkSession.scala:942)\n",
       "\tat org.apache.spark.sql.SparkSession.sql(SparkSession.scala:977)\n",
       "\tat org.apache.spark.sql.SparkSession.sql(SparkSession.scala:1010)\n",
       "\tat org.apache.spark.sql.SQLContext.sql(SQLContext.scala:696)\n",
       "\tat com.databricks.backend.daemon.driver.DriverLocal$DbClassicStrategy.executeSQLQuery(DriverLocal.scala:289)\n",
       "\tat com.databricks.backend.daemon.driver.DriverLocal.executeSQLSubCommand(DriverLocal.scala:379)\n",
       "\tat com.databricks.backend.daemon.driver.DriverLocal.$anonfun$executeSql$1(DriverLocal.scala:400)\n",
       "\tat scala.collection.immutable.List.map(List.scala:293)\n",
       "\tat com.databricks.backend.daemon.driver.DriverLocal.executeSql(DriverLocal.scala:395)\n",
       "\tat com.databricks.backend.daemon.driver.JupyterDriverLocal.repl(JupyterDriverLocal.scala:1058)\n",
       "\tat com.databricks.backend.daemon.driver.DriverLocal.$anonfun$execute$33(DriverLocal.scala:1146)\n",
       "\tat com.databricks.unity.EmptyHandle$.runWith(UCSHandle.scala:133)\n",
       "\tat com.databricks.backend.daemon.driver.DriverLocal.$anonfun$execute$28(DriverLocal.scala:1137)\n",
       "\tat com.databricks.logging.UsageLogging.$anonfun$withAttributionContext$1(UsageLogging.scala:426)\n",
       "\tat scala.util.DynamicVariable.withValue(DynamicVariable.scala:62)\n",
       "\tat com.databricks.logging.AttributionContext$.withValue(AttributionContext.scala:216)\n",
       "\tat com.databricks.logging.UsageLogging.withAttributionContext(UsageLogging.scala:424)\n",
       "\tat com.databricks.logging.UsageLogging.withAttributionContext$(UsageLogging.scala:418)\n",
       "\tat com.databricks.backend.daemon.driver.DriverLocal.withAttributionContext(DriverLocal.scala:99)\n",
       "\tat com.databricks.logging.UsageLogging.withAttributionTags(UsageLogging.scala:472)\n",
       "\tat com.databricks.logging.UsageLogging.withAttributionTags$(UsageLogging.scala:455)\n",
       "\tat com.databricks.backend.daemon.driver.DriverLocal.withAttributionTags(DriverLocal.scala:99)\n",
       "\tat com.databricks.backend.daemon.driver.DriverLocal.$anonfun$execute$1(DriverLocal.scala:1073)\n",
       "\tat com.databricks.backend.daemon.driver.DriverLocal$.$anonfun$maybeSynchronizeExecution$4(DriverLocal.scala:1534)\n",
       "\tat com.databricks.backend.daemon.driver.DriverLocal.execute(DriverLocal.scala:750)\n",
       "\tat com.databricks.backend.daemon.driver.DriverWrapper.$anonfun$tryExecutingCommand$2(DriverWrapper.scala:786)\n",
       "\tat scala.util.Try$.apply(Try.scala:213)\n",
       "\tat com.databricks.backend.daemon.driver.DriverWrapper.$anonfun$tryExecutingCommand$1(DriverWrapper.scala:778)\n",
       "\tat com.databricks.backend.daemon.driver.DriverWrapper.tryExecutingCommand(DriverWrapper.scala:806)\n",
       "\tat com.databricks.backend.daemon.driver.DriverWrapper.executeCommandAndGetError(DriverWrapper.scala:685)\n",
       "\tat com.databricks.backend.daemon.driver.DriverWrapper.executeCommand(DriverWrapper.scala:730)\n",
       "\tat com.databricks.backend.daemon.driver.DriverWrapper.runInnerLoop(DriverWrapper.scala:556)\n",
       "\tat com.databricks.backend.daemon.driver.DriverWrapper.runInner(DriverWrapper.scala:482)\n",
       "\tat com.databricks.backend.daemon.driver.DriverWrapper.run(DriverWrapper.scala:290)\n",
       "\tat java.lang.Thread.run(Thread.java:750)\n"
      ]
     },
     "metadata": {
      "application/vnd.databricks.v1+output": {
       "addedWidgets": {},
       "arguments": {},
       "datasetInfos": [],
       "jupyterProps": null,
       "metadata": {
        "errorSummary": "[TABLE_OR_VIEW_ALREADY_EXISTS] Cannot create table or view `spark_catalog`.`airforce_analysis`.`defense_spending` because it already exists.\nChoose a different name, drop or replace the existing object, add the IF NOT EXISTS clause to tolerate pre-existing objects, or add the OR REFRESH clause to refresh the existing streaming table. SQLSTATE: 42P07"
       },
       "removedWidgets": [],
       "sqlProps": {
        "errorClass": "TABLE_OR_VIEW_ALREADY_EXISTS",
        "pysparkCallSite": null,
        "pysparkFragment": null,
        "sqlState": "42P07",
        "stackTrace": null,
        "startIndex": null,
        "stopIndex": null
       },
       "stackFrames": [
        "org.apache.spark.sql.catalyst.analysis.TableAlreadyExistsException: [TABLE_OR_VIEW_ALREADY_EXISTS] Cannot create table or view `spark_catalog`.`airforce_analysis`.`defense_spending` because it already exists.\nChoose a different name, drop or replace the existing object, add the IF NOT EXISTS clause to tolerate pre-existing objects, or add the OR REFRESH clause to refresh the existing streaming table. SQLSTATE: 42P07\n\tat org.apache.spark.sql.errors.QueryCompilationErrors$.tableAlreadyExistsError(QueryCompilationErrors.scala:3003)\n\tat org.apache.spark.sql.execution.command.CreateDataSourceTableCommand.run(createDataSourceTables.scala:62)\n\tat org.apache.spark.sql.execution.command.ExecutedCommandExec.$anonfun$sideEffectResult$2(commands.scala:84)\n\tat org.apache.spark.sql.execution.SparkPlan.runCommandWithAetherOff(SparkPlan.scala:178)\n\tat org.apache.spark.sql.execution.SparkPlan.runCommandInAetherOrSpark(SparkPlan.scala:189)\n\tat org.apache.spark.sql.execution.command.ExecutedCommandExec.$anonfun$sideEffectResult$1(commands.scala:84)\n\tat com.databricks.spark.util.FrameProfiler$.record(FrameProfiler.scala:94)\n\tat org.apache.spark.sql.execution.command.ExecutedCommandExec.sideEffectResult$lzycompute(commands.scala:81)\n\tat org.apache.spark.sql.execution.command.ExecutedCommandExec.sideEffectResult(commands.scala:80)\n\tat org.apache.spark.sql.execution.command.ExecutedCommandExec.executeCollect(commands.scala:94)\n\tat org.apache.spark.sql.execution.QueryExecution$$anonfun$$nestedInanonfun$eagerlyExecuteCommands$1$1.$anonfun$applyOrElse$4(QueryExecution.scala:358)\n\tat org.apache.spark.sql.catalyst.QueryPlanningTracker$.withTracker(QueryPlanningTracker.scala:168)\n\tat org.apache.spark.sql.execution.QueryExecution$$anonfun$$nestedInanonfun$eagerlyExecuteCommands$1$1.$anonfun$applyOrElse$3(QueryExecution.scala:358)\n\tat org.apache.spark.sql.execution.SQLExecution$.$anonfun$withNewExecutionId0$9(SQLExecution.scala:406)\n\tat org.apache.spark.sql.execution.SQLExecution$.withSQLConfPropagated(SQLExecution.scala:714)\n\tat org.apache.spark.sql.execution.SQLExecution$.$anonfun$withNewExecutionId0$1(SQLExecution.scala:278)\n\tat org.apache.spark.sql.SparkSession.withActive(SparkSession.scala:1175)\n\tat org.apache.spark.sql.execution.SQLExecution$.withNewExecutionId0(SQLExecution.scala:165)\n\tat org.apache.spark.sql.execution.SQLExecution$.withNewExecutionId(SQLExecution.scala:651)\n\tat org.apache.spark.sql.execution.QueryExecution$$anonfun$$nestedInanonfun$eagerlyExecuteCommands$1$1.$anonfun$applyOrElse$2(QueryExecution.scala:357)\n\tat org.apache.spark.sql.execution.QueryExecution$.withInternalError(QueryExecution.scala:1103)\n\tat org.apache.spark.sql.execution.QueryExecution$$anonfun$$nestedInanonfun$eagerlyExecuteCommands$1$1.$anonfun$applyOrElse$1(QueryExecution.scala:353)\n\tat org.apache.spark.sql.execution.QueryExecution.org$apache$spark$sql$execution$QueryExecution$$withMVTagsIfNecessary(QueryExecution.scala:312)\n\tat org.apache.spark.sql.execution.QueryExecution$$anonfun$$nestedInanonfun$eagerlyExecuteCommands$1$1.applyOrElse(QueryExecution.scala:350)\n\tat org.apache.spark.sql.execution.QueryExecution$$anonfun$$nestedInanonfun$eagerlyExecuteCommands$1$1.applyOrElse(QueryExecution.scala:334)\n\tat org.apache.spark.sql.catalyst.trees.TreeNode.$anonfun$transformDownWithPruning$1(TreeNode.scala:505)\n\tat org.apache.spark.sql.catalyst.trees.CurrentOrigin$.withOrigin(origin.scala:83)\n\tat org.apache.spark.sql.catalyst.trees.TreeNode.transformDownWithPruning(TreeNode.scala:505)\n\tat org.apache.spark.sql.catalyst.plans.logical.LogicalPlan.org$apache$spark$sql$catalyst$plans$logical$AnalysisHelper$$super$transformDownWithPruning(LogicalPlan.scala:39)\n\tat org.apache.spark.sql.catalyst.plans.logical.AnalysisHelper.transformDownWithPruning(AnalysisHelper.scala:343)\n\tat org.apache.spark.sql.catalyst.plans.logical.AnalysisHelper.transformDownWithPruning$(AnalysisHelper.scala:339)\n\tat org.apache.spark.sql.catalyst.plans.logical.LogicalPlan.transformDownWithPruning(LogicalPlan.scala:39)\n\tat org.apache.spark.sql.catalyst.plans.logical.LogicalPlan.transformDownWithPruning(LogicalPlan.scala:39)\n\tat org.apache.spark.sql.catalyst.trees.TreeNode.transformDown(TreeNode.scala:481)\n\tat org.apache.spark.sql.execution.QueryExecution.$anonfun$eagerlyExecuteCommands$1(QueryExecution.scala:334)\n\tat org.apache.spark.sql.catalyst.plans.logical.AnalysisHelper$.allowInvokingTransformsInAnalyzer(AnalysisHelper.scala:400)\n\tat org.apache.spark.sql.execution.QueryExecution.eagerlyExecuteCommands(QueryExecution.scala:334)\n\tat org.apache.spark.sql.execution.QueryExecution.commandExecuted$lzycompute(QueryExecution.scala:271)\n\tat org.apache.spark.sql.execution.QueryExecution.commandExecuted(QueryExecution.scala:268)\n\tat org.apache.spark.sql.Dataset.<init>(Dataset.scala:289)\n\tat org.apache.spark.sql.Dataset$.$anonfun$ofRows$2(Dataset.scala:127)\n\tat org.apache.spark.sql.SparkSession.withActive(SparkSession.scala:1175)\n\tat org.apache.spark.sql.SparkSession.$anonfun$withActiveAndFrameProfiler$1(SparkSession.scala:1182)\n\tat com.databricks.spark.util.FrameProfiler$.record(FrameProfiler.scala:94)\n\tat org.apache.spark.sql.SparkSession.withActiveAndFrameProfiler(SparkSession.scala:1182)\n\tat org.apache.spark.sql.Dataset$.ofRows(Dataset.scala:116)\n\tat org.apache.spark.sql.SparkSession.$anonfun$sql$4(SparkSession.scala:954)\n\tat org.apache.spark.sql.SparkSession.withActive(SparkSession.scala:1175)\n\tat org.apache.spark.sql.SparkSession.sql(SparkSession.scala:942)\n\tat org.apache.spark.sql.SparkSession.sql(SparkSession.scala:977)\n\tat org.apache.spark.sql.SparkSession.sql(SparkSession.scala:1010)\n\tat org.apache.spark.sql.SQLContext.sql(SQLContext.scala:696)\n\tat com.databricks.backend.daemon.driver.DriverLocal$DbClassicStrategy.executeSQLQuery(DriverLocal.scala:289)\n\tat com.databricks.backend.daemon.driver.DriverLocal.executeSQLSubCommand(DriverLocal.scala:379)\n\tat com.databricks.backend.daemon.driver.DriverLocal.$anonfun$executeSql$1(DriverLocal.scala:400)\n\tat scala.collection.immutable.List.map(List.scala:293)\n\tat com.databricks.backend.daemon.driver.DriverLocal.executeSql(DriverLocal.scala:395)\n\tat com.databricks.backend.daemon.driver.JupyterDriverLocal.repl(JupyterDriverLocal.scala:1058)\n\tat com.databricks.backend.daemon.driver.DriverLocal.$anonfun$execute$33(DriverLocal.scala:1146)\n\tat com.databricks.unity.EmptyHandle$.runWith(UCSHandle.scala:133)\n\tat com.databricks.backend.daemon.driver.DriverLocal.$anonfun$execute$28(DriverLocal.scala:1137)\n\tat com.databricks.logging.UsageLogging.$anonfun$withAttributionContext$1(UsageLogging.scala:426)\n\tat scala.util.DynamicVariable.withValue(DynamicVariable.scala:62)\n\tat com.databricks.logging.AttributionContext$.withValue(AttributionContext.scala:216)\n\tat com.databricks.logging.UsageLogging.withAttributionContext(UsageLogging.scala:424)\n\tat com.databricks.logging.UsageLogging.withAttributionContext$(UsageLogging.scala:418)\n\tat com.databricks.backend.daemon.driver.DriverLocal.withAttributionContext(DriverLocal.scala:99)\n\tat com.databricks.logging.UsageLogging.withAttributionTags(UsageLogging.scala:472)\n\tat com.databricks.logging.UsageLogging.withAttributionTags$(UsageLogging.scala:455)\n\tat com.databricks.backend.daemon.driver.DriverLocal.withAttributionTags(DriverLocal.scala:99)\n\tat com.databricks.backend.daemon.driver.DriverLocal.$anonfun$execute$1(DriverLocal.scala:1073)\n\tat com.databricks.backend.daemon.driver.DriverLocal$.$anonfun$maybeSynchronizeExecution$4(DriverLocal.scala:1534)\n\tat com.databricks.backend.daemon.driver.DriverLocal.execute(DriverLocal.scala:750)\n\tat com.databricks.backend.daemon.driver.DriverWrapper.$anonfun$tryExecutingCommand$2(DriverWrapper.scala:786)\n\tat scala.util.Try$.apply(Try.scala:213)\n\tat com.databricks.backend.daemon.driver.DriverWrapper.$anonfun$tryExecutingCommand$1(DriverWrapper.scala:778)\n\tat com.databricks.backend.daemon.driver.DriverWrapper.tryExecutingCommand(DriverWrapper.scala:806)\n\tat com.databricks.backend.daemon.driver.DriverWrapper.executeCommandAndGetError(DriverWrapper.scala:685)\n\tat com.databricks.backend.daemon.driver.DriverWrapper.executeCommand(DriverWrapper.scala:730)\n\tat com.databricks.backend.daemon.driver.DriverWrapper.runInnerLoop(DriverWrapper.scala:556)\n\tat com.databricks.backend.daemon.driver.DriverWrapper.runInner(DriverWrapper.scala:482)\n\tat com.databricks.backend.daemon.driver.DriverWrapper.run(DriverWrapper.scala:290)\n\tat java.lang.Thread.run(Thread.java:750)\n"
       ],
       "type": "baseError"
      }
     },
     "output_type": "display_data"
    }
   ],
   "source": [
    "%sql\n",
    "CREATE TABLE defense_spending (\n",
    "    fiscal_year INT,\n",
    "    national_defense_outlays DOUBLE,\n",
    "    payments_to_individuals DOUBLE\n",
    ")\n",
    "USING CSV\n",
    "OPTIONS (path \"dbfs:/FileStore/defense_spending_compared_to_gov_spending_on_paying_individuals.csv\", header \"true\", inferSchema \"true\");\n",
    "\n",
    "CREATE TABLE airforce_personnel_breakdown (\n",
    "    fiscal_year INT,\n",
    "    regular_air_force INT,\n",
    "    air_force_reserve INT,\n",
    "    air_national_guard INT,\n",
    "    total_air_force INT\n",
    ")\n",
    "USING CSV\n",
    "OPTIONS (path \"dbfs:/FileStore/airforce_personnel_breakdown.csv\", header \"true\", inferSchema \"true\");\n",
    "\n",
    "CREATE TABLE military_pay (\n",
    "    rank STRING,\n",
    "    annual_pay DOUBLE\n",
    ")\n",
    "USING CSV\n",
    "OPTIONS (path \"dbfs:/FileStore/FY2013_Military_Annual_Composite_Pay.csv\", header \"true\", inferSchema \"true\");\n",
    "\n",
    "CREATE TABLE personnel_numbers (\n",
    "    fiscal_year INT,\n",
    "    army INT,\n",
    "    navy INT,\n",
    "    air_force INT,\n",
    "    defense_other INT,\n",
    "    total INT\n",
    ")\n",
    "USING CSV\n",
    "OPTIONS (path \"dbfs:/FileStore/military_personnel_numbers.csv\", header \"true\", inferSchema \"true\");\n",
    "\n",
    "CREATE TABLE officer_enlisted_pay (\n",
    "    rank STRING,\n",
    "    pay DOUBLE\n",
    ")\n",
    "USING CSV\n",
    "OPTIONS (path \"dbfs:/FileStore/officer_enlisted_pay.csv\", header \"true\", inferSchema \"true\");\n",
    "\n",
    "CREATE TABLE airforce_budget_categories (\n",
    "    fiscal_year INT,\n",
    "    category STRING,\n",
    "    spending DOUBLE\n",
    ")\n",
    "USING CSV\n",
    "OPTIONS (path \"dbfs:/FileStore/spending_on_various_af_budget_categories.csv\", header \"true\", inferSchema \"true\");\n",
    "\n",
    "CREATE TABLE total_obligational_authority (\n",
    "    fiscal_year INT,\n",
    "    army DOUBLE,\n",
    "    navy DOUBLE,\n",
    "    air_force DOUBLE,\n",
    "    defense_other DOUBLE,\n",
    "    total DOUBLE\n",
    ")\n",
    "USING CSV\n",
    "OPTIONS (path \"dbfs:/FileStore/total_obligational_authority_by_service_component.csv\", header \"true\", inferSchema \"true\");\n"
   ]
  },
  {
   "cell_type": "code",
   "execution_count": 0,
   "metadata": {
    "application/vnd.databricks.v1+cell": {
     "cellMetadata": {
      "byteLimit": 2048000,
      "implicitDf": true,
      "rowLimit": 10000
     },
     "inputWidgets": {},
     "nuid": "1b89a744-ecf9-498a-a469-5b3136de84fc",
     "showTitle": false,
     "tableResultSettingsMap": {},
     "title": ""
    }
   },
   "outputs": [
    {
     "output_type": "display_data",
     "data": {
      "text/html": [
       "<style scoped>\n",
       "  .table-result-container {\n",
       "    max-height: 300px;\n",
       "    overflow: auto;\n",
       "  }\n",
       "  table, th, td {\n",
       "    border: 1px solid black;\n",
       "    border-collapse: collapse;\n",
       "  }\n",
       "  th, td {\n",
       "    padding: 5px;\n",
       "  }\n",
       "  th {\n",
       "    text-align: left;\n",
       "  }\n",
       "</style><div class='table-result-container'><table class='table-result'><thead style='background-color: white'><tr><th>database</th><th>tableName</th><th>isTemporary</th></tr></thead><tbody><tr><td>airforce_analysis</td><td>airforce_budget_categories</td><td>false</td></tr><tr><td>airforce_analysis</td><td>airforce_personnel_breakdown</td><td>false</td></tr><tr><td>airforce_analysis</td><td>defense_spending</td><td>false</td></tr><tr><td>airforce_analysis</td><td>military_pay</td><td>false</td></tr><tr><td>airforce_analysis</td><td>officer_enlisted_pay</td><td>false</td></tr><tr><td>airforce_analysis</td><td>personnel_numbers</td><td>false</td></tr><tr><td>airforce_analysis</td><td>total_obligational_authority</td><td>false</td></tr><tr><td></td><td>airforce_personnel_cleaned</td><td>true</td></tr><tr><td></td><td>defense_spending_cleaned</td><td>true</td></tr><tr><td></td><td>military_pay_cleaned</td><td>true</td></tr><tr><td></td><td>officer_enlisted_pay_cleaned</td><td>true</td></tr><tr><td></td><td>personnel_cleaned</td><td>true</td></tr><tr><td></td><td>total_obligational_authority_cleaned</td><td>true</td></tr></tbody></table></div>"
      ]
     },
     "metadata": {
      "application/vnd.databricks.v1+output": {
       "addedWidgets": {},
       "aggData": [],
       "aggError": "",
       "aggOverflow": false,
       "aggSchema": [],
       "aggSeriesLimitReached": false,
       "aggType": "",
       "arguments": {},
       "columnCustomDisplayInfos": {},
       "data": [
        [
         "airforce_analysis",
         "airforce_budget_categories",
         false
        ],
        [
         "airforce_analysis",
         "airforce_personnel_breakdown",
         false
        ],
        [
         "airforce_analysis",
         "defense_spending",
         false
        ],
        [
         "airforce_analysis",
         "military_pay",
         false
        ],
        [
         "airforce_analysis",
         "officer_enlisted_pay",
         false
        ],
        [
         "airforce_analysis",
         "personnel_numbers",
         false
        ],
        [
         "airforce_analysis",
         "total_obligational_authority",
         false
        ],
        [
         "",
         "airforce_personnel_cleaned",
         true
        ],
        [
         "",
         "defense_spending_cleaned",
         true
        ],
        [
         "",
         "military_pay_cleaned",
         true
        ],
        [
         "",
         "officer_enlisted_pay_cleaned",
         true
        ],
        [
         "",
         "personnel_cleaned",
         true
        ],
        [
         "",
         "total_obligational_authority_cleaned",
         true
        ]
       ],
       "datasetInfos": [],
       "dbfsResultPath": null,
       "isJsonSchema": true,
       "metadata": {
        "dataframeName": "_sqldf",
        "executionCount": 108
       },
       "overflow": false,
       "plotOptions": {
        "customPlotOptions": {},
        "displayType": "table",
        "pivotAggregation": null,
        "pivotColumns": null,
        "xColumns": null,
        "yColumns": null
       },
       "removedWidgets": [],
       "schema": [
        {
         "metadata": "{}",
         "name": "database",
         "type": "\"string\""
        },
        {
         "metadata": "{}",
         "name": "tableName",
         "type": "\"string\""
        },
        {
         "metadata": "{}",
         "name": "isTemporary",
         "type": "\"boolean\""
        }
       ],
       "type": "table"
      }
     },
     "output_type": "display_data"
    }
   ],
   "source": [
    "%sql\n",
    "SHOW TABLES;\n"
   ]
  },
  {
   "cell_type": "code",
   "execution_count": 0,
   "metadata": {
    "application/vnd.databricks.v1+cell": {
     "cellMetadata": {
      "byteLimit": 2048000,
      "implicitDf": true,
      "rowLimit": 10000
     },
     "inputWidgets": {},
     "nuid": "60123edc-9b63-4d93-9754-3e7f72d4050e",
     "showTitle": false,
     "tableResultSettingsMap": {},
     "title": ""
    }
   },
   "outputs": [
    {
     "output_type": "stream",
     "name": "stdout",
     "output_type": "stream",
     "text": [
      "root\n |-- FY: string (nullable = true)\n |-- MILITARY COMPENSATION: string (nullable = true)\n |-- Unknown_Column2: double (nullable = true)\n |-- Unknown_Column3: double (nullable = true)\n |-- Unknown_Column4: double (nullable = true)\n |-- GENERA: double (nullable = true)\n\n"
     ]
    }
   ],
   "source": [
    "df_budget.printSchema()\n"
   ]
  },
  {
   "cell_type": "markdown",
   "metadata": {
    "application/vnd.databricks.v1+cell": {
     "cellMetadata": {
      "byteLimit": 2048000,
      "rowLimit": 10000
     },
     "inputWidgets": {},
     "nuid": "ced70fcc-1416-4509-b50a-e6c33ffe22b9",
     "showTitle": false,
     "tableResultSettingsMap": {},
     "title": ""
    }
   },
   "source": [
    "^^ issues with coloumn naming, begin cleaning and renaming columns for ease later"
   ]
  },
  {
   "cell_type": "code",
   "execution_count": 0,
   "metadata": {
    "application/vnd.databricks.v1+cell": {
     "cellMetadata": {
      "byteLimit": 2048000,
      "rowLimit": 10000
     },
     "inputWidgets": {},
     "nuid": "dcb8bf9f-2930-4c2e-a0dd-ec04525a96b1",
     "showTitle": false,
     "tableResultSettingsMap": {},
     "title": ""
    }
   },
   "outputs": [
    {
     "output_type": "stream",
     "name": "stdout",
     "output_type": "stream",
     "text": [
      "root\n |-- fiscal_year: string (nullable = true)\n |-- national_defense_outlays: string (nullable = true)\n\nroot\n |-- FY: string (nullable = true)\n |-- regular_air_force: string (nullable = true)\n\nroot\n |-- rank: string (nullable = true)\n |-- base_pay: string (nullable = true)\n\nroot\n |-- fiscal_year: string (nullable = true)\n |-- ARMY: string (nullable = true)\n |-- NAVY: string (nullable = true)\n |-- AIR FORCE: string (nullable = true)\n |-- defense_other: string (nullable = true)\n\nroot\n |-- pay_grade: string (nullable = true)\n |-- pay_under_2: string (nullable = true)\n |-- pay_over_2: string (nullable = true)\n |-- pay_over_3: string (nullable = true)\n |-- pay_over_4: string (nullable = true)\n |-- pay_over_6: string (nullable = true)\n |-- pay_over_8: string (nullable = true)\n |-- pay_over_10: string (nullable = true)\n\nroot\n |-- fiscal_year: string (nullable = true)\n |-- ARMY: string (nullable = true)\n |-- NAVY: string (nullable = true)\n |-- AIR FORCE: string (nullable = true)\n |-- defense_other: string (nullable = true)\n\n"
     ]
    }
   ],
   "source": [
    "from pyspark.sql import SparkSession\n",
    "from pyspark.sql.functions import col\n",
    "\n",
    "# Initialize Spark session\n",
    "spark = SparkSession.builder.appName(\"AirForceRetention\").getOrCreate()\n",
    "\n",
    "# Reload datasets from DBFS\n",
    "df_defense_spending = spark.read.csv(\"dbfs:/FileStore/defense_spending_compared_to_gov_spending_on_paying_individuals.csv\", header=True, inferSchema=True)\n",
    "df_airforce_personnel = spark.read.csv(\"dbfs:/FileStore/airforce_personnel_breakdown.csv\", header=True, inferSchema=True)\n",
    "df_military_pay = spark.read.csv(\"dbfs:/FileStore/FY2013_Military_Annual_Composite_Pay.csv\", header=True, inferSchema=True)\n",
    "df_personnel = spark.read.csv(\"dbfs:/FileStore/military_personnel_numbers.csv\", header=True, inferSchema=True)\n",
    "df_officer_pay = spark.read.csv(\"dbfs:/FileStore/officer_enlisted_pay.csv\", header=True, inferSchema=True)\n",
    "df_budget = spark.read.csv(\"dbfs:/FileStore/spending_on_various_af_budget_categories.csv\", header=True, inferSchema=True)\n",
    "df_toa = spark.read.csv(\"dbfs:/FileStore/total_obligational_authority_by_service_component.csv\", header=True, inferSchema=True)\n",
    "\n",
    "df_defense_spending_cleaned = df_defense_spending.withColumnRenamed(\"FISCAL YEAR\", \"fiscal_year\") \\\n",
    "    .withColumnRenamed(\"NATIONAL DEFENSE \", \"national_defense_outlays\")\n",
    "\n",
    "df_airforce_personnel_cleaned = df_airforce_personnel.withColumnRenamed(\"FISCAL YEAR\", \"fiscal_year\") \\\n",
    "    .withColumnRenamed(\"REGULAR \", \"regular_air_force\")\n",
    "\n",
    "df_military_pay_cleaned = df_military_pay.withColumnRenamed(\"GRADE\", \"rank\") \\\n",
    "    .withColumnRenamed(\"BASIC \", \"base_pay\")\n",
    "\n",
    "df_personnel_cleaned = df_personnel.withColumnRenamed(\"FISCAL YEAR\", \"fiscal_year\") \\\n",
    "    .withColumnRenamed(\"DEFENSE-\", \"defense_other\")\n",
    "\n",
    "df_officer_pay_cleaned = df_officer_pay.withColumnRenamed(\"Pay Grade\", \"pay_grade\") \\\n",
    "    .withColumnRenamed(\"2 or less\", \"pay_under_2\") \\\n",
    "    .withColumnRenamed(\"Over 2\", \"pay_over_2\") \\\n",
    "    .withColumnRenamed(\"Over 3\", \"pay_over_3\") \\\n",
    "    .withColumnRenamed(\"Over 4\", \"pay_over_4\") \\\n",
    "    .withColumnRenamed(\"Over 6\", \"pay_over_6\") \\\n",
    "    .withColumnRenamed(\"Over 8\", \"pay_over_8\") \\\n",
    "    .withColumnRenamed(\"Over 10\", \"pay_over_10\")\n",
    "\n",
    "df_toa_cleaned = df_toa.withColumnRenamed(\"FISCAL YEAR\", \"fiscal_year\") \\\n",
    "    .withColumnRenamed(\"DEFENSE-\", \"defense_other\")\n",
    "\n",
    "df_defense_spending_cleaned.printSchema()\n",
    "df_airforce_personnel_cleaned.printSchema()\n",
    "df_military_pay_cleaned.printSchema()\n",
    "df_personnel_cleaned.printSchema()\n",
    "df_officer_pay_cleaned.printSchema()\n",
    "df_toa_cleaned.printSchema()\n"
   ]
  },
  {
   "cell_type": "code",
   "execution_count": 0,
   "metadata": {
    "application/vnd.databricks.v1+cell": {
     "cellMetadata": {
      "byteLimit": 2048000,
      "rowLimit": 10000
     },
     "inputWidgets": {},
     "nuid": "2b0ff401-a468-4ddb-b032-6718119409ec",
     "showTitle": false,
     "tableResultSettingsMap": {},
     "title": ""
    }
   },
   "outputs": [
    {
     "output_type": "stream",
     "name": "stdout",
     "output_type": "stream",
     "text": [
      "root\n |-- fiscal_year: string (nullable = true)\n |-- national_defense_outlays: double (nullable = true)\n\nroot\n |-- fiscal_year: string (nullable = true)\n |-- regular_air_force: integer (nullable = true)\n\nroot\n |-- rank: string (nullable = true)\n |-- base_pay: double (nullable = true)\n\nroot\n |-- fiscal_year: string (nullable = true)\n |-- ARMY: integer (nullable = true)\n |-- NAVY: integer (nullable = true)\n |-- AIR FORCE: integer (nullable = true)\n |-- defense_other: integer (nullable = true)\n\nroot\n |-- pay_grade: string (nullable = true)\n |-- pay_under_2: double (nullable = true)\n |-- pay_over_2: double (nullable = true)\n |-- pay_over_3: double (nullable = true)\n |-- pay_over_4: double (nullable = true)\n |-- pay_over_6: double (nullable = true)\n |-- pay_over_8: double (nullable = true)\n |-- pay_over_10: double (nullable = true)\n\nroot\n |-- fiscal_year: string (nullable = true)\n |-- ARMY: double (nullable = true)\n |-- NAVY: double (nullable = true)\n |-- AIR FORCE: double (nullable = true)\n |-- defense_other: double (nullable = true)\n\n"
     ]
    }
   ],
   "source": [
    "from pyspark.sql.functions import col\n",
    "\n",
    "# Fix defense spending data\n",
    "df_defense_spending_cleaned = df_defense_spending_cleaned.withColumn(\"national_defense_outlays\", col(\"national_defense_outlays\").cast(\"double\"))\n",
    "\n",
    "# Fix Air Force personnel data (Ensure FY is fiscal_year)\n",
    "df_airforce_personnel_cleaned = df_airforce_personnel_cleaned.withColumnRenamed(\"FY\", \"fiscal_year\") \\\n",
    "    .withColumn(\"regular_air_force\", col(\"regular_air_force\").cast(\"int\"))\n",
    "\n",
    "# Fix military pay data\n",
    "df_military_pay_cleaned = df_military_pay_cleaned.withColumn(\"base_pay\", col(\"base_pay\").cast(\"double\"))\n",
    "\n",
    "# Fix personnel data\n",
    "df_personnel_cleaned = df_personnel_cleaned.withColumn(\"ARMY\", col(\"ARMY\").cast(\"int\")) \\\n",
    "    .withColumn(\"NAVY\", col(\"NAVY\").cast(\"int\")) \\\n",
    "    .withColumn(\"AIR FORCE\", col(\"AIR FORCE\").cast(\"int\")) \\\n",
    "    .withColumn(\"defense_other\", col(\"defense_other\").cast(\"int\"))\n",
    "\n",
    "# Fix officer pay data\n",
    "df_officer_pay_cleaned = df_officer_pay_cleaned.withColumn(\"pay_under_2\", col(\"pay_under_2\").cast(\"double\")) \\\n",
    "    .withColumn(\"pay_over_2\", col(\"pay_over_2\").cast(\"double\")) \\\n",
    "    .withColumn(\"pay_over_3\", col(\"pay_over_3\").cast(\"double\")) \\\n",
    "    .withColumn(\"pay_over_4\", col(\"pay_over_4\").cast(\"double\")) \\\n",
    "    .withColumn(\"pay_over_6\", col(\"pay_over_6\").cast(\"double\")) \\\n",
    "    .withColumn(\"pay_over_8\", col(\"pay_over_8\").cast(\"double\")) \\\n",
    "    .withColumn(\"pay_over_10\", col(\"pay_over_10\").cast(\"double\"))\n",
    "\n",
    "# Fix total obligational authority (TOA) data\n",
    "df_toa_cleaned = df_toa_cleaned.withColumn(\"ARMY\", col(\"ARMY\").cast(\"double\")) \\\n",
    "    .withColumn(\"NAVY\", col(\"NAVY\").cast(\"double\")) \\\n",
    "    .withColumn(\"AIR FORCE\", col(\"AIR FORCE\").cast(\"double\")) \\\n",
    "    .withColumn(\"defense_other\", col(\"defense_other\").cast(\"double\"))\n",
    "\n",
    "df_defense_spending_cleaned.printSchema()\n",
    "df_airforce_personnel_cleaned.printSchema()\n",
    "df_military_pay_cleaned.printSchema()\n",
    "df_personnel_cleaned.printSchema()\n",
    "df_officer_pay_cleaned.printSchema()\n",
    "df_toa_cleaned.printSchema()\n"
   ]
  },
  {
   "cell_type": "markdown",
   "metadata": {
    "application/vnd.databricks.v1+cell": {
     "cellMetadata": {
      "byteLimit": 2048000,
      "rowLimit": 10000
     },
     "inputWidgets": {},
     "nuid": "a226cc6b-a5d7-46c8-a509-6de9ea11bbb3",
     "showTitle": false,
     "tableResultSettingsMap": {},
     "title": ""
    }
   },
   "source": [
    "Checking for missing values"
   ]
  },
  {
   "cell_type": "code",
   "execution_count": 0,
   "metadata": {
    "application/vnd.databricks.v1+cell": {
     "cellMetadata": {
      "byteLimit": 2048000,
      "rowLimit": 10000
     },
     "inputWidgets": {},
     "nuid": "ee01fded-c86a-4337-951d-c7053ca712a9",
     "showTitle": false,
     "tableResultSettingsMap": {},
     "title": ""
    }
   },
   "outputs": [
    {
     "output_type": "stream",
     "name": "stdout",
     "output_type": "stream",
     "text": [
      "Missing values in defense_spending_cleaned:\n+-----------+------------------------+\n|fiscal_year|national_defense_outlays|\n+-----------+------------------------+\n|         61|                      63|\n+-----------+------------------------+\n\nMissing values in airforce_personnel_cleaned:\n+-----------+-----------------+\n|fiscal_year|regular_air_force|\n+-----------+-----------------+\n|          0|               20|\n+-----------+-----------------+\n\nMissing values in military_pay_cleaned:\n+----+--------+\n|rank|base_pay|\n+----+--------+\n|   0|      38|\n+----+--------+\n\nMissing values in personnel_cleaned:\n+-----------+----+----+---------+-------------+\n|fiscal_year|ARMY|NAVY|AIR FORCE|defense_other|\n+-----------+----+----+---------+-------------+\n|          0|  16|  16|       16|           16|\n+-----------+----+----+---------+-------------+\n\nMissing values in officer_enlisted_pay_cleaned:\n+---------+-----------+----------+----------+----------+----------+----------+-----------+\n|pay_grade|pay_under_2|pay_over_2|pay_over_3|pay_over_4|pay_over_6|pay_over_8|pay_over_10|\n+---------+-----------+----------+----------+----------+----------+----------+-----------+\n|        3|         25|        25|        25|        25|        25|        25|         25|\n+---------+-----------+----------+----------+----------+----------+----------+-----------+\n\nMissing values in total_obligational_authority_cleaned:\n+-----------+----+----+---------+-------------+\n|fiscal_year|ARMY|NAVY|AIR FORCE|defense_other|\n+-----------+----+----+---------+-------------+\n|          0|  16|  16|       16|           16|\n+-----------+----+----+---------+-------------+\n\n"
     ]
    }
   ],
   "source": [
    "from pyspark.sql.functions import col, count, when\n",
    "\n",
    "# Function to check missing values for each DataFrame\n",
    "def check_missing_values(df, df_name):\n",
    "    print(f\"Missing values in {df_name}:\")\n",
    "    df.select([count(when(col(c).isNull(), c)).alias(c) for c in df.columns]).show()\n",
    "\n",
    "# Check missing values in each dataset\n",
    "check_missing_values(df_defense_spending_cleaned, \"defense_spending_cleaned\")\n",
    "check_missing_values(df_airforce_personnel_cleaned, \"airforce_personnel_cleaned\")\n",
    "check_missing_values(df_military_pay_cleaned, \"military_pay_cleaned\")\n",
    "check_missing_values(df_personnel_cleaned, \"personnel_cleaned\")\n",
    "check_missing_values(df_officer_pay_cleaned, \"officer_enlisted_pay_cleaned\")\n",
    "check_missing_values(df_toa_cleaned, \"total_obligational_authority_cleaned\")\n"
   ]
  },
  {
   "cell_type": "code",
   "execution_count": 0,
   "metadata": {
    "application/vnd.databricks.v1+cell": {
     "cellMetadata": {
      "byteLimit": 2048000,
      "rowLimit": 10000
     },
     "inputWidgets": {},
     "nuid": "fff5bd21-17e8-409a-a526-84f499b693bd",
     "showTitle": false,
     "tableResultSettingsMap": {},
     "title": ""
    }
   },
   "outputs": [],
   "source": [
    "from pyspark.sql.functions import lit\n",
    "\n",
    "# Fill missing values for numerical columns with 0\n",
    "df_defense_spending_cleaned = df_defense_spending_cleaned.fillna({'national_defense_outlays': 0})\n",
    "df_airforce_personnel_cleaned = df_airforce_personnel_cleaned.fillna({'regular_air_force': 0})\n",
    "df_military_pay_cleaned = df_military_pay_cleaned.fillna({'base_pay': 0})\n",
    "df_personnel_cleaned = df_personnel_cleaned.fillna({'ARMY': 0, 'NAVY': 0, 'AIR FORCE': 0, 'defense_other': 0})\n",
    "df_officer_pay_cleaned = df_officer_pay_cleaned.fillna({'pay_under_2': 0, 'pay_over_2': 0, 'pay_over_10': 0})\n",
    "df_toa_cleaned = df_toa_cleaned.fillna({'ARMY': 0, 'NAVY': 0, 'AIR FORCE': 0, 'defense_other': 0})\n",
    "\n",
    "# Drop rows where fiscal_year is null\n",
    "df_defense_spending_cleaned = df_defense_spending_cleaned.dropna(subset=[\"fiscal_year\"])\n",
    "df_airforce_personnel_cleaned = df_airforce_personnel_cleaned.dropna(subset=[\"fiscal_year\"])\n",
    "df_military_pay_cleaned = df_military_pay_cleaned.dropna(subset=[\"rank\"])\n",
    "df_personnel_cleaned = df_personnel_cleaned.dropna(subset=[\"fiscal_year\"])\n",
    "df_officer_pay_cleaned = df_officer_pay_cleaned.dropna(subset=[\"pay_grade\"])\n",
    "df_toa_cleaned = df_toa_cleaned.dropna(subset=[\"fiscal_year\"])\n"
   ]
  },
  {
   "cell_type": "markdown",
   "metadata": {
    "application/vnd.databricks.v1+cell": {
     "cellMetadata": {
      "byteLimit": 2048000,
      "rowLimit": 10000
     },
     "inputWidgets": {},
     "nuid": "d2a95723-f997-46c3-81ff-21ea07987d5c",
     "showTitle": false,
     "tableResultSettingsMap": {},
     "title": ""
    }
   },
   "source": [
    "Removing duplicates"
   ]
  },
  {
   "cell_type": "code",
   "execution_count": 0,
   "metadata": {
    "application/vnd.databricks.v1+cell": {
     "cellMetadata": {
      "byteLimit": 2048000,
      "rowLimit": 10000
     },
     "inputWidgets": {},
     "nuid": "ebd32256-ddb8-45a4-819c-1513365a380f",
     "showTitle": false,
     "tableResultSettingsMap": {},
     "title": ""
    }
   },
   "outputs": [],
   "source": [
    "df_defense_spending_cleaned = df_defense_spending_cleaned.dropDuplicates()\n",
    "df_airforce_personnel_cleaned = df_airforce_personnel_cleaned.dropDuplicates()\n",
    "df_military_pay_cleaned = df_military_pay_cleaned.dropDuplicates()\n",
    "df_personnel_cleaned = df_personnel_cleaned.dropDuplicates()\n",
    "df_officer_pay_cleaned = df_officer_pay_cleaned.dropDuplicates()\n",
    "df_toa_cleaned = df_toa_cleaned.dropDuplicates()\n"
   ]
  },
  {
   "cell_type": "code",
   "execution_count": 0,
   "metadata": {
    "application/vnd.databricks.v1+cell": {
     "cellMetadata": {
      "byteLimit": 2048000,
      "rowLimit": 10000
     },
     "inputWidgets": {},
     "nuid": "523e4648-b077-40ef-b697-1f685bfbb108",
     "showTitle": false,
     "tableResultSettingsMap": {},
     "title": ""
    }
   },
   "outputs": [],
   "source": [
    "df_defense_spending_cleaned = df_defense_spending_cleaned.withColumn(\"fiscal_year\", col(\"fiscal_year\").cast(\"int\"))\n",
    "df_airforce_personnel_cleaned = df_airforce_personnel_cleaned.withColumn(\"fiscal_year\", col(\"fiscal_year\").cast(\"int\"))\n",
    "df_personnel_cleaned = df_personnel_cleaned.withColumn(\"fiscal_year\", col(\"fiscal_year\").cast(\"int\"))\n",
    "df_toa_cleaned = df_toa_cleaned.withColumn(\"fiscal_year\", col(\"fiscal_year\").cast(\"int\"))\n"
   ]
  },
  {
   "cell_type": "code",
   "execution_count": 0,
   "metadata": {
    "application/vnd.databricks.v1+cell": {
     "cellMetadata": {
      "byteLimit": 2048000,
      "rowLimit": 10000
     },
     "inputWidgets": {},
     "nuid": "6d018031-0bd8-4514-81a7-023ee294a2ae",
     "showTitle": false,
     "tableResultSettingsMap": {},
     "title": ""
    }
   },
   "outputs": [],
   "source": [
    "df_personnel_cleaned = df_personnel_cleaned.withColumn(\"total_military_personnel\", \n",
    "    col(\"ARMY\") + col(\"NAVY\") + col(\"AIR FORCE\"))\n"
   ]
  },
  {
   "cell_type": "markdown",
   "metadata": {
    "application/vnd.databricks.v1+cell": {
     "cellMetadata": {
      "byteLimit": 2048000,
      "rowLimit": 10000
     },
     "inputWidgets": {},
     "nuid": "3a9648ab-894a-4ee6-b602-08c76106cda4",
     "showTitle": false,
     "tableResultSettingsMap": {},
     "title": ""
    }
   },
   "source": [
    "Yearly Growth Rate column for personnel"
   ]
  },
  {
   "cell_type": "code",
   "execution_count": 0,
   "metadata": {
    "application/vnd.databricks.v1+cell": {
     "cellMetadata": {
      "byteLimit": 2048000,
      "rowLimit": 10000
     },
     "inputWidgets": {},
     "nuid": "53d8fe7f-86a3-4348-819d-a2c9f6bf7268",
     "showTitle": false,
     "tableResultSettingsMap": {},
     "title": ""
    }
   },
   "outputs": [],
   "source": [
    "from pyspark.sql.window import Window\n",
    "from pyspark.sql.functions import lag, round\n",
    "\n",
    "# Define window for calculating previous year's personnel\n",
    "windowSpec = Window().partitionBy().orderBy(\"fiscal_year\")\n",
    "\n",
    "# Compute previous year's total personnel\n",
    "df_personnel_cleaned = df_personnel_cleaned.withColumn(\"prev_total_military_personnel\",\n",
    "    lag(\"total_military_personnel\").over(windowSpec))\n",
    "\n",
    "# Compute percentage change from the previous year\n",
    "df_personnel_cleaned = df_personnel_cleaned.withColumn(\"personnel_growth_rate\",\n",
    "    round(((col(\"total_military_personnel\") - col(\"prev_total_military_personnel\")) / \n",
    "          col(\"prev_total_military_personnel\")) * 100, 2))\n",
    "\n",
    "# Drop the temporary column\n",
    "df_personnel_cleaned = df_personnel_cleaned.drop(\"prev_total_military_personnel\")\n"
   ]
  },
  {
   "cell_type": "code",
   "execution_count": 0,
   "metadata": {
    "application/vnd.databricks.v1+cell": {
     "cellMetadata": {
      "byteLimit": 2048000,
      "rowLimit": 10000
     },
     "inputWidgets": {},
     "nuid": "05d8eef0-e41c-4675-92b6-2d1cb93f6179",
     "showTitle": false,
     "tableResultSettingsMap": {},
     "title": ""
    }
   },
   "outputs": [],
   "source": [
    "df_defense_spending_cleaned.createOrReplaceTempView(\"defense_spending_cleaned\")\n",
    "df_airforce_personnel_cleaned.createOrReplaceTempView(\"airforce_personnel_cleaned\")\n",
    "df_military_pay_cleaned.createOrReplaceTempView(\"military_pay_cleaned\")\n",
    "df_personnel_cleaned.createOrReplaceTempView(\"personnel_cleaned\")\n",
    "df_officer_pay_cleaned.createOrReplaceTempView(\"officer_enlisted_pay_cleaned\")\n",
    "df_toa_cleaned.createOrReplaceTempView(\"total_obligational_authority_cleaned\")\n"
   ]
  },
  {
   "cell_type": "markdown",
   "metadata": {
    "application/vnd.databricks.v1+cell": {
     "cellMetadata": {
      "byteLimit": 2048000,
      "rowLimit": 10000
     },
     "inputWidgets": {},
     "nuid": "a864e280-4506-46ed-8ea3-9377b72b7207",
     "showTitle": false,
     "tableResultSettingsMap": {},
     "title": ""
    }
   },
   "source": [
    "Checking for categorical data"
   ]
  },
  {
   "cell_type": "code",
   "execution_count": 0,
   "metadata": {
    "application/vnd.databricks.v1+cell": {
     "cellMetadata": {
      "byteLimit": 2048000,
      "rowLimit": 10000
     },
     "inputWidgets": {},
     "nuid": "b6fc9be5-5117-4232-8fd4-f56d9759ddbd",
     "showTitle": false,
     "tableResultSettingsMap": {},
     "title": ""
    }
   },
   "outputs": [
    {
     "output_type": "stream",
     "name": "stdout",
     "output_type": "stream",
     "text": [
      "Schema for defense_spending_cleaned:\nroot\n |-- fiscal_year: integer (nullable = true)\n |-- national_defense_outlays: double (nullable = false)\n\nSchema for airforce_personnel_cleaned:\nroot\n |-- fiscal_year: integer (nullable = true)\n |-- regular_air_force: integer (nullable = false)\n\nSchema for military_pay_cleaned:\nroot\n |-- rank: string (nullable = true)\n |-- base_pay: double (nullable = false)\n\nSchema for personnel_cleaned:\nroot\n |-- fiscal_year: integer (nullable = true)\n |-- ARMY: integer (nullable = false)\n |-- NAVY: integer (nullable = false)\n |-- AIR FORCE: integer (nullable = false)\n |-- defense_other: integer (nullable = false)\n |-- total_military_personnel: integer (nullable = false)\n |-- personnel_growth_rate: double (nullable = true)\n\nSchema for officer_enlisted_pay_cleaned:\nroot\n |-- pay_grade: string (nullable = true)\n |-- pay_under_2: double (nullable = false)\n |-- pay_over_2: double (nullable = false)\n |-- pay_over_3: double (nullable = true)\n |-- pay_over_4: double (nullable = true)\n |-- pay_over_6: double (nullable = true)\n |-- pay_over_8: double (nullable = true)\n |-- pay_over_10: double (nullable = false)\n\nSchema for total_obligational_authority_cleaned:\nroot\n |-- fiscal_year: integer (nullable = true)\n |-- ARMY: double (nullable = false)\n |-- NAVY: double (nullable = false)\n |-- AIR FORCE: double (nullable = false)\n |-- defense_other: double (nullable = false)\n\n"
     ]
    }
   ],
   "source": [
    "for df_name, df in [\n",
    "    (\"defense_spending_cleaned\", df_defense_spending_cleaned),\n",
    "    (\"airforce_personnel_cleaned\", df_airforce_personnel_cleaned),\n",
    "    (\"military_pay_cleaned\", df_military_pay_cleaned),\n",
    "    (\"personnel_cleaned\", df_personnel_cleaned),\n",
    "    (\"officer_enlisted_pay_cleaned\", df_officer_pay_cleaned),\n",
    "    (\"total_obligational_authority_cleaned\", df_toa_cleaned)\n",
    "]:\n",
    "    print(f\"Schema for {df_name}:\")\n",
    "    df.printSchema()\n"
   ]
  },
  {
   "cell_type": "markdown",
   "metadata": {
    "application/vnd.databricks.v1+cell": {
     "cellMetadata": {
      "byteLimit": 2048000,
      "rowLimit": 10000
     },
     "inputWidgets": {},
     "nuid": "7c926a46-1da9-4383-9f2d-3aaaf91da47b",
     "showTitle": false,
     "tableResultSettingsMap": {},
     "title": ""
    }
   },
   "source": [
    "Only two categorical columns"
   ]
  },
  {
   "cell_type": "code",
   "execution_count": 0,
   "metadata": {
    "application/vnd.databricks.v1+cell": {
     "cellMetadata": {
      "byteLimit": 2048000,
      "rowLimit": 10000
     },
     "inputWidgets": {},
     "nuid": "2bafd62d-fe29-49e8-b758-73beca9b9274",
     "showTitle": false,
     "tableResultSettingsMap": {},
     "title": ""
    }
   },
   "outputs": [
    {
     "output_type": "stream",
     "name": "stdout",
     "output_type": "stream",
     "text": [
      "+--------+---------------+\n|base_pay|   rank_encoded|\n+--------+---------------+\n|     0.0|(34,[16],[1.0])|\n|     0.0|(34,[12],[1.0])|\n|     0.0| (34,[5],[1.0])|\n|     0.0|(34,[28],[1.0])|\n|     0.0| (34,[7],[1.0])|\n+--------+---------------+\nonly showing top 5 rows\n\n+-----------+----------+----------+----------+----------+----------+-----------+-----------------+\n|pay_under_2|pay_over_2|pay_over_3|pay_over_4|pay_over_6|pay_over_8|pay_over_10|pay_grade_encoded|\n+-----------+----------+----------+----------+----------+----------+-----------+-----------------+\n|        0.0|       0.0|      NULL|      NULL|      NULL|      NULL|        0.0|   (21,[4],[1.0])|\n|        0.0|       0.0|      NULL|      NULL|      NULL|      NULL|        0.0|   (21,[5],[1.0])|\n|        0.0|       0.0|      NULL|      NULL|      NULL|      NULL|        0.0|   (21,[2],[1.0])|\n|        0.0|       0.0|      NULL|      NULL|      NULL|      NULL|        0.0|   (21,[8],[1.0])|\n|        0.0|       0.0|      NULL|      NULL|      NULL|      NULL|        0.0|   (21,[7],[1.0])|\n+-----------+----------+----------+----------+----------+----------+-----------+-----------------+\nonly showing top 5 rows\n\n"
     ]
    }
   ],
   "source": [
    "from pyspark.ml.feature import StringIndexer, OneHotEncoder\n",
    "from pyspark.ml import Pipeline\n",
    "\n",
    "# One-Hot Encoding for \"rank\" in military_pay_cleaned\n",
    "rank_indexer = StringIndexer(inputCol=\"rank\", outputCol=\"rank_indexed\")\n",
    "rank_encoder = OneHotEncoder(inputCol=\"rank_indexed\", outputCol=\"rank_encoded\")\n",
    "\n",
    "# One-Hot Encoding for \"pay_grade\" in officer_enlisted_pay_cleaned\n",
    "pay_grade_indexer = StringIndexer(inputCol=\"pay_grade\", outputCol=\"pay_grade_indexed\")\n",
    "pay_grade_encoder = OneHotEncoder(inputCol=\"pay_grade_indexed\", outputCol=\"pay_grade_encoded\")\n",
    "\n",
    "# Define pipelines\n",
    "rank_pipeline = Pipeline(stages=[rank_indexer, rank_encoder])\n",
    "pay_grade_pipeline = Pipeline(stages=[pay_grade_indexer, pay_grade_encoder])\n",
    "\n",
    "# Apply transformations\n",
    "df_military_pay_encoded = rank_pipeline.fit(df_military_pay_cleaned).transform(df_military_pay_cleaned)\n",
    "df_officer_pay_encoded = pay_grade_pipeline.fit(df_officer_pay_cleaned).transform(df_officer_pay_cleaned)\n",
    "\n",
    "# Drop original categorical columns after encoding\n",
    "df_military_pay_encoded = df_military_pay_encoded.drop(\"rank\", \"rank_indexed\")\n",
    "df_officer_pay_encoded = df_officer_pay_encoded.drop(\"pay_grade\", \"pay_grade_indexed\")\n",
    "\n",
    "# Show encoded data\n",
    "df_military_pay_encoded.show(5)\n",
    "df_officer_pay_encoded.show(5)\n"
   ]
  },
  {
   "cell_type": "markdown",
   "metadata": {
    "application/vnd.databricks.v1+cell": {
     "cellMetadata": {
      "byteLimit": 2048000,
      "rowLimit": 10000
     },
     "inputWidgets": {},
     "nuid": "e22b46ea-3b31-4bec-92c2-dfc33e615584",
     "showTitle": false,
     "tableResultSettingsMap": {},
     "title": ""
    }
   },
   "source": [
    "Parquet format for saving data"
   ]
  },
  {
   "cell_type": "code",
   "execution_count": 0,
   "metadata": {
    "application/vnd.databricks.v1+cell": {
     "cellMetadata": {
      "byteLimit": 2048000,
      "rowLimit": 10000
     },
     "inputWidgets": {},
     "nuid": "4e491a22-1d34-410f-966b-a69828fc864b",
     "showTitle": false,
     "tableResultSettingsMap": {},
     "title": ""
    }
   },
   "outputs": [],
   "source": [
    "output_path = \"dbfs:/FileStore/optimized_data/\"\n",
    "\n",
    "df_defense_spending_cleaned.write.mode(\"overwrite\").parquet(output_path + \"defense_spending_cleaned.parquet\")\n",
    "df_airforce_personnel_cleaned.write.mode(\"overwrite\").parquet(output_path + \"airforce_personnel_cleaned.parquet\")\n",
    "df_military_pay_encoded.write.mode(\"overwrite\").parquet(output_path + \"military_pay_cleaned.parquet\")\n",
    "df_personnel_cleaned.write.mode(\"overwrite\").parquet(output_path + \"personnel_cleaned.parquet\")\n",
    "df_officer_pay_encoded.write.mode(\"overwrite\").parquet(output_path + \"officer_enlisted_pay_cleaned.parquet\")\n",
    "df_toa_cleaned.write.mode(\"overwrite\").parquet(output_path + \"total_obligational_authority_cleaned.parquet\")\n"
   ]
  },
  {
   "cell_type": "code",
   "execution_count": 0,
   "metadata": {
    "application/vnd.databricks.v1+cell": {
     "cellMetadata": {
      "byteLimit": 2048000,
      "rowLimit": 10000
     },
     "inputWidgets": {},
     "nuid": "d471e35f-75b2-49ea-b205-a8f638805690",
     "showTitle": false,
     "tableResultSettingsMap": {},
     "title": ""
    }
   },
   "outputs": [
    {
     "output_type": "stream",
     "name": "stdout",
     "output_type": "stream",
     "text": [
      "root\n |-- base_pay: double (nullable = true)\n |-- rank_encoded: vector (nullable = true)\n\n+--------+---------------+\n|base_pay|   rank_encoded|\n+--------+---------------+\n|     0.0|(34,[16],[1.0])|\n|     0.0|(34,[12],[1.0])|\n|     0.0| (34,[5],[1.0])|\n|     0.0|(34,[28],[1.0])|\n|     0.0| (34,[7],[1.0])|\n+--------+---------------+\nonly showing top 5 rows\n\n"
     ]
    }
   ],
   "source": [
    "df_test = spark.read.parquet(output_path + \"military_pay_cleaned.parquet\")\n",
    "df_test.printSchema()\n",
    "df_test.show(5)\n"
   ]
  },
  {
   "cell_type": "code",
   "execution_count": 0,
   "metadata": {
    "application/vnd.databricks.v1+cell": {
     "cellMetadata": {
      "byteLimit": 2048000,
      "rowLimit": 10000
     },
     "inputWidgets": {},
     "nuid": "e4addbf5-073c-4bea-ae3c-b790f809db90",
     "showTitle": false,
     "tableResultSettingsMap": {},
     "title": ""
    }
   },
   "outputs": [
    {
     "output_type": "stream",
     "name": "stdout",
     "output_type": "stream",
     "text": [
      "+-------------+-------------------+\n|          _c0|                _c1|\n+-------------+-------------------+\n|  FISCAL YEAR|NATIONAL DEFENSE \\n|\n|     OUTLAYS\"|     PAYMENTS TO \\n|\n|INDIVIDUALS1\"|               NULL|\n|         1998|                3.1|\n|         1999|                  3|\n|         2000|                  3|\n|         2001|                  3|\n|         2002|                3.3|\n|         2003|                3.7|\n|         2004|                3.9|\n+-------------+-------------------+\nonly showing top 10 rows\n\n+---------------+--------------+\n|            _c0|           _c1|\n+---------------+--------------+\n|             FY|    REGULAR \\n|\n|AIR FORCE (AF)\"|   AIR FORCE\\n|\n| RESERVE (AFR)\"|AIR NATIONAL\\n|\n|   GUARD (ANG)\"|       TOTAL\\n|\n|     AIR FORCE\"|          NULL|\n|           1998|         4,447|\n|           1999|         4,413|\n|           2000|         4,401|\n|           2001|         4,339|\n|           2002|         4,387|\n+---------------+--------------+\nonly showing top 10 rows\n\n+------------+-----------+\n|         _c0|        _c1|\n+------------+-----------+\n|       GRADE|   BASIC \\n|\n|       PAY*\"|MEDICARE-\\n|\n|   ELIGIBLE |       NULL|\n|HEALTH CARE |       NULL|\n|    ACCRUAL\"| RETIRED \\n|\n|        PAY |       NULL|\n|    ACCRUAL\"|        BAH|\n|    SPECIAL |       NULL|\n|        PAY\"|        PCS|\n|    LANEOUS\"|AVG RATE \\n|\n+------------+-----------+\nonly showing top 10 rows\n\n+-----------+-------+-------+---------+----------+\n|        _c0|    _c1|    _c2|      _c3|       _c4|\n+-----------+-------+-------+---------+----------+\n|FISCAL YEAR|   ARMY|   NAVY|AIR FORCE|DEFENSE-\\n|\n|     OTHER\"|  TOTAL|   NULL|     NULL|      NULL|\n|       1999| 65,773| 78,598|   79,158|    37,850|\n|       2000| 70,336| 87,204|   82,092|    41,602|\n|       2001| 73,800| 90,444|   84,827|    41,909|\n|       2002| 83,319| 98,547|   95,561|    54,688|\n|       2003|105,248|112,017|  111,559|    58,517|\n|       2004|129,034|120,381|  122,162|    64,940|\n|       2005|152,098|126,088|  127,939|    68,029|\n|       2006|163,336|132,267|  132,706|    70,967|\n+-----------+-------+-------+---------+----------+\nonly showing top 10 rows\n\n+---------+---------+---------+---------+---------+---------+---------+---------+\n|      _c0|      _c1|      _c2|      _c3|      _c4|      _c5|      _c6|      _c7|\n+---------+---------+---------+---------+---------+---------+---------+---------+\n|Pay Grade|2 or less|   Over 2|   Over 3|   Over 4|   Over 6|   Over 8|  Over 10|\n|     NULL|     NULL|     NULL|     NULL|     NULL|     NULL|     NULL|     NULL|\n|    O-101|     NULL|     NULL|     NULL|     NULL|     NULL|     NULL|     NULL|\n|     O-91|     NULL|     NULL|     NULL|     NULL|     NULL|     NULL|     NULL|\n|     O-81| 9,847.80|10,170.30|10,384.50|10,444.20|10,711.50|11,157.60|11,261.40|\n|     O-71| 8,182.50| 8,562.90| 8,738.70| 8,878.50| 9,131.70| 9,381.90| 9,671.10|\n|     O-62| 6,064.80| 6,663.00| 7,100.10| 7,100.10| 7,127.10| 7,432.80| 7,473.00|\n|      O-5| 5,055.90| 5,695.50| 6,089.70| 6,164.10| 6,410.10| 6,557.10| 6,880.80|\n|      O-4| 4,362.30| 5,049.90| 5,386.80| 5,461.80| 5,774.70| 6,109.80| 6,527.70|\n|      O-3| 3,835.50| 4,347.90| 4,692.90| 5,116.50| 5,361.60| 5,630.70| 5,804.70|\n+---------+---------+---------+---------+---------+---------+---------+---------+\nonly showing top 10 rows\n\n+--------+--------------------+--------------+--------------+--------------+--------+\n|     _c0|                 _c1|           _c2|           _c3|           _c4|     _c5|\n+--------+--------------------+--------------+--------------+--------------+--------+\n|      FY|MILITARY COMPENSA...|Unknown_Column|Unknown_Column|Unknown_Column|GENERA\\n|\n|      L |                NULL|          NULL|          NULL|          NULL|    NULL|\n|SERVICE |                NULL|          NULL|          NULL|          NULL|    NULL|\n| & WAGE |                NULL|          NULL|          NULL|          NULL|    NULL|\n|  BOARD |                NULL|          NULL|          NULL|          NULL|    NULL|\n| (3400)\"|            OPS & \\n|          NULL|          NULL|          NULL|    NULL|\n|MAINTE- |                NULL|          NULL|          NULL|          NULL|    NULL|\n| NANCE: |                NULL|          NULL|          NULL|          NULL|    NULL|\n|    NON-|                NULL|          NULL|          NULL|          NULL|    NULL|\n|PAY NON-|                NULL|          NULL|          NULL|          NULL|    NULL|\n+--------+--------------------+--------------+--------------+--------------+--------+\nonly showing top 10 rows\n\n+-----------+-------+-------+---------+----------+\n|        _c0|    _c1|    _c2|      _c3|       _c4|\n+-----------+-------+-------+---------+----------+\n|FISCAL YEAR|   ARMY|   NAVY|AIR FORCE|DEFENSE-\\n|\n|     OTHER\"|  TOTAL|   NULL|     NULL|      NULL|\n|       1999| 69,331| 84,398|   80,862|    38,138|\n|       2000| 73,264| 88,509|   83,368|    41,818|\n|       2001| 78,047| 96,117|   90,051|    42,845|\n|       2002| 86,099|101,778|  100,266|    67,235|\n|       2003|122,268|123,887|  125,770|    61,099|\n|       2004|141,551|121,608|  125,353|    67,541|\n|       2005|167,261|133,560|  131,673|    69,981|\n|       2006|176,455|144,596|  140,864|    74,357|\n+-----------+-------+-------+---------+----------+\nonly showing top 10 rows\n\n"
     ]
    }
   ],
   "source": [
    "# Reload CSVs without header=True to inspect the actual structure\n",
    "df_defense_spending = spark.read.csv(\"dbfs:/FileStore/defense_spending_compared_to_gov_spending_on_paying_individuals.csv\", header=False, inferSchema=True)\n",
    "df_airforce_personnel = spark.read.csv(\"dbfs:/FileStore/airforce_personnel_breakdown.csv\", header=False, inferSchema=True)\n",
    "df_military_pay = spark.read.csv(\"dbfs:/FileStore/FY2013_Military_Annual_Composite_Pay.csv\", header=False, inferSchema=True)\n",
    "df_personnel = spark.read.csv(\"dbfs:/FileStore/military_personnel_numbers.csv\", header=False, inferSchema=True)\n",
    "df_officer_pay = spark.read.csv(\"dbfs:/FileStore/officer_enlisted_pay.csv\", header=False, inferSchema=True)\n",
    "df_budget = spark.read.csv(\"dbfs:/FileStore/spending_on_various_af_budget_categories.csv\", header=False, inferSchema=True)\n",
    "df_toa = spark.read.csv(\"dbfs:/FileStore/total_obligational_authority_by_service_component.csv\", header=False, inferSchema=True)\n",
    "\n",
    "# Show first few rows to check the true structure\n",
    "df_defense_spending.show(10)\n",
    "df_airforce_personnel.show(10)\n",
    "df_military_pay.show(10)\n",
    "df_personnel.show(10)\n",
    "df_officer_pay.show(10)\n",
    "df_budget.show(10)\n",
    "df_toa.show(10)\n"
   ]
  },
  {
   "cell_type": "code",
   "execution_count": 0,
   "metadata": {
    "application/vnd.databricks.v1+cell": {
     "cellMetadata": {
      "byteLimit": 2048000,
      "rowLimit": 10000
     },
     "inputWidgets": {},
     "nuid": "41d1c386-63f5-4774-afd0-0a101d509580",
     "showTitle": false,
     "tableResultSettingsMap": {},
     "title": ""
    }
   },
   "outputs": [
    {
     "output_type": "stream",
     "name": "stdout",
     "output_type": "stream",
     "text": [
      "+----+---+\n| _c0|_c1|\n+----+---+\n|1998|3.1|\n|1999|  3|\n|2000|  3|\n|2001|  3|\n|2002|3.3|\n|2003|3.7|\n|2004|3.9|\n|2005|  4|\n|2006|3.9|\n|2007|  4|\n+----+---+\nonly showing top 10 rows\n\n+----+-----+\n| _c0|  _c1|\n+----+-----+\n|1998|4,447|\n|1999|4,413|\n|2000|4,401|\n|2001|4,339|\n|2002|4,387|\n|2003|4,328|\n|2004|4,284|\n|2005|4,273|\n|2006|4,166|\n|2007|3,876|\n+----+-----+\nonly showing top 10 rows\n\n+----+---------+\n| _c0|      _c1|\n+----+---------+\n|O-10|$180,375 |\n| O-9|$180,375 |\n| O-8|$165,722 |\n| O-7|$143,601 |\n| O-6|$119,925 |\n| O-5| $97,116 |\n| O-4| $82,261 |\n| O-3| $65,920 |\n| O-2| $50,923 |\n| O-1| $36,530 |\n+----+---------+\nonly showing top 10 rows\n\n+----+-------+-------+-------+------+\n| _c0|    _c1|    _c2|    _c3|   _c4|\n+----+-------+-------+-------+------+\n|1999| 65,773| 78,598| 79,158|37,850|\n|2000| 70,336| 87,204| 82,092|41,602|\n|2001| 73,800| 90,444| 84,827|41,909|\n|2002| 83,319| 98,547| 95,561|54,688|\n|2003|105,248|112,017|111,559|58,517|\n|2004|129,034|120,381|122,162|64,940|\n|2005|152,098|126,088|127,939|68,029|\n|2006|163,336|132,267|132,706|70,967|\n|2007|179,379|139,141|135,262|75,306|\n|2008|211,682|152,459|144,983|85,475|\n+----+-------+-------+-------+------+\nonly showing top 10 rows\n\n+-----+--------+---------+---------+---------+---------+---------+---------+\n|  _c0|     _c1|      _c2|      _c3|      _c4|      _c5|      _c6|      _c7|\n+-----+--------+---------+---------+---------+---------+---------+---------+\n|O-101|    NULL|     NULL|     NULL|     NULL|     NULL|     NULL|     NULL|\n| O-91|    NULL|     NULL|     NULL|     NULL|     NULL|     NULL|     NULL|\n| O-81|9,847.80|10,170.30|10,384.50|10,444.20|10,711.50|11,157.60|11,261.40|\n| O-71|8,182.50| 8,562.90| 8,738.70| 8,878.50| 9,131.70| 9,381.90| 9,671.10|\n| O-62|6,064.80| 6,663.00| 7,100.10| 7,100.10| 7,127.10| 7,432.80| 7,473.00|\n|  O-5|5,055.90| 5,695.50| 6,089.70| 6,164.10| 6,410.10| 6,557.10| 6,880.80|\n|  O-4|4,362.30| 5,049.90| 5,386.80| 5,461.80| 5,774.70| 6,109.80| 6,527.70|\n|  O-3|3,835.50| 4,347.90| 4,692.90| 5,116.50| 5,361.60| 5,630.70| 5,804.70|\n|  O-2|3,314.10| 3,774.30| 4,347.00| 4,493.70| 4,586.40| 4,586.40| 4,586.40|\n|  O-1|2,876.40| 2,994.00| 3,619.20| 3,619.20| 3,619.20| 3,619.20| 3,619.20|\n+-----+--------+---------+---------+---------+---------+---------+---------+\nonly showing top 10 rows\n\n+----+-----+-----+-----+-----+-----+\n| _c0|  _c1|  _c2|  _c3|  _c4|  _c5|\n+----+-----+-----+-----+-----+-----+\n|1999|0.618|0.666|0.622|0.582|0.669|\n|2000|0.646|0.694| 0.65| 0.64|0.699|\n|2001|0.672|0.715|0.675| 0.62|0.727|\n|2002|0.713|0.757|0.717|0.673|0.759|\n|2003| 0.75|0.788|0.753|0.641|0.791|\n|2004|0.782|0.815|0.785|0.661|0.824|\n|2005|0.811| 0.84|0.814|0.695|0.854|\n|2006|0.837|0.862|0.839|0.691|0.881|\n|2007|0.857|0.878|0.859|0.708|0.903|\n|2008|0.884|0.904|0.886|0.799|0.931|\n+----+-----+-----+-----+-----+-----+\nonly showing top 10 rows\n\n+----+-------+-------+-------+------+\n| _c0|    _c1|    _c2|    _c3|   _c4|\n+----+-------+-------+-------+------+\n|1999| 69,331| 84,398| 80,862|38,138|\n|2000| 73,264| 88,509| 83,368|41,818|\n|2001| 78,047| 96,117| 90,051|42,845|\n|2002| 86,099|101,778|100,266|67,235|\n|2003|122,268|123,887|125,770|61,099|\n|2004|141,551|121,608|125,353|67,541|\n|2005|167,261|133,560|131,673|69,981|\n|2006|176,455|144,596|140,864|74,357|\n|2007|221,133|150,834|149,348|82,557|\n|2008|250,603|164,893|159,729|96,830|\n+----+-------+-------+-------+------+\nonly showing top 10 rows\n\n"
     ]
    }
   ],
   "source": [
    "# Remove rows that contain extra headers by filtering fiscal years\n",
    "df_defense_spending_cleaned = df_defense_spending.filter(df_defense_spending[\"_c0\"].rlike(\"^[0-9]{4}$\"))\n",
    "df_airforce_personnel_cleaned = df_airforce_personnel.filter(df_airforce_personnel[\"_c0\"].rlike(\"^[0-9]{4}$\"))\n",
    "df_military_pay_cleaned = df_military_pay.filter(df_military_pay[\"_c0\"].rlike(\"^[A-Z]-[0-9]+$\"))\n",
    "df_personnel_cleaned = df_personnel.filter(df_personnel[\"_c0\"].rlike(\"^[0-9]{4}$\"))\n",
    "df_officer_pay_cleaned = df_officer_pay.filter(df_officer_pay[\"_c0\"].rlike(\"^[A-Z]-[0-9]+$\"))\n",
    "df_budget_cleaned = df_budget.filter(df_budget[\"_c0\"].rlike(\"^[0-9]{4}$\"))\n",
    "df_toa_cleaned = df_toa.filter(df_toa[\"_c0\"].rlike(\"^[0-9]{4}$\"))\n",
    "\n",
    "# Verify cleaned data\n",
    "df_defense_spending_cleaned.show(10)\n",
    "df_airforce_personnel_cleaned.show(10)\n",
    "df_military_pay_cleaned.show(10)\n",
    "df_personnel_cleaned.show(10)\n",
    "df_officer_pay_cleaned.show(10)\n",
    "df_budget_cleaned.show(10)\n",
    "df_toa_cleaned.show(10)\n"
   ]
  },
  {
   "cell_type": "code",
   "execution_count": 0,
   "metadata": {
    "application/vnd.databricks.v1+cell": {
     "cellMetadata": {
      "byteLimit": 2048000,
      "rowLimit": 10000
     },
     "inputWidgets": {},
     "nuid": "eeb7dc5b-8c11-41a2-9fb4-a02b288e48a3",
     "showTitle": false,
     "tableResultSettingsMap": {},
     "title": ""
    }
   },
   "outputs": [
    {
     "output_type": "stream",
     "name": "stdout",
     "output_type": "stream",
     "text": [
      "+----+---+\n|_c0 |_c1|\n+----+---+\n|1998|3.1|\n|1999|3  |\n|2000|3  |\n|2001|3  |\n|2002|3.3|\n|2003|3.7|\n|2004|3.9|\n|2005|4  |\n|2006|3.9|\n|2007|4  |\n+----+---+\nonly showing top 10 rows\n\n"
     ]
    }
   ],
   "source": [
    "df_defense_spending_cleaned.show(10, truncate=False)\n",
    "\n"
   ]
  },
  {
   "cell_type": "code",
   "execution_count": 0,
   "metadata": {
    "application/vnd.databricks.v1+cell": {
     "cellMetadata": {
      "byteLimit": 2048000,
      "rowLimit": 10000
     },
     "inputWidgets": {},
     "nuid": "15c06fee-a6fd-4573-a9c2-22511f927551",
     "showTitle": false,
     "tableResultSettingsMap": {},
     "title": ""
    }
   },
   "outputs": [],
   "source": [
    "df_defense_spending_cleaned = df_defense_spending_cleaned.toDF(\"fiscal_year\", \"national_defense_outlays\")\n"
   ]
  },
  {
   "cell_type": "code",
   "execution_count": 0,
   "metadata": {
    "application/vnd.databricks.v1+cell": {
     "cellMetadata": {
      "byteLimit": 2048000,
      "rowLimit": 10000
     },
     "inputWidgets": {},
     "nuid": "d0f06dc1-0a2c-487b-96ae-74e3d29d23b6",
     "showTitle": false,
     "tableResultSettingsMap": {},
     "title": ""
    }
   },
   "outputs": [],
   "source": [
    "from pyspark.sql.functions import col\n",
    "\n",
    "df_defense_spending_cleaned = df_defense_spending_cleaned \\\n",
    "    .withColumn(\"fiscal_year\", col(\"fiscal_year\").cast(\"int\")) \\\n",
    "    .withColumn(\"national_defense_outlays\", col(\"national_defense_outlays\").cast(\"double\"))\n"
   ]
  },
  {
   "cell_type": "code",
   "execution_count": 0,
   "metadata": {
    "application/vnd.databricks.v1+cell": {
     "cellMetadata": {
      "byteLimit": 2048000,
      "rowLimit": 10000
     },
     "inputWidgets": {},
     "nuid": "84fce94f-f1a2-42d4-b902-e930156de596",
     "showTitle": false,
     "tableResultSettingsMap": {},
     "title": ""
    }
   },
   "outputs": [
    {
     "output_type": "stream",
     "name": "stdout",
     "output_type": "stream",
     "text": [
      "root\n |-- fiscal_year: integer (nullable = true)\n |-- national_defense_outlays: double (nullable = true)\n\n+-----------+------------------------+\n|fiscal_year|national_defense_outlays|\n+-----------+------------------------+\n|       1998|                     3.1|\n|       1999|                     3.0|\n|       2000|                     3.0|\n|       2001|                     3.0|\n|       2002|                     3.3|\n|       2003|                     3.7|\n|       2004|                     3.9|\n|       2005|                     4.0|\n|       2006|                     3.9|\n|       2007|                     4.0|\n+-----------+------------------------+\nonly showing top 10 rows\n\n"
     ]
    }
   ],
   "source": [
    "df_defense_spending_cleaned.printSchema()\n",
    "df_defense_spending_cleaned.show(10)\n"
   ]
  },
  {
   "cell_type": "code",
   "execution_count": 0,
   "metadata": {
    "application/vnd.databricks.v1+cell": {
     "cellMetadata": {
      "byteLimit": 2048000,
      "rowLimit": 10000
     },
     "inputWidgets": {},
     "nuid": "42d225f4-3842-49e5-89a2-8906491ebd02",
     "showTitle": false,
     "tableResultSettingsMap": {},
     "title": ""
    }
   },
   "outputs": [
    {
     "output_type": "stream",
     "name": "stdout",
     "output_type": "stream",
     "text": [
      "root\n |-- _c0: string (nullable = true)\n |-- _c1: string (nullable = true)\n |-- _c2: string (nullable = true)\n |-- _c3: string (nullable = true)\n |-- _c4: string (nullable = true)\n |-- _c5: string (nullable = true)\n |-- _c6: string (nullable = true)\n |-- _c7: string (nullable = true)\n\n+---------+---------+---------+---------+---------+---------+---------+---------+\n|_c0      |_c1      |_c2      |_c3      |_c4      |_c5      |_c6      |_c7      |\n+---------+---------+---------+---------+---------+---------+---------+---------+\n|Pay Grade|2 or less|Over 2   |Over 3   |Over 4   |Over 6   |Over 8   |Over 10  |\n|NULL     |NULL     |NULL     |NULL     |NULL     |NULL     |NULL     |NULL     |\n|O-101    |NULL     |NULL     |NULL     |NULL     |NULL     |NULL     |NULL     |\n|O-91     |NULL     |NULL     |NULL     |NULL     |NULL     |NULL     |NULL     |\n|O-81     |9,847.80 |10,170.30|10,384.50|10,444.20|10,711.50|11,157.60|11,261.40|\n+---------+---------+---------+---------+---------+---------+---------+---------+\nonly showing top 5 rows\n\n"
     ]
    }
   ],
   "source": [
    "# Print schema to see actual column count\n",
    "df_officer_pay.printSchema()\n",
    "\n",
    "# Print first 5 rows to inspect content\n",
    "df_officer_pay.show(5, truncate=False)\n"
   ]
  },
  {
   "cell_type": "code",
   "execution_count": 0,
   "metadata": {
    "application/vnd.databricks.v1+cell": {
     "cellMetadata": {
      "byteLimit": 2048000,
      "rowLimit": 10000
     },
     "inputWidgets": {},
     "nuid": "ef6ddf8a-6c12-4cf7-aadd-999a5ae4113f",
     "showTitle": false,
     "tableResultSettingsMap": {},
     "title": ""
    }
   },
   "outputs": [],
   "source": [
    "df_officer_pay_cleaned = df_officer_pay.filter(~df_officer_pay[\"_c0\"].rlike(\"NULL|Pay Grade\"))\n"
   ]
  },
  {
   "cell_type": "code",
   "execution_count": 0,
   "metadata": {
    "application/vnd.databricks.v1+cell": {
     "cellMetadata": {
      "byteLimit": 2048000,
      "rowLimit": 10000
     },
     "inputWidgets": {},
     "nuid": "a3e6950f-8cfd-4c79-aeda-217e965b4821",
     "showTitle": false,
     "tableResultSettingsMap": {},
     "title": ""
    }
   },
   "outputs": [],
   "source": [
    "df_officer_pay_cleaned = df_officer_pay_cleaned.toDF(\n",
    "    \"pay_grade\", \"pay_under_2\", \"pay_over_2\", \"pay_over_3\", \n",
    "    \"pay_over_4\", \"pay_over_6\", \"pay_over_8\", \"pay_over_10\"\n",
    ")\n"
   ]
  },
  {
   "cell_type": "code",
   "execution_count": 0,
   "metadata": {
    "application/vnd.databricks.v1+cell": {
     "cellMetadata": {
      "byteLimit": 2048000,
      "rowLimit": 10000
     },
     "inputWidgets": {},
     "nuid": "abc134f8-ca77-4445-8db0-56aa5365e7c1",
     "showTitle": false,
     "tableResultSettingsMap": {},
     "title": ""
    }
   },
   "outputs": [],
   "source": [
    "from pyspark.sql.functions import col, regexp_replace\n",
    "\n",
    "df_officer_pay_cleaned = df_officer_pay_cleaned \\\n",
    "    .withColumn(\"pay_under_2\", regexp_replace(col(\"pay_under_2\"), \",\", \"\").cast(\"double\")) \\\n",
    "    .withColumn(\"pay_over_2\", regexp_replace(col(\"pay_over_2\"), \",\", \"\").cast(\"double\")) \\\n",
    "    .withColumn(\"pay_over_3\", regexp_replace(col(\"pay_over_3\"), \",\", \"\").cast(\"double\")) \\\n",
    "    .withColumn(\"pay_over_4\", regexp_replace(col(\"pay_over_4\"), \",\", \"\").cast(\"double\")) \\\n",
    "    .withColumn(\"pay_over_6\", regexp_replace(col(\"pay_over_6\"), \",\", \"\").cast(\"double\")) \\\n",
    "    .withColumn(\"pay_over_8\", regexp_replace(col(\"pay_over_8\"), \",\", \"\").cast(\"double\")) \\\n",
    "    .withColumn(\"pay_over_10\", regexp_replace(col(\"pay_over_10\"), \",\", \"\").cast(\"double\"))\n"
   ]
  },
  {
   "cell_type": "code",
   "execution_count": 0,
   "metadata": {
    "application/vnd.databricks.v1+cell": {
     "cellMetadata": {
      "byteLimit": 2048000,
      "rowLimit": 10000
     },
     "inputWidgets": {},
     "nuid": "284d7e07-836f-4b83-94d1-5eca905e7a54",
     "showTitle": false,
     "tableResultSettingsMap": {},
     "title": ""
    }
   },
   "outputs": [
    {
     "output_type": "stream",
     "name": "stdout",
     "output_type": "stream",
     "text": [
      "root\n |-- pay_grade: string (nullable = true)\n |-- pay_under_2: double (nullable = true)\n |-- pay_over_2: double (nullable = true)\n |-- pay_over_3: double (nullable = true)\n |-- pay_over_4: double (nullable = true)\n |-- pay_over_6: double (nullable = true)\n |-- pay_over_8: double (nullable = true)\n |-- pay_over_10: double (nullable = true)\n\n+---------+-----------+----------+----------+----------+----------+----------+-----------+\n|pay_grade|pay_under_2|pay_over_2|pay_over_3|pay_over_4|pay_over_6|pay_over_8|pay_over_10|\n+---------+-----------+----------+----------+----------+----------+----------+-----------+\n|    O-101|       NULL|      NULL|      NULL|      NULL|      NULL|      NULL|       NULL|\n|     O-91|       NULL|      NULL|      NULL|      NULL|      NULL|      NULL|       NULL|\n|     O-81|     9847.8|   10170.3|   10384.5|   10444.2|   10711.5|   11157.6|    11261.4|\n|     O-71|     8182.5|    8562.9|    8738.7|    8878.5|    9131.7|    9381.9|     9671.1|\n|     O-62|     6064.8|    6663.0|    7100.1|    7100.1|    7127.1|    7432.8|     7473.0|\n|      O-5|     5055.9|    5695.5|    6089.7|    6164.1|    6410.1|    6557.1|     6880.8|\n|      O-4|     4362.3|    5049.9|    5386.8|    5461.8|    5774.7|    6109.8|     6527.7|\n|      O-3|     3835.5|    4347.9|    4692.9|    5116.5|    5361.6|    5630.7|     5804.7|\n|      O-2|     3314.1|    3774.3|    4347.0|    4493.7|    4586.4|    4586.4|     4586.4|\n|      O-1|     2876.4|    2994.0|    3619.2|    3619.2|    3619.2|    3619.2|     3619.2|\n+---------+-----------+----------+----------+----------+----------+----------+-----------+\nonly showing top 10 rows\n\n"
     ]
    }
   ],
   "source": [
    "df_officer_pay_cleaned.printSchema()\n",
    "df_officer_pay_cleaned.show(10)\n"
   ]
  },
  {
   "cell_type": "code",
   "execution_count": 0,
   "metadata": {
    "application/vnd.databricks.v1+cell": {
     "cellMetadata": {
      "byteLimit": 2048000,
      "rowLimit": 10000
     },
     "inputWidgets": {},
     "nuid": "7d5d6e1b-8cbf-41ed-876d-b2a9e4201b76",
     "showTitle": false,
     "tableResultSettingsMap": {},
     "title": ""
    }
   },
   "outputs": [
    {
     "output_type": "stream",
     "name": "stdout",
     "output_type": "stream",
     "text": [
      "+---------+---------+---------+---------+---------+---------+---------+---------+\n|_c0      |_c1      |_c2      |_c3      |_c4      |_c5      |_c6      |_c7      |\n+---------+---------+---------+---------+---------+---------+---------+---------+\n|Pay Grade|2 or less|Over 2   |Over 3   |Over 4   |Over 6   |Over 8   |Over 10  |\n|NULL     |NULL     |NULL     |NULL     |NULL     |NULL     |NULL     |NULL     |\n|O-101    |NULL     |NULL     |NULL     |NULL     |NULL     |NULL     |NULL     |\n|O-91     |NULL     |NULL     |NULL     |NULL     |NULL     |NULL     |NULL     |\n|O-81     |9,847.80 |10,170.30|10,384.50|10,444.20|10,711.50|11,157.60|11,261.40|\n+---------+---------+---------+---------+---------+---------+---------+---------+\nonly showing top 5 rows\n\n+-----------+------+------+---------+----------+\n|_c0        |_c1   |_c2   |_c3      |_c4       |\n+-----------+------+------+---------+----------+\n|FISCAL YEAR|ARMY  |NAVY  |AIR FORCE|DEFENSE-\\n|\n|OTHER\"     |TOTAL |NULL  |NULL     |NULL      |\n|1999       |65,773|78,598|79,158   |37,850    |\n|2000       |70,336|87,204|82,092   |41,602    |\n|2001       |73,800|90,444|84,827   |41,909    |\n+-----------+------+------+---------+----------+\nonly showing top 5 rows\n\n+--------+---------------------+--------------+--------------+--------------+--------+\n|_c0     |_c1                  |_c2           |_c3           |_c4           |_c5     |\n+--------+---------------------+--------------+--------------+--------------+--------+\n|FY      |MILITARY COMPENSATION|Unknown_Column|Unknown_Column|Unknown_Column|GENERA\\n|\n|L       |NULL                 |NULL          |NULL          |NULL          |NULL    |\n|SERVICE |NULL                 |NULL          |NULL          |NULL          |NULL    |\n|& WAGE  |NULL                 |NULL          |NULL          |NULL          |NULL    |\n|BOARD   |NULL                 |NULL          |NULL          |NULL          |NULL    |\n+--------+---------------------+--------------+--------------+--------------+--------+\nonly showing top 5 rows\n\n+-----------+------+------+---------+----------+\n|_c0        |_c1   |_c2   |_c3      |_c4       |\n+-----------+------+------+---------+----------+\n|FISCAL YEAR|ARMY  |NAVY  |AIR FORCE|DEFENSE-\\n|\n|OTHER\"     |TOTAL |NULL  |NULL     |NULL      |\n|1999       |69,331|84,398|80,862   |38,138    |\n|2000       |73,264|88,509|83,368   |41,818    |\n|2001       |78,047|96,117|90,051   |42,845    |\n+-----------+------+------+---------+----------+\nonly showing top 5 rows\n\n"
     ]
    }
   ],
   "source": [
    "df_officer_pay.show(5, truncate=False)\n",
    "df_personnel.show(5, truncate=False)\n",
    "df_budget.show(5, truncate=False)\n",
    "df_toa.show(5, truncate=False)"
   ]
  },
  {
   "cell_type": "code",
   "execution_count": 0,
   "metadata": {
    "application/vnd.databricks.v1+cell": {
     "cellMetadata": {
      "byteLimit": 2048000,
      "rowLimit": 10000
     },
     "inputWidgets": {},
     "nuid": "b8080f3e-9b3e-4911-be35-e6a982f88132",
     "showTitle": false,
     "tableResultSettingsMap": {},
     "title": ""
    }
   },
   "outputs": [],
   "source": [
    "df_budget_cleaned = df_budget.filter(~df_budget[\"_c0\"].rlike(\"NULL|FY|L|SERVICE|& WAGE|BOARD\"))\n",
    "\n"
   ]
  },
  {
   "cell_type": "code",
   "execution_count": 0,
   "metadata": {
    "application/vnd.databricks.v1+cell": {
     "cellMetadata": {
      "byteLimit": 2048000,
      "rowLimit": 10000
     },
     "inputWidgets": {},
     "nuid": "f985d17a-06b6-4eff-a1d6-659f4972d416",
     "showTitle": false,
     "tableResultSettingsMap": {},
     "title": ""
    }
   },
   "outputs": [],
   "source": [
    "df_budget_cleaned = df_budget_cleaned.toDF(\n",
    "    \"fiscal_year\", \"military_compensation\", \"budget_category_1\",\n",
    "    \"budget_category_2\", \"budget_category_3\", \"general_service_wage_board\"\n",
    ")\n"
   ]
  },
  {
   "cell_type": "code",
   "execution_count": 0,
   "metadata": {
    "application/vnd.databricks.v1+cell": {
     "cellMetadata": {
      "byteLimit": 2048000,
      "rowLimit": 10000
     },
     "inputWidgets": {},
     "nuid": "35b74dbc-4273-491e-aac4-cebaea066c35",
     "showTitle": false,
     "tableResultSettingsMap": {},
     "title": ""
    }
   },
   "outputs": [
    {
     "output_type": "stream",
     "name": "stdout",
     "output_type": "stream",
     "text": [
      "root\n |-- fiscal_year: string (nullable = true)\n |-- military_compensation: string (nullable = true)\n |-- budget_category_1: string (nullable = true)\n |-- budget_category_2: string (nullable = true)\n |-- budget_category_3: string (nullable = true)\n |-- general_service_wage_board: string (nullable = true)\n\n+-----------+---------------------+-----------------+-----------------+-----------------+--------------------------+\n|fiscal_year|military_compensation|budget_category_1|budget_category_2|budget_category_3|general_service_wage_board|\n+-----------+---------------------+-----------------+-----------------+-----------------+--------------------------+\n|    (3400)\"|             OPS & \\n|             NULL|             NULL|             NULL|                      NULL|\n|   MAINTE- |                 NULL|             NULL|             NULL|             NULL|                      NULL|\n|    NANCE: |                 NULL|             NULL|             NULL|             NULL|                      NULL|\n|       NON-|                 NULL|             NULL|             NULL|             NULL|                      NULL|\n|   PAY NON-|                 NULL|             NULL|             NULL|             NULL|                      NULL|\n+-----------+---------------------+-----------------+-----------------+-----------------+--------------------------+\nonly showing top 5 rows\n\n"
     ]
    }
   ],
   "source": [
    "df_budget_cleaned.printSchema()\n",
    "df_budget_cleaned.show(5)\n"
   ]
  },
  {
   "cell_type": "code",
   "execution_count": 0,
   "metadata": {
    "application/vnd.databricks.v1+cell": {
     "cellMetadata": {
      "byteLimit": 2048000,
      "rowLimit": 10000
     },
     "inputWidgets": {},
     "nuid": "0f21a619-b4d2-45c0-9345-6d2839990ac7",
     "showTitle": false,
     "tableResultSettingsMap": {},
     "title": ""
    }
   },
   "outputs": [
    {
     "output_type": "stream",
     "name": "stdout",
     "output_type": "stream",
     "text": [
      "root\n |-- _c0: string (nullable = true)\n |-- _c1: string (nullable = true)\n |-- _c2: string (nullable = true)\n |-- _c3: string (nullable = true)\n |-- _c4: string (nullable = true)\n\n+----+-------+-------+-------+------+\n|_c0 |_c1    |_c2    |_c3    |_c4   |\n+----+-------+-------+-------+------+\n|1999|69,331 |84,398 |80,862 |38,138|\n|2000|73,264 |88,509 |83,368 |41,818|\n|2001|78,047 |96,117 |90,051 |42,845|\n|2002|86,099 |101,778|100,266|67,235|\n|2003|122,268|123,887|125,770|61,099|\n+----+-------+-------+-------+------+\nonly showing top 5 rows\n\n"
     ]
    }
   ],
   "source": [
    "df_toa_cleaned.printSchema()\n",
    "df_toa_cleaned.show(5, truncate=False)"
   ]
  },
  {
   "cell_type": "code",
   "execution_count": 0,
   "metadata": {
    "application/vnd.databricks.v1+cell": {
     "cellMetadata": {
      "byteLimit": 2048000,
      "rowLimit": 10000
     },
     "inputWidgets": {},
     "nuid": "4e313244-bfb6-4dcf-b187-d400831ba61a",
     "showTitle": false,
     "tableResultSettingsMap": {},
     "title": ""
    }
   },
   "outputs": [],
   "source": [
    "df_toa_cleaned = df_toa.toDF(\n",
    "    \"fiscal_year\", \"army\", \"navy\", \"air_force\", \"defense_other\"\n",
    ")\n"
   ]
  },
  {
   "cell_type": "code",
   "execution_count": 0,
   "metadata": {
    "application/vnd.databricks.v1+cell": {
     "cellMetadata": {
      "byteLimit": 2048000,
      "rowLimit": 10000
     },
     "inputWidgets": {},
     "nuid": "a97075bb-3ba0-4542-96c3-851ad4c225b6",
     "showTitle": false,
     "tableResultSettingsMap": {},
     "title": ""
    }
   },
   "outputs": [
    {
     "output_type": "stream",
     "name": "stdout",
     "output_type": "stream",
     "text": [
      "Columns in df_personnel_cleaned:\nroot\n |-- _c0: string (nullable = true)\n |-- _c1: string (nullable = true)\n |-- _c2: string (nullable = true)\n |-- _c3: string (nullable = true)\n |-- _c4: string (nullable = true)\n\nColumns in df_budget_cleaned:\nroot\n |-- fiscal_year: string (nullable = true)\n |-- military_compensation: string (nullable = true)\n |-- budget_category_1: string (nullable = true)\n |-- budget_category_2: string (nullable = true)\n |-- budget_category_3: string (nullable = true)\n |-- general_service_wage_board: string (nullable = true)\n\nColumns in df_toa_cleaned:\nroot\n |-- fiscal_year: string (nullable = true)\n |-- army: string (nullable = true)\n |-- navy: string (nullable = true)\n |-- air_force: string (nullable = true)\n |-- defense_other: string (nullable = true)\n\n"
     ]
    }
   ],
   "source": [
    "print(\"Columns in df_personnel_cleaned:\")\n",
    "df_personnel_cleaned.printSchema()\n",
    "\n",
    "print(\"Columns in df_budget_cleaned:\")\n",
    "df_budget_cleaned.printSchema()\n",
    "\n",
    "print(\"Columns in df_toa_cleaned:\")\n",
    "df_toa_cleaned.printSchema()\n"
   ]
  },
  {
   "cell_type": "code",
   "execution_count": 0,
   "metadata": {
    "application/vnd.databricks.v1+cell": {
     "cellMetadata": {
      "byteLimit": 2048000,
      "rowLimit": 10000
     },
     "inputWidgets": {},
     "nuid": "a0b43bad-2602-4d87-a792-58c7cc27be05",
     "showTitle": false,
     "tableResultSettingsMap": {},
     "title": ""
    }
   },
   "outputs": [],
   "source": [
    "df_personnel_cleaned = df_personnel_cleaned.toDF(\"fiscal_year\", \"army\", \"navy\", \"air_force\", \"defense_other\")\n"
   ]
  },
  {
   "cell_type": "code",
   "execution_count": 0,
   "metadata": {
    "application/vnd.databricks.v1+cell": {
     "cellMetadata": {
      "byteLimit": 2048000,
      "rowLimit": 10000
     },
     "inputWidgets": {},
     "nuid": "037bc636-f68e-4aae-a9e8-7c411f14463b",
     "showTitle": false,
     "tableResultSettingsMap": {},
     "title": ""
    }
   },
   "outputs": [],
   "source": [
    "from pyspark.sql.functions import col, regexp_replace\n",
    "\n",
    "# Convert Officer Pay Data\n",
    "df_officer_pay_cleaned = df_officer_pay_cleaned \\\n",
    "    .withColumn(\"pay_under_2\", regexp_replace(col(\"pay_under_2\"), \",\", \"\").cast(\"double\")) \\\n",
    "    .withColumn(\"pay_over_2\", regexp_replace(col(\"pay_over_2\"), \",\", \"\").cast(\"double\")) \\\n",
    "    .withColumn(\"pay_over_3\", regexp_replace(col(\"pay_over_3\"), \",\", \"\").cast(\"double\")) \\\n",
    "    .withColumn(\"pay_over_4\", regexp_replace(col(\"pay_over_4\"), \",\", \"\").cast(\"double\")) \\\n",
    "    .withColumn(\"pay_over_6\", regexp_replace(col(\"pay_over_6\"), \",\", \"\").cast(\"double\")) \\\n",
    "    .withColumn(\"pay_over_8\", regexp_replace(col(\"pay_over_8\"), \",\", \"\").cast(\"double\")) \\\n",
    "    .withColumn(\"pay_over_10\", regexp_replace(col(\"pay_over_10\"), \",\", \"\").cast(\"double\"))\n",
    "\n",
    "# Convert Budget Data\n",
    "df_budget_cleaned = df_budget_cleaned \\\n",
    "    .withColumn(\"fiscal_year\", col(\"fiscal_year\").cast(\"int\")) \\\n",
    "    .withColumn(\"military_compensation\", col(\"military_compensation\").cast(\"double\")) \\\n",
    "    .withColumn(\"budget_category_1\", col(\"budget_category_1\").cast(\"double\")) \\\n",
    "    .withColumn(\"budget_category_2\", col(\"budget_category_2\").cast(\"double\")) \\\n",
    "    .withColumn(\"budget_category_3\", col(\"budget_category_3\").cast(\"double\"))\n",
    "\n",
    "df_toa_cleaned = df_toa_cleaned \\\n",
    "    .withColumn(\"fiscal_year\", col(\"fiscal_year\").cast(\"int\")) \\\n",
    "    .withColumn(\"army\", regexp_replace(col(\"army\"), \",\", \"\").cast(\"int\")) \\\n",
    "    .withColumn(\"navy\", regexp_replace(col(\"navy\"), \",\", \"\").cast(\"int\")) \\\n",
    "    .withColumn(\"air_force\", regexp_replace(col(\"air_force\"), \",\", \"\").cast(\"int\")) \\\n",
    "    .withColumn(\"defense_other\", regexp_replace(col(\"defense_other\"), \",\", \"\").cast(\"int\"))\n"
   ]
  },
  {
   "cell_type": "code",
   "execution_count": 0,
   "metadata": {
    "application/vnd.databricks.v1+cell": {
     "cellMetadata": {
      "byteLimit": 2048000,
      "rowLimit": 10000
     },
     "inputWidgets": {},
     "nuid": "387b1325-8ee5-4124-9f6a-f778cdbe583e",
     "showTitle": false,
     "tableResultSettingsMap": {},
     "title": ""
    }
   },
   "outputs": [
    {
     "output_type": "stream",
     "name": "stdout",
     "output_type": "stream",
     "text": [
      "root\n |-- pay_grade: string (nullable = true)\n |-- pay_under_2: double (nullable = true)\n |-- pay_over_2: double (nullable = true)\n |-- pay_over_3: double (nullable = true)\n |-- pay_over_4: double (nullable = true)\n |-- pay_over_6: double (nullable = true)\n |-- pay_over_8: double (nullable = true)\n |-- pay_over_10: double (nullable = true)\n\nroot\n |-- fiscal_year: integer (nullable = true)\n |-- army: integer (nullable = true)\n |-- navy: integer (nullable = true)\n |-- air_force: integer (nullable = true)\n |-- defense_other: integer (nullable = true)\n\nroot\n |-- fiscal_year: integer (nullable = true)\n |-- military_compensation: double (nullable = true)\n |-- budget_category_1: double (nullable = true)\n |-- budget_category_2: double (nullable = true)\n |-- budget_category_3: double (nullable = true)\n |-- general_service_wage_board: string (nullable = true)\n\nroot\n |-- fiscal_year: integer (nullable = true)\n |-- army: integer (nullable = true)\n |-- navy: integer (nullable = true)\n |-- air_force: integer (nullable = true)\n |-- defense_other: integer (nullable = true)\n\n+---------+-----------+----------+----------+----------+----------+----------+-----------+\n|pay_grade|pay_under_2|pay_over_2|pay_over_3|pay_over_4|pay_over_6|pay_over_8|pay_over_10|\n+---------+-----------+----------+----------+----------+----------+----------+-----------+\n|    O-101|        0.0|       0.0|       0.0|       0.0|       0.0|       0.0|        0.0|\n|     O-91|        0.0|       0.0|       0.0|       0.0|       0.0|       0.0|        0.0|\n|     O-81|     9847.8|   10170.3|   10384.5|   10444.2|   10711.5|   11157.6|    11261.4|\n|     O-71|     8182.5|    8562.9|    8738.7|    8878.5|    9131.7|    9381.9|     9671.1|\n|     O-62|     6064.8|    6663.0|    7100.1|    7100.1|    7127.1|    7432.8|     7473.0|\n+---------+-----------+----------+----------+----------+----------+----------+-----------+\nonly showing top 5 rows\n\n+-----------+---------------------+-----------------+-----------------+-----------------+--------------------------+\n|fiscal_year|military_compensation|budget_category_1|budget_category_2|budget_category_3|general_service_wage_board|\n+-----------+---------------------+-----------------+-----------------+-----------------+--------------------------+\n|       NULL|                  0.0|              0.0|              0.0|              0.0|                       0.0|\n|       NULL|                  0.0|              0.0|              0.0|              0.0|                       0.0|\n|       NULL|                  0.0|              0.0|              0.0|              0.0|                       0.0|\n|       NULL|                  0.0|              0.0|              0.0|              0.0|                       0.0|\n|       NULL|                  0.0|              0.0|              0.0|              0.0|                       0.0|\n+-----------+---------------------+-----------------+-----------------+-----------------+--------------------------+\nonly showing top 5 rows\n\n+-----------+------+------+---------+-------------+\n|fiscal_year|  army|  navy|air_force|defense_other|\n+-----------+------+------+---------+-------------+\n|       1999| 69331| 84398|    80862|        38138|\n|       2000| 73264| 88509|    83368|        41818|\n|       2001| 78047| 96117|    90051|        42845|\n|       2002| 86099|101778|   100266|        67235|\n|       2003|122268|123887|   125770|        61099|\n+-----------+------+------+---------+-------------+\nonly showing top 5 rows\n\n"
     ]
    }
   ],
   "source": [
    "df_officer_pay_cleaned.printSchema()\n",
    "df_personnel_cleaned.printSchema()\n",
    "df_budget_cleaned.printSchema()\n",
    "df_toa_cleaned.printSchema()\n",
    "\n",
    "df_officer_pay_cleaned.show(5)\n",
    "df_budget_cleaned.show(5)\n",
    "df_toa_cleaned.show(5)\n"
   ]
  },
  {
   "cell_type": "code",
   "execution_count": 0,
   "metadata": {
    "application/vnd.databricks.v1+cell": {
     "cellMetadata": {},
     "inputWidgets": {},
     "nuid": "93824240-7ade-4768-9825-cbeb6ec09f05",
     "showTitle": false,
     "tableResultSettingsMap": {},
     "title": ""
    }
   },
   "outputs": [
    {
     "output_type": "display_data",
     "data": {
      "text/html": [
       "<style scoped>\n",
       "  .ansiout {\n",
       "    display: block;\n",
       "    unicode-bidi: embed;\n",
       "    white-space: pre-wrap;\n",
       "    word-wrap: break-word;\n",
       "    word-break: break-all;\n",
       "    font-family: \"Menlo\", \"Monaco\", \"Consolas\", \"Ubuntu Mono\", \"Source Code Pro\", monospace;\n",
       "    font-size: 13px;\n",
       "    color: #555;\n",
       "    margin-left: 4px;\n",
       "    line-height: 19px;\n",
       "  }\n",
       "</style>\n",
       "\u001B[0;31m---------------------------------------------------------------------------\u001B[0m\n",
       "\u001B[0;31mPy4JJavaError\u001B[0m                             Traceback (most recent call last)\n",
       "File \u001B[0;32m<command-718498739267178>, line 4\u001B[0m\n",
       "\u001B[1;32m      1\u001B[0m df_personnel_cleaned \u001B[38;5;241m=\u001B[39m df_personnel_cleaned\u001B[38;5;241m.\u001B[39mfilter(col(\u001B[38;5;124m\"\u001B[39m\u001B[38;5;124mfiscal_year\u001B[39m\u001B[38;5;124m\"\u001B[39m)\u001B[38;5;241m.\u001B[39misNotNull())\n",
       "\u001B[1;32m      2\u001B[0m df_toa_cleaned \u001B[38;5;241m=\u001B[39m df_toa_cleaned\u001B[38;5;241m.\u001B[39mfilter(col(\u001B[38;5;124m\"\u001B[39m\u001B[38;5;124mfiscal_year\u001B[39m\u001B[38;5;124m\"\u001B[39m)\u001B[38;5;241m.\u001B[39misNotNull())\n",
       "\u001B[0;32m----> 4\u001B[0m df_personnel_cleaned\u001B[38;5;241m.\u001B[39mshow(\u001B[38;5;241m5\u001B[39m)\n",
       "\u001B[1;32m      5\u001B[0m df_toa_cleaned\u001B[38;5;241m.\u001B[39mshow(\u001B[38;5;241m5\u001B[39m)\n",
       "\n",
       "File \u001B[0;32m/databricks/spark/python/pyspark/instrumentation_utils.py:47\u001B[0m, in \u001B[0;36m_wrap_function.<locals>.wrapper\u001B[0;34m(*args, **kwargs)\u001B[0m\n",
       "\u001B[1;32m     45\u001B[0m start \u001B[38;5;241m=\u001B[39m time\u001B[38;5;241m.\u001B[39mperf_counter()\n",
       "\u001B[1;32m     46\u001B[0m \u001B[38;5;28;01mtry\u001B[39;00m:\n",
       "\u001B[0;32m---> 47\u001B[0m     res \u001B[38;5;241m=\u001B[39m \u001B[43mfunc\u001B[49m\u001B[43m(\u001B[49m\u001B[38;5;241;43m*\u001B[39;49m\u001B[43margs\u001B[49m\u001B[43m,\u001B[49m\u001B[43m \u001B[49m\u001B[38;5;241;43m*\u001B[39;49m\u001B[38;5;241;43m*\u001B[39;49m\u001B[43mkwargs\u001B[49m\u001B[43m)\u001B[49m\n",
       "\u001B[1;32m     48\u001B[0m     logger\u001B[38;5;241m.\u001B[39mlog_success(\n",
       "\u001B[1;32m     49\u001B[0m         module_name, class_name, function_name, time\u001B[38;5;241m.\u001B[39mperf_counter() \u001B[38;5;241m-\u001B[39m start, signature\n",
       "\u001B[1;32m     50\u001B[0m     )\n",
       "\u001B[1;32m     51\u001B[0m     \u001B[38;5;28;01mreturn\u001B[39;00m res\n",
       "\n",
       "File \u001B[0;32m/databricks/spark/python/pyspark/sql/dataframe.py:1061\u001B[0m, in \u001B[0;36mDataFrame.show\u001B[0;34m(self, n, truncate, vertical)\u001B[0m\n",
       "\u001B[1;32m    972\u001B[0m \u001B[38;5;28;01mdef\u001B[39;00m \u001B[38;5;21mshow\u001B[39m(\u001B[38;5;28mself\u001B[39m, n: \u001B[38;5;28mint\u001B[39m \u001B[38;5;241m=\u001B[39m \u001B[38;5;241m20\u001B[39m, truncate: Union[\u001B[38;5;28mbool\u001B[39m, \u001B[38;5;28mint\u001B[39m] \u001B[38;5;241m=\u001B[39m \u001B[38;5;28;01mTrue\u001B[39;00m, vertical: \u001B[38;5;28mbool\u001B[39m \u001B[38;5;241m=\u001B[39m \u001B[38;5;28;01mFalse\u001B[39;00m) \u001B[38;5;241m-\u001B[39m\u001B[38;5;241m>\u001B[39m \u001B[38;5;28;01mNone\u001B[39;00m:\n",
       "\u001B[1;32m    973\u001B[0m     \u001B[38;5;124;03m\"\"\"\u001B[39;00m\n",
       "\u001B[1;32m    974\u001B[0m \u001B[38;5;124;03m    Prints the first ``n`` rows of the DataFrame to the console.\u001B[39;00m\n",
       "\u001B[1;32m    975\u001B[0m \n",
       "\u001B[0;32m   (...)\u001B[0m\n",
       "\u001B[1;32m   1059\u001B[0m \u001B[38;5;124;03m    name | This is a super l...\u001B[39;00m\n",
       "\u001B[1;32m   1060\u001B[0m \u001B[38;5;124;03m    \"\"\"\u001B[39;00m\n",
       "\u001B[0;32m-> 1061\u001B[0m     \u001B[38;5;28mprint\u001B[39m(\u001B[38;5;28;43mself\u001B[39;49m\u001B[38;5;241;43m.\u001B[39;49m\u001B[43m_show_string\u001B[49m\u001B[43m(\u001B[49m\u001B[43mn\u001B[49m\u001B[43m,\u001B[49m\u001B[43m \u001B[49m\u001B[43mtruncate\u001B[49m\u001B[43m,\u001B[49m\u001B[43m \u001B[49m\u001B[43mvertical\u001B[49m\u001B[43m)\u001B[49m)\n",
       "\n",
       "File \u001B[0;32m/databricks/spark/python/pyspark/sql/dataframe.py:1079\u001B[0m, in \u001B[0;36mDataFrame._show_string\u001B[0;34m(self, n, truncate, vertical)\u001B[0m\n",
       "\u001B[1;32m   1073\u001B[0m     \u001B[38;5;28;01mraise\u001B[39;00m PySparkTypeError(\n",
       "\u001B[1;32m   1074\u001B[0m         error_class\u001B[38;5;241m=\u001B[39m\u001B[38;5;124m\"\u001B[39m\u001B[38;5;124mNOT_BOOL\u001B[39m\u001B[38;5;124m\"\u001B[39m,\n",
       "\u001B[1;32m   1075\u001B[0m         message_parameters\u001B[38;5;241m=\u001B[39m{\u001B[38;5;124m\"\u001B[39m\u001B[38;5;124marg_name\u001B[39m\u001B[38;5;124m\"\u001B[39m: \u001B[38;5;124m\"\u001B[39m\u001B[38;5;124mvertical\u001B[39m\u001B[38;5;124m\"\u001B[39m, \u001B[38;5;124m\"\u001B[39m\u001B[38;5;124marg_type\u001B[39m\u001B[38;5;124m\"\u001B[39m: \u001B[38;5;28mtype\u001B[39m(vertical)\u001B[38;5;241m.\u001B[39m\u001B[38;5;18m__name__\u001B[39m},\n",
       "\u001B[1;32m   1076\u001B[0m     )\n",
       "\u001B[1;32m   1078\u001B[0m \u001B[38;5;28;01mif\u001B[39;00m \u001B[38;5;28misinstance\u001B[39m(truncate, \u001B[38;5;28mbool\u001B[39m) \u001B[38;5;129;01mand\u001B[39;00m truncate:\n",
       "\u001B[0;32m-> 1079\u001B[0m     \u001B[38;5;28;01mreturn\u001B[39;00m \u001B[38;5;28;43mself\u001B[39;49m\u001B[38;5;241;43m.\u001B[39;49m\u001B[43m_jdf\u001B[49m\u001B[38;5;241;43m.\u001B[39;49m\u001B[43mshowString\u001B[49m\u001B[43m(\u001B[49m\u001B[43mn\u001B[49m\u001B[43m,\u001B[49m\u001B[43m \u001B[49m\u001B[38;5;241;43m20\u001B[39;49m\u001B[43m,\u001B[49m\u001B[43m \u001B[49m\u001B[43mvertical\u001B[49m\u001B[43m)\u001B[49m\n",
       "\u001B[1;32m   1080\u001B[0m \u001B[38;5;28;01melse\u001B[39;00m:\n",
       "\u001B[1;32m   1081\u001B[0m     \u001B[38;5;28;01mtry\u001B[39;00m:\n",
       "\n",
       "File \u001B[0;32m/databricks/spark/python/lib/py4j-0.10.9.7-src.zip/py4j/java_gateway.py:1355\u001B[0m, in \u001B[0;36mJavaMember.__call__\u001B[0;34m(self, *args)\u001B[0m\n",
       "\u001B[1;32m   1349\u001B[0m command \u001B[38;5;241m=\u001B[39m proto\u001B[38;5;241m.\u001B[39mCALL_COMMAND_NAME \u001B[38;5;241m+\u001B[39m\\\n",
       "\u001B[1;32m   1350\u001B[0m     \u001B[38;5;28mself\u001B[39m\u001B[38;5;241m.\u001B[39mcommand_header \u001B[38;5;241m+\u001B[39m\\\n",
       "\u001B[1;32m   1351\u001B[0m     args_command \u001B[38;5;241m+\u001B[39m\\\n",
       "\u001B[1;32m   1352\u001B[0m     proto\u001B[38;5;241m.\u001B[39mEND_COMMAND_PART\n",
       "\u001B[1;32m   1354\u001B[0m answer \u001B[38;5;241m=\u001B[39m \u001B[38;5;28mself\u001B[39m\u001B[38;5;241m.\u001B[39mgateway_client\u001B[38;5;241m.\u001B[39msend_command(command)\n",
       "\u001B[0;32m-> 1355\u001B[0m return_value \u001B[38;5;241m=\u001B[39m \u001B[43mget_return_value\u001B[49m\u001B[43m(\u001B[49m\n",
       "\u001B[1;32m   1356\u001B[0m \u001B[43m    \u001B[49m\u001B[43manswer\u001B[49m\u001B[43m,\u001B[49m\u001B[43m \u001B[49m\u001B[38;5;28;43mself\u001B[39;49m\u001B[38;5;241;43m.\u001B[39;49m\u001B[43mgateway_client\u001B[49m\u001B[43m,\u001B[49m\u001B[43m \u001B[49m\u001B[38;5;28;43mself\u001B[39;49m\u001B[38;5;241;43m.\u001B[39;49m\u001B[43mtarget_id\u001B[49m\u001B[43m,\u001B[49m\u001B[43m \u001B[49m\u001B[38;5;28;43mself\u001B[39;49m\u001B[38;5;241;43m.\u001B[39;49m\u001B[43mname\u001B[49m\u001B[43m)\u001B[49m\n",
       "\u001B[1;32m   1358\u001B[0m \u001B[38;5;28;01mfor\u001B[39;00m temp_arg \u001B[38;5;129;01min\u001B[39;00m temp_args:\n",
       "\u001B[1;32m   1359\u001B[0m     \u001B[38;5;28;01mif\u001B[39;00m \u001B[38;5;28mhasattr\u001B[39m(temp_arg, \u001B[38;5;124m\"\u001B[39m\u001B[38;5;124m_detach\u001B[39m\u001B[38;5;124m\"\u001B[39m):\n",
       "\n",
       "File \u001B[0;32m/databricks/spark/python/pyspark/errors/exceptions/captured.py:224\u001B[0m, in \u001B[0;36mcapture_sql_exception.<locals>.deco\u001B[0;34m(*a, **kw)\u001B[0m\n",
       "\u001B[1;32m    222\u001B[0m \u001B[38;5;28;01mdef\u001B[39;00m \u001B[38;5;21mdeco\u001B[39m(\u001B[38;5;241m*\u001B[39ma: Any, \u001B[38;5;241m*\u001B[39m\u001B[38;5;241m*\u001B[39mkw: Any) \u001B[38;5;241m-\u001B[39m\u001B[38;5;241m>\u001B[39m Any:\n",
       "\u001B[1;32m    223\u001B[0m     \u001B[38;5;28;01mtry\u001B[39;00m:\n",
       "\u001B[0;32m--> 224\u001B[0m         \u001B[38;5;28;01mreturn\u001B[39;00m \u001B[43mf\u001B[49m\u001B[43m(\u001B[49m\u001B[38;5;241;43m*\u001B[39;49m\u001B[43ma\u001B[49m\u001B[43m,\u001B[49m\u001B[43m \u001B[49m\u001B[38;5;241;43m*\u001B[39;49m\u001B[38;5;241;43m*\u001B[39;49m\u001B[43mkw\u001B[49m\u001B[43m)\u001B[49m\n",
       "\u001B[1;32m    225\u001B[0m     \u001B[38;5;28;01mexcept\u001B[39;00m Py4JJavaError \u001B[38;5;28;01mas\u001B[39;00m e:\n",
       "\u001B[1;32m    226\u001B[0m         converted \u001B[38;5;241m=\u001B[39m convert_exception(e\u001B[38;5;241m.\u001B[39mjava_exception)\n",
       "\n",
       "File \u001B[0;32m/databricks/spark/python/lib/py4j-0.10.9.7-src.zip/py4j/protocol.py:326\u001B[0m, in \u001B[0;36mget_return_value\u001B[0;34m(answer, gateway_client, target_id, name)\u001B[0m\n",
       "\u001B[1;32m    324\u001B[0m value \u001B[38;5;241m=\u001B[39m OUTPUT_CONVERTER[\u001B[38;5;28mtype\u001B[39m](answer[\u001B[38;5;241m2\u001B[39m:], gateway_client)\n",
       "\u001B[1;32m    325\u001B[0m \u001B[38;5;28;01mif\u001B[39;00m answer[\u001B[38;5;241m1\u001B[39m] \u001B[38;5;241m==\u001B[39m REFERENCE_TYPE:\n",
       "\u001B[0;32m--> 326\u001B[0m     \u001B[38;5;28;01mraise\u001B[39;00m Py4JJavaError(\n",
       "\u001B[1;32m    327\u001B[0m         \u001B[38;5;124m\"\u001B[39m\u001B[38;5;124mAn error occurred while calling \u001B[39m\u001B[38;5;132;01m{0}\u001B[39;00m\u001B[38;5;132;01m{1}\u001B[39;00m\u001B[38;5;132;01m{2}\u001B[39;00m\u001B[38;5;124m.\u001B[39m\u001B[38;5;130;01m\\n\u001B[39;00m\u001B[38;5;124m\"\u001B[39m\u001B[38;5;241m.\u001B[39m\n",
       "\u001B[1;32m    328\u001B[0m         \u001B[38;5;28mformat\u001B[39m(target_id, \u001B[38;5;124m\"\u001B[39m\u001B[38;5;124m.\u001B[39m\u001B[38;5;124m\"\u001B[39m, name), value)\n",
       "\u001B[1;32m    329\u001B[0m \u001B[38;5;28;01melse\u001B[39;00m:\n",
       "\u001B[1;32m    330\u001B[0m     \u001B[38;5;28;01mraise\u001B[39;00m Py4JError(\n",
       "\u001B[1;32m    331\u001B[0m         \u001B[38;5;124m\"\u001B[39m\u001B[38;5;124mAn error occurred while calling \u001B[39m\u001B[38;5;132;01m{0}\u001B[39;00m\u001B[38;5;132;01m{1}\u001B[39;00m\u001B[38;5;132;01m{2}\u001B[39;00m\u001B[38;5;124m. Trace:\u001B[39m\u001B[38;5;130;01m\\n\u001B[39;00m\u001B[38;5;132;01m{3}\u001B[39;00m\u001B[38;5;130;01m\\n\u001B[39;00m\u001B[38;5;124m\"\u001B[39m\u001B[38;5;241m.\u001B[39m\n",
       "\u001B[1;32m    332\u001B[0m         \u001B[38;5;28mformat\u001B[39m(target_id, \u001B[38;5;124m\"\u001B[39m\u001B[38;5;124m.\u001B[39m\u001B[38;5;124m\"\u001B[39m, name, value))\n",
       "\n",
       "\u001B[0;31mPy4JJavaError\u001B[0m: An error occurred while calling o5159.showString.\n",
       ": org.apache.spark.SparkException: Job aborted due to stage failure: Task 0 in stage 701.0 failed 1 times, most recent failure: Lost task 0.0 in stage 701.0 (TID 579) (ip-10-172-227-214.us-west-2.compute.internal executor driver): com.databricks.sql.io.FileReadException: Error while reading file dbfs:/FileStore/cleaned_data/personnel_cleaned.parquet/part-00000-tid-4852048928146633512-97b19a53-b783-433f-bb60-8f3aefcd7661-457-1-c000.snappy.parquet. [DEFAULT_FILE_NOT_FOUND] It is possible the underlying files have been updated. You can explicitly invalidate the cache in Spark by running 'REFRESH TABLE tableName' command in SQL or by recreating the Dataset/DataFrame involved. If disk cache is stale or the underlying files have been removed, you can invalidate disk cache manually by restarting the cluster. SQLSTATE: 42K03\n",
       "\tat org.apache.spark.sql.execution.datasources.FileScanRDD$$anon$1$$anon$2.logFileNameAndThrow(FileScanRDD.scala:744)\n",
       "\tat org.apache.spark.sql.execution.datasources.FileScanRDD$$anon$1$$anon$2.getNext(FileScanRDD.scala:667)\n",
       "\tat org.apache.spark.util.NextIterator.hasNext(NextIterator.scala:73)\n",
       "\tat org.apache.spark.sql.execution.datasources.FileScanRDD$$anon$1.$anonfun$prepareNextFile$1(FileScanRDD.scala:922)\n",
       "\tat scala.concurrent.Future$.$anonfun$apply$1(Future.scala:659)\n",
       "\tat scala.util.Success.$anonfun$map$1(Try.scala:255)\n",
       "\tat scala.util.Success.map(Try.scala:213)\n",
       "\tat scala.concurrent.Future.$anonfun$map$1(Future.scala:292)\n",
       "\tat scala.concurrent.impl.Promise.liftedTree1$1(Promise.scala:33)\n",
       "\tat scala.concurrent.impl.Promise.$anonfun$transform$1(Promise.scala:33)\n",
       "\tat scala.concurrent.impl.CallbackRunnable.run(Promise.scala:64)\n",
       "\tat org.apache.spark.util.threads.SparkThreadLocalCapturingRunnable.$anonfun$run$1(SparkThreadLocalForwardingThreadPoolExecutor.scala:134)\n",
       "\tat scala.runtime.java8.JFunction0$mcV$sp.apply(JFunction0$mcV$sp.java:23)\n",
       "\tat com.databricks.spark.util.IdentityClaim$.withClaim(IdentityClaim.scala:48)\n",
       "\tat org.apache.spark.util.threads.SparkThreadLocalCapturingHelper.$anonfun$runWithCaptured$4(SparkThreadLocalForwardingThreadPoolExecutor.scala:91)\n",
       "\tat com.databricks.unity.UCSEphemeralState$Handle.runWith(UCSEphemeralState.scala:45)\n",
       "\tat org.apache.spark.util.threads.SparkThreadLocalCapturingHelper.runWithCaptured(SparkThreadLocalForwardingThreadPoolExecutor.scala:90)\n",
       "\tat org.apache.spark.util.threads.SparkThreadLocalCapturingHelper.runWithCaptured$(SparkThreadLocalForwardingThreadPoolExecutor.scala:67)\n",
       "\tat org.apache.spark.util.threads.SparkThreadLocalCapturingRunnable.runWithCaptured(SparkThreadLocalForwardingThreadPoolExecutor.scala:131)\n",
       "\tat org.apache.spark.util.threads.SparkThreadLocalCapturingRunnable.run(SparkThreadLocalForwardingThreadPoolExecutor.scala:134)\n",
       "\tat java.util.concurrent.ThreadPoolExecutor.runWorker(ThreadPoolExecutor.java:1149)\n",
       "\tat java.util.concurrent.ThreadPoolExecutor$Worker.run(ThreadPoolExecutor.java:624)\n",
       "\tat java.lang.Thread.run(Thread.java:750)\n",
       "Caused by: org.apache.spark.SparkFileNotFoundException: /FileStore/cleaned_data/personnel_cleaned.parquet/part-00000-tid-4852048928146633512-97b19a53-b783-433f-bb60-8f3aefcd7661-457-1-c000.snappy.parquet\n",
       "It is possible the underlying files have been updated. You can explicitly invalidate the cache in Spark by running 'REFRESH TABLE tableName' command in SQL or by recreating the Dataset/DataFrame involved.\n",
       "\tat org.apache.spark.sql.errors.QueryExecutionErrors$.readCurrentFileNotFoundError(QueryExecutionErrors.scala:995)\n",
       "\tat org.apache.spark.sql.execution.datasources.FileScanRDD$$anon$1$$anon$2.getNext(FileScanRDD.scala:665)\n",
       "\t... 21 more\n",
       "\n",
       "Driver stacktrace:\n",
       "\tat org.apache.spark.scheduler.DAGScheduler.failJobAndIndependentStages(DAGScheduler.scala:3874)\n",
       "\tat org.apache.spark.scheduler.DAGScheduler.$anonfun$abortStage$2(DAGScheduler.scala:3796)\n",
       "\tat org.apache.spark.scheduler.DAGScheduler.$anonfun$abortStage$2$adapted(DAGScheduler.scala:3783)\n",
       "\tat scala.collection.mutable.ResizableArray.foreach(ResizableArray.scala:62)\n",
       "\tat scala.collection.mutable.ResizableArray.foreach$(ResizableArray.scala:55)\n",
       "\tat scala.collection.mutable.ArrayBuffer.foreach(ArrayBuffer.scala:49)\n",
       "\tat org.apache.spark.scheduler.DAGScheduler.abortStage(DAGScheduler.scala:3783)\n",
       "\tat org.apache.spark.scheduler.DAGScheduler.$anonfun$handleTaskSetFailed$1(DAGScheduler.scala:1661)\n",
       "\tat org.apache.spark.scheduler.DAGScheduler.$anonfun$handleTaskSetFailed$1$adapted(DAGScheduler.scala:1646)\n",
       "\tat scala.Option.foreach(Option.scala:407)\n",
       "\tat org.apache.spark.scheduler.DAGScheduler.handleTaskSetFailed(DAGScheduler.scala:1646)\n",
       "\tat org.apache.spark.scheduler.DAGSchedulerEventProcessLoop.doOnReceive(DAGScheduler.scala:4120)\n",
       "\tat org.apache.spark.scheduler.DAGSchedulerEventProcessLoop.onReceive(DAGScheduler.scala:4032)\n",
       "\tat org.apache.spark.scheduler.DAGSchedulerEventProcessLoop.onReceive(DAGScheduler.scala:4020)\n",
       "\tat org.apache.spark.util.EventLoop$$anon$1.run(EventLoop.scala:54)\n",
       "\tat org.apache.spark.scheduler.DAGScheduler.$anonfun$runJob$1(DAGScheduler.scala:1323)\n",
       "\tat scala.runtime.java8.JFunction0$mcV$sp.apply(JFunction0$mcV$sp.java:23)\n",
       "\tat com.databricks.spark.util.FrameProfiler$.record(FrameProfiler.scala:94)\n",
       "\tat org.apache.spark.scheduler.DAGScheduler.runJob(DAGScheduler.scala:1311)\n",
       "\tat org.apache.spark.SparkContext.runJobInternal(SparkContext.scala:3082)\n",
       "\tat org.apache.spark.sql.execution.collect.Collector.$anonfun$runSparkJobs$1(Collector.scala:355)\n",
       "\tat scala.runtime.java8.JFunction0$mcV$sp.apply(JFunction0$mcV$sp.java:23)\n",
       "\tat com.databricks.spark.util.FrameProfiler$.record(FrameProfiler.scala:94)\n",
       "\tat org.apache.spark.sql.execution.collect.Collector.runSparkJobs(Collector.scala:299)\n",
       "\tat org.apache.spark.sql.execution.collect.Collector.$anonfun$collect$1(Collector.scala:384)\n",
       "\tat com.databricks.spark.util.FrameProfiler$.record(FrameProfiler.scala:94)\n",
       "\tat org.apache.spark.sql.execution.collect.Collector.collect(Collector.scala:381)\n",
       "\tat org.apache.spark.sql.execution.collect.Collector$.collect(Collector.scala:122)\n",
       "\tat org.apache.spark.sql.execution.collect.Collector$.collect(Collector.scala:131)\n",
       "\tat org.apache.spark.sql.execution.qrc.InternalRowFormat$.collect(cachedSparkResults.scala:94)\n",
       "\tat org.apache.spark.sql.execution.qrc.InternalRowFormat$.collect(cachedSparkResults.scala:90)\n",
       "\tat org.apache.spark.sql.execution.qrc.InternalRowFormat$.collect(cachedSparkResults.scala:78)\n",
       "\tat org.apache.spark.sql.execution.qrc.ResultCacheManager.$anonfun$computeResult$1(ResultCacheManager.scala:546)\n",
       "\tat com.databricks.spark.util.FrameProfiler$.record(FrameProfiler.scala:94)\n",
       "\tat org.apache.spark.sql.execution.qrc.ResultCacheManager.collectResult$1(ResultCacheManager.scala:540)\n",
       "\tat org.apache.spark.sql.execution.qrc.ResultCacheManager.computeResult(ResultCacheManager.scala:557)\n",
       "\tat org.apache.spark.sql.execution.qrc.ResultCacheManager.$anonfun$getOrComputeResultInternal$1(ResultCacheManager.scala:400)\n",
       "\tat scala.Option.getOrElse(Option.scala:189)\n",
       "\tat org.apache.spark.sql.execution.qrc.ResultCacheManager.getOrComputeResultInternal(ResultCacheManager.scala:400)\n",
       "\tat org.apache.spark.sql.execution.qrc.ResultCacheManager.getOrComputeResult(ResultCacheManager.scala:318)\n",
       "\tat org.apache.spark.sql.execution.SparkPlan.$anonfun$executeCollectResult$1(SparkPlan.scala:558)\n",
       "\tat com.databricks.spark.util.FrameProfiler$.record(FrameProfiler.scala:94)\n",
       "\tat org.apache.spark.sql.execution.SparkPlan.executeCollectResult(SparkPlan.scala:555)\n",
       "\tat org.apache.spark.sql.Dataset.collectResult(Dataset.scala:3780)\n",
       "\tat org.apache.spark.sql.Dataset.collectFromPlan(Dataset.scala:4736)\n",
       "\tat org.apache.spark.sql.Dataset.$anonfun$head$1(Dataset.scala:3488)\n",
       "\tat org.apache.spark.sql.Dataset.$anonfun$withAction$3(Dataset.scala:4727)\n",
       "\tat org.apache.spark.sql.execution.QueryExecution$.withInternalError(QueryExecution.scala:1103)\n",
       "\tat org.apache.spark.sql.Dataset.$anonfun$withAction$2(Dataset.scala:4725)\n",
       "\tat org.apache.spark.sql.execution.SQLExecution$.$anonfun$withNewExecutionId0$9(SQLExecution.scala:406)\n",
       "\tat org.apache.spark.sql.execution.SQLExecution$.withSQLConfPropagated(SQLExecution.scala:714)\n",
       "\tat org.apache.spark.sql.execution.SQLExecution$.$anonfun$withNewExecutionId0$1(SQLExecution.scala:278)\n",
       "\tat org.apache.spark.sql.SparkSession.withActive(SparkSession.scala:1175)\n",
       "\tat org.apache.spark.sql.execution.SQLExecution$.withNewExecutionId0(SQLExecution.scala:165)\n",
       "\tat org.apache.spark.sql.execution.SQLExecution$.withNewExecutionId(SQLExecution.scala:651)\n",
       "\tat org.apache.spark.sql.Dataset.withAction(Dataset.scala:4725)\n",
       "\tat org.apache.spark.sql.Dataset.head(Dataset.scala:3488)\n",
       "\tat org.apache.spark.sql.Dataset.take(Dataset.scala:3711)\n",
       "\tat org.apache.spark.sql.Dataset.getRows(Dataset.scala:349)\n",
       "\tat org.apache.spark.sql.Dataset.showString(Dataset.scala:385)\n",
       "\tat sun.reflect.GeneratedMethodAccessor582.invoke(Unknown Source)\n",
       "\tat sun.reflect.DelegatingMethodAccessorImpl.invoke(DelegatingMethodAccessorImpl.java:43)\n",
       "\tat java.lang.reflect.Method.invoke(Method.java:498)\n",
       "\tat py4j.reflection.MethodInvoker.invoke(MethodInvoker.java:244)\n",
       "\tat py4j.reflection.ReflectionEngine.invoke(ReflectionEngine.java:397)\n",
       "\tat py4j.Gateway.invoke(Gateway.java:306)\n",
       "\tat py4j.commands.AbstractCommand.invokeMethod(AbstractCommand.java:132)\n",
       "\tat py4j.commands.CallCommand.execute(CallCommand.java:79)\n",
       "\tat py4j.ClientServerConnection.waitForCommands(ClientServerConnection.java:199)\n",
       "\tat py4j.ClientServerConnection.run(ClientServerConnection.java:119)\n",
       "\tat java.lang.Thread.run(Thread.java:750)\n",
       "Caused by: com.databricks.sql.io.FileReadException: Error while reading file dbfs:/FileStore/cleaned_data/personnel_cleaned.parquet/part-00000-tid-4852048928146633512-97b19a53-b783-433f-bb60-8f3aefcd7661-457-1-c000.snappy.parquet. [DEFAULT_FILE_NOT_FOUND] It is possible the underlying files have been updated. You can explicitly invalidate the cache in Spark by running 'REFRESH TABLE tableName' command in SQL or by recreating the Dataset/DataFrame involved. If disk cache is stale or the underlying files have been removed, you can invalidate disk cache manually by restarting the cluster. SQLSTATE: 42K03\n",
       "\tat org.apache.spark.sql.execution.datasources.FileScanRDD$$anon$1$$anon$2.logFileNameAndThrow(FileScanRDD.scala:744)\n",
       "\tat org.apache.spark.sql.execution.datasources.FileScanRDD$$anon$1$$anon$2.getNext(FileScanRDD.scala:667)\n",
       "\tat org.apache.spark.util.NextIterator.hasNext(NextIterator.scala:73)\n",
       "\tat org.apache.spark.sql.execution.datasources.FileScanRDD$$anon$1.$anonfun$prepareNextFile$1(FileScanRDD.scala:922)\n",
       "\tat scala.concurrent.Future$.$anonfun$apply$1(Future.scala:659)\n",
       "\tat scala.util.Success.$anonfun$map$1(Try.scala:255)\n",
       "\tat scala.util.Success.map(Try.scala:213)\n",
       "\tat scala.concurrent.Future.$anonfun$map$1(Future.scala:292)\n",
       "\tat scala.concurrent.impl.Promise.liftedTree1$1(Promise.scala:33)\n",
       "\tat scala.concurrent.impl.Promise.$anonfun$transform$1(Promise.scala:33)\n",
       "\tat scala.concurrent.impl.CallbackRunnable.run(Promise.scala:64)\n",
       "\tat org.apache.spark.util.threads.SparkThreadLocalCapturingRunnable.$anonfun$run$1(SparkThreadLocalForwardingThreadPoolExecutor.scala:134)\n",
       "\tat scala.runtime.java8.JFunction0$mcV$sp.apply(JFunction0$mcV$sp.java:23)\n",
       "\tat com.databricks.spark.util.IdentityClaim$.withClaim(IdentityClaim.scala:48)\n",
       "\tat org.apache.spark.util.threads.SparkThreadLocalCapturingHelper.$anonfun$runWithCaptured$4(SparkThreadLocalForwardingThreadPoolExecutor.scala:91)\n",
       "\tat com.databricks.unity.UCSEphemeralState$Handle.runWith(UCSEphemeralState.scala:45)\n",
       "\tat org.apache.spark.util.threads.SparkThreadLocalCapturingHelper.runWithCaptured(SparkThreadLocalForwardingThreadPoolExecutor.scala:90)\n",
       "\tat org.apache.spark.util.threads.SparkThreadLocalCapturingHelper.runWithCaptured$(SparkThreadLocalForwardingThreadPoolExecutor.scala:67)\n",
       "\tat org.apache.spark.util.threads.SparkThreadLocalCapturingRunnable.runWithCaptured(SparkThreadLocalForwardingThreadPoolExecutor.scala:131)\n",
       "\tat org.apache.spark.util.threads.SparkThreadLocalCapturingRunnable.run(SparkThreadLocalForwardingThreadPoolExecutor.scala:134)\n",
       "\tat java.util.concurrent.ThreadPoolExecutor.runWorker(ThreadPoolExecutor.java:1149)\n",
       "\tat java.util.concurrent.ThreadPoolExecutor$Worker.run(ThreadPoolExecutor.java:624)\n",
       "\t... 1 more\n",
       "Caused by: org.apache.spark.SparkFileNotFoundException: /FileStore/cleaned_data/personnel_cleaned.parquet/part-00000-tid-4852048928146633512-97b19a53-b783-433f-bb60-8f3aefcd7661-457-1-c000.snappy.parquet\n",
       "It is possible the underlying files have been updated. You can explicitly invalidate the cache in Spark by running 'REFRESH TABLE tableName' command in SQL or by recreating the Dataset/DataFrame involved.\n",
       "\tat org.apache.spark.sql.errors.QueryExecutionErrors$.readCurrentFileNotFoundError(QueryExecutionErrors.scala:995)\n",
       "\tat org.apache.spark.sql.execution.datasources.FileScanRDD$$anon$1$$anon$2.getNext(FileScanRDD.scala:665)\n",
       "\t... 21 more"
      ]
     },
     "metadata": {
      "application/vnd.databricks.v1+output": {
       "arguments": {},
       "data": "\u001B[0;31m---------------------------------------------------------------------------\u001B[0m\n\u001B[0;31mPy4JJavaError\u001B[0m                             Traceback (most recent call last)\nFile \u001B[0;32m<command-718498739267178>, line 4\u001B[0m\n\u001B[1;32m      1\u001B[0m df_personnel_cleaned \u001B[38;5;241m=\u001B[39m df_personnel_cleaned\u001B[38;5;241m.\u001B[39mfilter(col(\u001B[38;5;124m\"\u001B[39m\u001B[38;5;124mfiscal_year\u001B[39m\u001B[38;5;124m\"\u001B[39m)\u001B[38;5;241m.\u001B[39misNotNull())\n\u001B[1;32m      2\u001B[0m df_toa_cleaned \u001B[38;5;241m=\u001B[39m df_toa_cleaned\u001B[38;5;241m.\u001B[39mfilter(col(\u001B[38;5;124m\"\u001B[39m\u001B[38;5;124mfiscal_year\u001B[39m\u001B[38;5;124m\"\u001B[39m)\u001B[38;5;241m.\u001B[39misNotNull())\n\u001B[0;32m----> 4\u001B[0m df_personnel_cleaned\u001B[38;5;241m.\u001B[39mshow(\u001B[38;5;241m5\u001B[39m)\n\u001B[1;32m      5\u001B[0m df_toa_cleaned\u001B[38;5;241m.\u001B[39mshow(\u001B[38;5;241m5\u001B[39m)\n\nFile \u001B[0;32m/databricks/spark/python/pyspark/instrumentation_utils.py:47\u001B[0m, in \u001B[0;36m_wrap_function.<locals>.wrapper\u001B[0;34m(*args, **kwargs)\u001B[0m\n\u001B[1;32m     45\u001B[0m start \u001B[38;5;241m=\u001B[39m time\u001B[38;5;241m.\u001B[39mperf_counter()\n\u001B[1;32m     46\u001B[0m \u001B[38;5;28;01mtry\u001B[39;00m:\n\u001B[0;32m---> 47\u001B[0m     res \u001B[38;5;241m=\u001B[39m \u001B[43mfunc\u001B[49m\u001B[43m(\u001B[49m\u001B[38;5;241;43m*\u001B[39;49m\u001B[43margs\u001B[49m\u001B[43m,\u001B[49m\u001B[43m \u001B[49m\u001B[38;5;241;43m*\u001B[39;49m\u001B[38;5;241;43m*\u001B[39;49m\u001B[43mkwargs\u001B[49m\u001B[43m)\u001B[49m\n\u001B[1;32m     48\u001B[0m     logger\u001B[38;5;241m.\u001B[39mlog_success(\n\u001B[1;32m     49\u001B[0m         module_name, class_name, function_name, time\u001B[38;5;241m.\u001B[39mperf_counter() \u001B[38;5;241m-\u001B[39m start, signature\n\u001B[1;32m     50\u001B[0m     )\n\u001B[1;32m     51\u001B[0m     \u001B[38;5;28;01mreturn\u001B[39;00m res\n\nFile \u001B[0;32m/databricks/spark/python/pyspark/sql/dataframe.py:1061\u001B[0m, in \u001B[0;36mDataFrame.show\u001B[0;34m(self, n, truncate, vertical)\u001B[0m\n\u001B[1;32m    972\u001B[0m \u001B[38;5;28;01mdef\u001B[39;00m \u001B[38;5;21mshow\u001B[39m(\u001B[38;5;28mself\u001B[39m, n: \u001B[38;5;28mint\u001B[39m \u001B[38;5;241m=\u001B[39m \u001B[38;5;241m20\u001B[39m, truncate: Union[\u001B[38;5;28mbool\u001B[39m, \u001B[38;5;28mint\u001B[39m] \u001B[38;5;241m=\u001B[39m \u001B[38;5;28;01mTrue\u001B[39;00m, vertical: \u001B[38;5;28mbool\u001B[39m \u001B[38;5;241m=\u001B[39m \u001B[38;5;28;01mFalse\u001B[39;00m) \u001B[38;5;241m-\u001B[39m\u001B[38;5;241m>\u001B[39m \u001B[38;5;28;01mNone\u001B[39;00m:\n\u001B[1;32m    973\u001B[0m     \u001B[38;5;124;03m\"\"\"\u001B[39;00m\n\u001B[1;32m    974\u001B[0m \u001B[38;5;124;03m    Prints the first ``n`` rows of the DataFrame to the console.\u001B[39;00m\n\u001B[1;32m    975\u001B[0m \n\u001B[0;32m   (...)\u001B[0m\n\u001B[1;32m   1059\u001B[0m \u001B[38;5;124;03m    name | This is a super l...\u001B[39;00m\n\u001B[1;32m   1060\u001B[0m \u001B[38;5;124;03m    \"\"\"\u001B[39;00m\n\u001B[0;32m-> 1061\u001B[0m     \u001B[38;5;28mprint\u001B[39m(\u001B[38;5;28;43mself\u001B[39;49m\u001B[38;5;241;43m.\u001B[39;49m\u001B[43m_show_string\u001B[49m\u001B[43m(\u001B[49m\u001B[43mn\u001B[49m\u001B[43m,\u001B[49m\u001B[43m \u001B[49m\u001B[43mtruncate\u001B[49m\u001B[43m,\u001B[49m\u001B[43m \u001B[49m\u001B[43mvertical\u001B[49m\u001B[43m)\u001B[49m)\n\nFile \u001B[0;32m/databricks/spark/python/pyspark/sql/dataframe.py:1079\u001B[0m, in \u001B[0;36mDataFrame._show_string\u001B[0;34m(self, n, truncate, vertical)\u001B[0m\n\u001B[1;32m   1073\u001B[0m     \u001B[38;5;28;01mraise\u001B[39;00m PySparkTypeError(\n\u001B[1;32m   1074\u001B[0m         error_class\u001B[38;5;241m=\u001B[39m\u001B[38;5;124m\"\u001B[39m\u001B[38;5;124mNOT_BOOL\u001B[39m\u001B[38;5;124m\"\u001B[39m,\n\u001B[1;32m   1075\u001B[0m         message_parameters\u001B[38;5;241m=\u001B[39m{\u001B[38;5;124m\"\u001B[39m\u001B[38;5;124marg_name\u001B[39m\u001B[38;5;124m\"\u001B[39m: \u001B[38;5;124m\"\u001B[39m\u001B[38;5;124mvertical\u001B[39m\u001B[38;5;124m\"\u001B[39m, \u001B[38;5;124m\"\u001B[39m\u001B[38;5;124marg_type\u001B[39m\u001B[38;5;124m\"\u001B[39m: \u001B[38;5;28mtype\u001B[39m(vertical)\u001B[38;5;241m.\u001B[39m\u001B[38;5;18m__name__\u001B[39m},\n\u001B[1;32m   1076\u001B[0m     )\n\u001B[1;32m   1078\u001B[0m \u001B[38;5;28;01mif\u001B[39;00m \u001B[38;5;28misinstance\u001B[39m(truncate, \u001B[38;5;28mbool\u001B[39m) \u001B[38;5;129;01mand\u001B[39;00m truncate:\n\u001B[0;32m-> 1079\u001B[0m     \u001B[38;5;28;01mreturn\u001B[39;00m \u001B[38;5;28;43mself\u001B[39;49m\u001B[38;5;241;43m.\u001B[39;49m\u001B[43m_jdf\u001B[49m\u001B[38;5;241;43m.\u001B[39;49m\u001B[43mshowString\u001B[49m\u001B[43m(\u001B[49m\u001B[43mn\u001B[49m\u001B[43m,\u001B[49m\u001B[43m \u001B[49m\u001B[38;5;241;43m20\u001B[39;49m\u001B[43m,\u001B[49m\u001B[43m \u001B[49m\u001B[43mvertical\u001B[49m\u001B[43m)\u001B[49m\n\u001B[1;32m   1080\u001B[0m \u001B[38;5;28;01melse\u001B[39;00m:\n\u001B[1;32m   1081\u001B[0m     \u001B[38;5;28;01mtry\u001B[39;00m:\n\nFile \u001B[0;32m/databricks/spark/python/lib/py4j-0.10.9.7-src.zip/py4j/java_gateway.py:1355\u001B[0m, in \u001B[0;36mJavaMember.__call__\u001B[0;34m(self, *args)\u001B[0m\n\u001B[1;32m   1349\u001B[0m command \u001B[38;5;241m=\u001B[39m proto\u001B[38;5;241m.\u001B[39mCALL_COMMAND_NAME \u001B[38;5;241m+\u001B[39m\\\n\u001B[1;32m   1350\u001B[0m     \u001B[38;5;28mself\u001B[39m\u001B[38;5;241m.\u001B[39mcommand_header \u001B[38;5;241m+\u001B[39m\\\n\u001B[1;32m   1351\u001B[0m     args_command \u001B[38;5;241m+\u001B[39m\\\n\u001B[1;32m   1352\u001B[0m     proto\u001B[38;5;241m.\u001B[39mEND_COMMAND_PART\n\u001B[1;32m   1354\u001B[0m answer \u001B[38;5;241m=\u001B[39m \u001B[38;5;28mself\u001B[39m\u001B[38;5;241m.\u001B[39mgateway_client\u001B[38;5;241m.\u001B[39msend_command(command)\n\u001B[0;32m-> 1355\u001B[0m return_value \u001B[38;5;241m=\u001B[39m \u001B[43mget_return_value\u001B[49m\u001B[43m(\u001B[49m\n\u001B[1;32m   1356\u001B[0m \u001B[43m    \u001B[49m\u001B[43manswer\u001B[49m\u001B[43m,\u001B[49m\u001B[43m \u001B[49m\u001B[38;5;28;43mself\u001B[39;49m\u001B[38;5;241;43m.\u001B[39;49m\u001B[43mgateway_client\u001B[49m\u001B[43m,\u001B[49m\u001B[43m \u001B[49m\u001B[38;5;28;43mself\u001B[39;49m\u001B[38;5;241;43m.\u001B[39;49m\u001B[43mtarget_id\u001B[49m\u001B[43m,\u001B[49m\u001B[43m \u001B[49m\u001B[38;5;28;43mself\u001B[39;49m\u001B[38;5;241;43m.\u001B[39;49m\u001B[43mname\u001B[49m\u001B[43m)\u001B[49m\n\u001B[1;32m   1358\u001B[0m \u001B[38;5;28;01mfor\u001B[39;00m temp_arg \u001B[38;5;129;01min\u001B[39;00m temp_args:\n\u001B[1;32m   1359\u001B[0m     \u001B[38;5;28;01mif\u001B[39;00m \u001B[38;5;28mhasattr\u001B[39m(temp_arg, \u001B[38;5;124m\"\u001B[39m\u001B[38;5;124m_detach\u001B[39m\u001B[38;5;124m\"\u001B[39m):\n\nFile \u001B[0;32m/databricks/spark/python/pyspark/errors/exceptions/captured.py:224\u001B[0m, in \u001B[0;36mcapture_sql_exception.<locals>.deco\u001B[0;34m(*a, **kw)\u001B[0m\n\u001B[1;32m    222\u001B[0m \u001B[38;5;28;01mdef\u001B[39;00m \u001B[38;5;21mdeco\u001B[39m(\u001B[38;5;241m*\u001B[39ma: Any, \u001B[38;5;241m*\u001B[39m\u001B[38;5;241m*\u001B[39mkw: Any) \u001B[38;5;241m-\u001B[39m\u001B[38;5;241m>\u001B[39m Any:\n\u001B[1;32m    223\u001B[0m     \u001B[38;5;28;01mtry\u001B[39;00m:\n\u001B[0;32m--> 224\u001B[0m         \u001B[38;5;28;01mreturn\u001B[39;00m \u001B[43mf\u001B[49m\u001B[43m(\u001B[49m\u001B[38;5;241;43m*\u001B[39;49m\u001B[43ma\u001B[49m\u001B[43m,\u001B[49m\u001B[43m \u001B[49m\u001B[38;5;241;43m*\u001B[39;49m\u001B[38;5;241;43m*\u001B[39;49m\u001B[43mkw\u001B[49m\u001B[43m)\u001B[49m\n\u001B[1;32m    225\u001B[0m     \u001B[38;5;28;01mexcept\u001B[39;00m Py4JJavaError \u001B[38;5;28;01mas\u001B[39;00m e:\n\u001B[1;32m    226\u001B[0m         converted \u001B[38;5;241m=\u001B[39m convert_exception(e\u001B[38;5;241m.\u001B[39mjava_exception)\n\nFile \u001B[0;32m/databricks/spark/python/lib/py4j-0.10.9.7-src.zip/py4j/protocol.py:326\u001B[0m, in \u001B[0;36mget_return_value\u001B[0;34m(answer, gateway_client, target_id, name)\u001B[0m\n\u001B[1;32m    324\u001B[0m value \u001B[38;5;241m=\u001B[39m OUTPUT_CONVERTER[\u001B[38;5;28mtype\u001B[39m](answer[\u001B[38;5;241m2\u001B[39m:], gateway_client)\n\u001B[1;32m    325\u001B[0m \u001B[38;5;28;01mif\u001B[39;00m answer[\u001B[38;5;241m1\u001B[39m] \u001B[38;5;241m==\u001B[39m REFERENCE_TYPE:\n\u001B[0;32m--> 326\u001B[0m     \u001B[38;5;28;01mraise\u001B[39;00m Py4JJavaError(\n\u001B[1;32m    327\u001B[0m         \u001B[38;5;124m\"\u001B[39m\u001B[38;5;124mAn error occurred while calling \u001B[39m\u001B[38;5;132;01m{0}\u001B[39;00m\u001B[38;5;132;01m{1}\u001B[39;00m\u001B[38;5;132;01m{2}\u001B[39;00m\u001B[38;5;124m.\u001B[39m\u001B[38;5;130;01m\\n\u001B[39;00m\u001B[38;5;124m\"\u001B[39m\u001B[38;5;241m.\u001B[39m\n\u001B[1;32m    328\u001B[0m         \u001B[38;5;28mformat\u001B[39m(target_id, \u001B[38;5;124m\"\u001B[39m\u001B[38;5;124m.\u001B[39m\u001B[38;5;124m\"\u001B[39m, name), value)\n\u001B[1;32m    329\u001B[0m \u001B[38;5;28;01melse\u001B[39;00m:\n\u001B[1;32m    330\u001B[0m     \u001B[38;5;28;01mraise\u001B[39;00m Py4JError(\n\u001B[1;32m    331\u001B[0m         \u001B[38;5;124m\"\u001B[39m\u001B[38;5;124mAn error occurred while calling \u001B[39m\u001B[38;5;132;01m{0}\u001B[39;00m\u001B[38;5;132;01m{1}\u001B[39;00m\u001B[38;5;132;01m{2}\u001B[39;00m\u001B[38;5;124m. Trace:\u001B[39m\u001B[38;5;130;01m\\n\u001B[39;00m\u001B[38;5;132;01m{3}\u001B[39;00m\u001B[38;5;130;01m\\n\u001B[39;00m\u001B[38;5;124m\"\u001B[39m\u001B[38;5;241m.\u001B[39m\n\u001B[1;32m    332\u001B[0m         \u001B[38;5;28mformat\u001B[39m(target_id, \u001B[38;5;124m\"\u001B[39m\u001B[38;5;124m.\u001B[39m\u001B[38;5;124m\"\u001B[39m, name, value))\n\n\u001B[0;31mPy4JJavaError\u001B[0m: An error occurred while calling o5159.showString.\n: org.apache.spark.SparkException: Job aborted due to stage failure: Task 0 in stage 701.0 failed 1 times, most recent failure: Lost task 0.0 in stage 701.0 (TID 579) (ip-10-172-227-214.us-west-2.compute.internal executor driver): com.databricks.sql.io.FileReadException: Error while reading file dbfs:/FileStore/cleaned_data/personnel_cleaned.parquet/part-00000-tid-4852048928146633512-97b19a53-b783-433f-bb60-8f3aefcd7661-457-1-c000.snappy.parquet. [DEFAULT_FILE_NOT_FOUND] It is possible the underlying files have been updated. You can explicitly invalidate the cache in Spark by running 'REFRESH TABLE tableName' command in SQL or by recreating the Dataset/DataFrame involved. If disk cache is stale or the underlying files have been removed, you can invalidate disk cache manually by restarting the cluster. SQLSTATE: 42K03\n\tat org.apache.spark.sql.execution.datasources.FileScanRDD$$anon$1$$anon$2.logFileNameAndThrow(FileScanRDD.scala:744)\n\tat org.apache.spark.sql.execution.datasources.FileScanRDD$$anon$1$$anon$2.getNext(FileScanRDD.scala:667)\n\tat org.apache.spark.util.NextIterator.hasNext(NextIterator.scala:73)\n\tat org.apache.spark.sql.execution.datasources.FileScanRDD$$anon$1.$anonfun$prepareNextFile$1(FileScanRDD.scala:922)\n\tat scala.concurrent.Future$.$anonfun$apply$1(Future.scala:659)\n\tat scala.util.Success.$anonfun$map$1(Try.scala:255)\n\tat scala.util.Success.map(Try.scala:213)\n\tat scala.concurrent.Future.$anonfun$map$1(Future.scala:292)\n\tat scala.concurrent.impl.Promise.liftedTree1$1(Promise.scala:33)\n\tat scala.concurrent.impl.Promise.$anonfun$transform$1(Promise.scala:33)\n\tat scala.concurrent.impl.CallbackRunnable.run(Promise.scala:64)\n\tat org.apache.spark.util.threads.SparkThreadLocalCapturingRunnable.$anonfun$run$1(SparkThreadLocalForwardingThreadPoolExecutor.scala:134)\n\tat scala.runtime.java8.JFunction0$mcV$sp.apply(JFunction0$mcV$sp.java:23)\n\tat com.databricks.spark.util.IdentityClaim$.withClaim(IdentityClaim.scala:48)\n\tat org.apache.spark.util.threads.SparkThreadLocalCapturingHelper.$anonfun$runWithCaptured$4(SparkThreadLocalForwardingThreadPoolExecutor.scala:91)\n\tat com.databricks.unity.UCSEphemeralState$Handle.runWith(UCSEphemeralState.scala:45)\n\tat org.apache.spark.util.threads.SparkThreadLocalCapturingHelper.runWithCaptured(SparkThreadLocalForwardingThreadPoolExecutor.scala:90)\n\tat org.apache.spark.util.threads.SparkThreadLocalCapturingHelper.runWithCaptured$(SparkThreadLocalForwardingThreadPoolExecutor.scala:67)\n\tat org.apache.spark.util.threads.SparkThreadLocalCapturingRunnable.runWithCaptured(SparkThreadLocalForwardingThreadPoolExecutor.scala:131)\n\tat org.apache.spark.util.threads.SparkThreadLocalCapturingRunnable.run(SparkThreadLocalForwardingThreadPoolExecutor.scala:134)\n\tat java.util.concurrent.ThreadPoolExecutor.runWorker(ThreadPoolExecutor.java:1149)\n\tat java.util.concurrent.ThreadPoolExecutor$Worker.run(ThreadPoolExecutor.java:624)\n\tat java.lang.Thread.run(Thread.java:750)\nCaused by: org.apache.spark.SparkFileNotFoundException: /FileStore/cleaned_data/personnel_cleaned.parquet/part-00000-tid-4852048928146633512-97b19a53-b783-433f-bb60-8f3aefcd7661-457-1-c000.snappy.parquet\nIt is possible the underlying files have been updated. You can explicitly invalidate the cache in Spark by running 'REFRESH TABLE tableName' command in SQL or by recreating the Dataset/DataFrame involved.\n\tat org.apache.spark.sql.errors.QueryExecutionErrors$.readCurrentFileNotFoundError(QueryExecutionErrors.scala:995)\n\tat org.apache.spark.sql.execution.datasources.FileScanRDD$$anon$1$$anon$2.getNext(FileScanRDD.scala:665)\n\t... 21 more\n\nDriver stacktrace:\n\tat org.apache.spark.scheduler.DAGScheduler.failJobAndIndependentStages(DAGScheduler.scala:3874)\n\tat org.apache.spark.scheduler.DAGScheduler.$anonfun$abortStage$2(DAGScheduler.scala:3796)\n\tat org.apache.spark.scheduler.DAGScheduler.$anonfun$abortStage$2$adapted(DAGScheduler.scala:3783)\n\tat scala.collection.mutable.ResizableArray.foreach(ResizableArray.scala:62)\n\tat scala.collection.mutable.ResizableArray.foreach$(ResizableArray.scala:55)\n\tat scala.collection.mutable.ArrayBuffer.foreach(ArrayBuffer.scala:49)\n\tat org.apache.spark.scheduler.DAGScheduler.abortStage(DAGScheduler.scala:3783)\n\tat org.apache.spark.scheduler.DAGScheduler.$anonfun$handleTaskSetFailed$1(DAGScheduler.scala:1661)\n\tat org.apache.spark.scheduler.DAGScheduler.$anonfun$handleTaskSetFailed$1$adapted(DAGScheduler.scala:1646)\n\tat scala.Option.foreach(Option.scala:407)\n\tat org.apache.spark.scheduler.DAGScheduler.handleTaskSetFailed(DAGScheduler.scala:1646)\n\tat org.apache.spark.scheduler.DAGSchedulerEventProcessLoop.doOnReceive(DAGScheduler.scala:4120)\n\tat org.apache.spark.scheduler.DAGSchedulerEventProcessLoop.onReceive(DAGScheduler.scala:4032)\n\tat org.apache.spark.scheduler.DAGSchedulerEventProcessLoop.onReceive(DAGScheduler.scala:4020)\n\tat org.apache.spark.util.EventLoop$$anon$1.run(EventLoop.scala:54)\n\tat org.apache.spark.scheduler.DAGScheduler.$anonfun$runJob$1(DAGScheduler.scala:1323)\n\tat scala.runtime.java8.JFunction0$mcV$sp.apply(JFunction0$mcV$sp.java:23)\n\tat com.databricks.spark.util.FrameProfiler$.record(FrameProfiler.scala:94)\n\tat org.apache.spark.scheduler.DAGScheduler.runJob(DAGScheduler.scala:1311)\n\tat org.apache.spark.SparkContext.runJobInternal(SparkContext.scala:3082)\n\tat org.apache.spark.sql.execution.collect.Collector.$anonfun$runSparkJobs$1(Collector.scala:355)\n\tat scala.runtime.java8.JFunction0$mcV$sp.apply(JFunction0$mcV$sp.java:23)\n\tat com.databricks.spark.util.FrameProfiler$.record(FrameProfiler.scala:94)\n\tat org.apache.spark.sql.execution.collect.Collector.runSparkJobs(Collector.scala:299)\n\tat org.apache.spark.sql.execution.collect.Collector.$anonfun$collect$1(Collector.scala:384)\n\tat com.databricks.spark.util.FrameProfiler$.record(FrameProfiler.scala:94)\n\tat org.apache.spark.sql.execution.collect.Collector.collect(Collector.scala:381)\n\tat org.apache.spark.sql.execution.collect.Collector$.collect(Collector.scala:122)\n\tat org.apache.spark.sql.execution.collect.Collector$.collect(Collector.scala:131)\n\tat org.apache.spark.sql.execution.qrc.InternalRowFormat$.collect(cachedSparkResults.scala:94)\n\tat org.apache.spark.sql.execution.qrc.InternalRowFormat$.collect(cachedSparkResults.scala:90)\n\tat org.apache.spark.sql.execution.qrc.InternalRowFormat$.collect(cachedSparkResults.scala:78)\n\tat org.apache.spark.sql.execution.qrc.ResultCacheManager.$anonfun$computeResult$1(ResultCacheManager.scala:546)\n\tat com.databricks.spark.util.FrameProfiler$.record(FrameProfiler.scala:94)\n\tat org.apache.spark.sql.execution.qrc.ResultCacheManager.collectResult$1(ResultCacheManager.scala:540)\n\tat org.apache.spark.sql.execution.qrc.ResultCacheManager.computeResult(ResultCacheManager.scala:557)\n\tat org.apache.spark.sql.execution.qrc.ResultCacheManager.$anonfun$getOrComputeResultInternal$1(ResultCacheManager.scala:400)\n\tat scala.Option.getOrElse(Option.scala:189)\n\tat org.apache.spark.sql.execution.qrc.ResultCacheManager.getOrComputeResultInternal(ResultCacheManager.scala:400)\n\tat org.apache.spark.sql.execution.qrc.ResultCacheManager.getOrComputeResult(ResultCacheManager.scala:318)\n\tat org.apache.spark.sql.execution.SparkPlan.$anonfun$executeCollectResult$1(SparkPlan.scala:558)\n\tat com.databricks.spark.util.FrameProfiler$.record(FrameProfiler.scala:94)\n\tat org.apache.spark.sql.execution.SparkPlan.executeCollectResult(SparkPlan.scala:555)\n\tat org.apache.spark.sql.Dataset.collectResult(Dataset.scala:3780)\n\tat org.apache.spark.sql.Dataset.collectFromPlan(Dataset.scala:4736)\n\tat org.apache.spark.sql.Dataset.$anonfun$head$1(Dataset.scala:3488)\n\tat org.apache.spark.sql.Dataset.$anonfun$withAction$3(Dataset.scala:4727)\n\tat org.apache.spark.sql.execution.QueryExecution$.withInternalError(QueryExecution.scala:1103)\n\tat org.apache.spark.sql.Dataset.$anonfun$withAction$2(Dataset.scala:4725)\n\tat org.apache.spark.sql.execution.SQLExecution$.$anonfun$withNewExecutionId0$9(SQLExecution.scala:406)\n\tat org.apache.spark.sql.execution.SQLExecution$.withSQLConfPropagated(SQLExecution.scala:714)\n\tat org.apache.spark.sql.execution.SQLExecution$.$anonfun$withNewExecutionId0$1(SQLExecution.scala:278)\n\tat org.apache.spark.sql.SparkSession.withActive(SparkSession.scala:1175)\n\tat org.apache.spark.sql.execution.SQLExecution$.withNewExecutionId0(SQLExecution.scala:165)\n\tat org.apache.spark.sql.execution.SQLExecution$.withNewExecutionId(SQLExecution.scala:651)\n\tat org.apache.spark.sql.Dataset.withAction(Dataset.scala:4725)\n\tat org.apache.spark.sql.Dataset.head(Dataset.scala:3488)\n\tat org.apache.spark.sql.Dataset.take(Dataset.scala:3711)\n\tat org.apache.spark.sql.Dataset.getRows(Dataset.scala:349)\n\tat org.apache.spark.sql.Dataset.showString(Dataset.scala:385)\n\tat sun.reflect.GeneratedMethodAccessor582.invoke(Unknown Source)\n\tat sun.reflect.DelegatingMethodAccessorImpl.invoke(DelegatingMethodAccessorImpl.java:43)\n\tat java.lang.reflect.Method.invoke(Method.java:498)\n\tat py4j.reflection.MethodInvoker.invoke(MethodInvoker.java:244)\n\tat py4j.reflection.ReflectionEngine.invoke(ReflectionEngine.java:397)\n\tat py4j.Gateway.invoke(Gateway.java:306)\n\tat py4j.commands.AbstractCommand.invokeMethod(AbstractCommand.java:132)\n\tat py4j.commands.CallCommand.execute(CallCommand.java:79)\n\tat py4j.ClientServerConnection.waitForCommands(ClientServerConnection.java:199)\n\tat py4j.ClientServerConnection.run(ClientServerConnection.java:119)\n\tat java.lang.Thread.run(Thread.java:750)\nCaused by: com.databricks.sql.io.FileReadException: Error while reading file dbfs:/FileStore/cleaned_data/personnel_cleaned.parquet/part-00000-tid-4852048928146633512-97b19a53-b783-433f-bb60-8f3aefcd7661-457-1-c000.snappy.parquet. [DEFAULT_FILE_NOT_FOUND] It is possible the underlying files have been updated. You can explicitly invalidate the cache in Spark by running 'REFRESH TABLE tableName' command in SQL or by recreating the Dataset/DataFrame involved. If disk cache is stale or the underlying files have been removed, you can invalidate disk cache manually by restarting the cluster. SQLSTATE: 42K03\n\tat org.apache.spark.sql.execution.datasources.FileScanRDD$$anon$1$$anon$2.logFileNameAndThrow(FileScanRDD.scala:744)\n\tat org.apache.spark.sql.execution.datasources.FileScanRDD$$anon$1$$anon$2.getNext(FileScanRDD.scala:667)\n\tat org.apache.spark.util.NextIterator.hasNext(NextIterator.scala:73)\n\tat org.apache.spark.sql.execution.datasources.FileScanRDD$$anon$1.$anonfun$prepareNextFile$1(FileScanRDD.scala:922)\n\tat scala.concurrent.Future$.$anonfun$apply$1(Future.scala:659)\n\tat scala.util.Success.$anonfun$map$1(Try.scala:255)\n\tat scala.util.Success.map(Try.scala:213)\n\tat scala.concurrent.Future.$anonfun$map$1(Future.scala:292)\n\tat scala.concurrent.impl.Promise.liftedTree1$1(Promise.scala:33)\n\tat scala.concurrent.impl.Promise.$anonfun$transform$1(Promise.scala:33)\n\tat scala.concurrent.impl.CallbackRunnable.run(Promise.scala:64)\n\tat org.apache.spark.util.threads.SparkThreadLocalCapturingRunnable.$anonfun$run$1(SparkThreadLocalForwardingThreadPoolExecutor.scala:134)\n\tat scala.runtime.java8.JFunction0$mcV$sp.apply(JFunction0$mcV$sp.java:23)\n\tat com.databricks.spark.util.IdentityClaim$.withClaim(IdentityClaim.scala:48)\n\tat org.apache.spark.util.threads.SparkThreadLocalCapturingHelper.$anonfun$runWithCaptured$4(SparkThreadLocalForwardingThreadPoolExecutor.scala:91)\n\tat com.databricks.unity.UCSEphemeralState$Handle.runWith(UCSEphemeralState.scala:45)\n\tat org.apache.spark.util.threads.SparkThreadLocalCapturingHelper.runWithCaptured(SparkThreadLocalForwardingThreadPoolExecutor.scala:90)\n\tat org.apache.spark.util.threads.SparkThreadLocalCapturingHelper.runWithCaptured$(SparkThreadLocalForwardingThreadPoolExecutor.scala:67)\n\tat org.apache.spark.util.threads.SparkThreadLocalCapturingRunnable.runWithCaptured(SparkThreadLocalForwardingThreadPoolExecutor.scala:131)\n\tat org.apache.spark.util.threads.SparkThreadLocalCapturingRunnable.run(SparkThreadLocalForwardingThreadPoolExecutor.scala:134)\n\tat java.util.concurrent.ThreadPoolExecutor.runWorker(ThreadPoolExecutor.java:1149)\n\tat java.util.concurrent.ThreadPoolExecutor$Worker.run(ThreadPoolExecutor.java:624)\n\t... 1 more\nCaused by: org.apache.spark.SparkFileNotFoundException: /FileStore/cleaned_data/personnel_cleaned.parquet/part-00000-tid-4852048928146633512-97b19a53-b783-433f-bb60-8f3aefcd7661-457-1-c000.snappy.parquet\nIt is possible the underlying files have been updated. You can explicitly invalidate the cache in Spark by running 'REFRESH TABLE tableName' command in SQL or by recreating the Dataset/DataFrame involved.\n\tat org.apache.spark.sql.errors.QueryExecutionErrors$.readCurrentFileNotFoundError(QueryExecutionErrors.scala:995)\n\tat org.apache.spark.sql.execution.datasources.FileScanRDD$$anon$1$$anon$2.getNext(FileScanRDD.scala:665)\n\t... 21 more\n",
       "errorSummary": "<span class='ansi-red-fg'>Py4JJavaError</span>: An error occurred while calling o5159.showString.\n: org.apache.spark.SparkException: Job aborted due to stage failure: Task 0 in stage 701.0 failed 1 times, most recent failure: Lost task 0.0 in stage 701.0 (TID 579) (ip-10-172-227-214.us-west-2.compute.internal executor driver): com.databricks.sql.io.FileReadException: Error while reading file dbfs:/FileStore/cleaned_data/personnel_cleaned.parquet/part-00000-tid-4852048928146633512-97b19a53-b783-433f-bb60-8f3aefcd7661-457-1-c000.snappy.parquet. [DEFAULT_FILE_NOT_FOUND] It is possible the underlying files have been updated. You can explicitly invalidate the cache in Spark by running 'REFRESH TABLE tableName' command in SQL or by recreating the Dataset/DataFrame involved. If disk cache is stale or the underlying files have been removed, you can invalidate disk cache manually by restarting the cluster. SQLSTATE: 42K03\n\tat org.apache.spark.sql.execution.datasources.FileScanRDD$$anon$1$$anon$2.logFileNameAndThrow(FileScanRDD.scala:744)\n\tat org.apache.spark.sql.execution.datasources.FileScanRDD$$anon$1$$anon$2.getNext(FileScanRDD.scala:667)\n\tat org.apache.spark.util.NextIterator.hasNext(NextIterator.scala:73)\n\tat org.apache.spark.sql.execution.datasources.FileScanRDD$$anon$1.$anonfun$prepareNextFile$1(FileScanRDD.scala:922)\n\tat scala.concurrent.Future$.$anonfun$apply$1(Future.scala:659)\n\tat scala.util.Success.$anonfun$map$1(Try.scala:255)\n\tat scala.util.Success.map(Try.scala:213)\n\tat scala.concurrent.Future.$anonfun$map$1(Future.scala:292)\n\tat scala.concurrent.impl.Promise.liftedTree1$1(Promise.scala:33)\n\tat scala.concurrent.impl.Promise.$anonfun$transform$1(Promise.scala:33)\n\tat scala.concurrent.impl.CallbackRunnable.run(Promise.scala:64)\n\tat org.apache.spark.util.threads.SparkThreadLocalCapturingRunnable.$anonfun$run$1(SparkThreadLocalForwardingThreadPoolExecutor.scala:134)\n\tat scala.runtime.java8.JFunction0$mcV$sp.apply(JFunction0$mcV$sp.java:23)\n\tat com.databricks.spark.util.IdentityClaim$.withClaim(IdentityClaim.scala:48)\n\tat org.apache.spark.util.threads.SparkThreadLocalCapturingHelper.$anonfun$runWithCaptured$4(SparkThreadLocalForwardingThreadPoolExecutor.scala:91)\n\tat com.databricks.unity.UCSEphemeralState$Handle.runWith(UCSEphemeralState.scala:45)\n\tat org.apache.spark.util.threads.SparkThreadLocalCapturingHelper.runWithCaptured(SparkThreadLocalForwardingThreadPoolExecutor.scala:90)\n\tat org.apache.spark.util.threads.SparkThreadLocalCapturingHelper.runWithCaptured$(SparkThreadLocalForwardingThreadPoolExecutor.scala:67)\n\tat org.apache.spark.util.threads.SparkThreadLocalCapturingRunnable.runWithCaptured(SparkThreadLocalForwardingThreadPoolExecutor.scala:131)\n\tat org.apache.spark.util.threads.SparkThreadLocalCapturingRunnable.run(SparkThreadLocalForwardingThreadPoolExecutor.scala:134)\n\tat java.util.concurrent.ThreadPoolExecutor.runWorker(ThreadPoolExecutor.java:1149)\n\tat java.util.concurrent.ThreadPoolExecutor$Worker.run(ThreadPoolExecutor.java:624)\n\tat java.lang.Thread.run(Thread.java:750)\nCaused by: org.apache.spark.SparkFileNotFoundException: /FileStore/cleaned_data/personnel_cleaned.parquet/part-00000-tid-4852048928146633512-97b19a53-b783-433f-bb60-8f3aefcd7661-457-1-c000.snappy.parquet\nIt is possible the underlying files have been updated. You can explicitly invalidate the cache in Spark by running 'REFRESH TABLE tableName' command in SQL or by recreating the Dataset/DataFrame involved.\n\tat org.apache.spark.sql.errors.QueryExecutionErrors$.readCurrentFileNotFoundError(QueryExecutionErrors.scala:995)\n\tat org.apache.spark.sql.execution.datasources.FileScanRDD$$anon$1$$anon$2.getNext(FileScanRDD.scala:665)\n\t... 21 more\n\nDriver stacktrace:\n\tat org.apache.spark.scheduler.DAGScheduler.failJobAndIndependentStages(DAGScheduler.scala:3874)\n\tat org.apache.spark.scheduler.DAGScheduler.$anonfun$abortStage$2(DAGScheduler.scala:3796)\n\tat org.apache.spark.scheduler.DAGScheduler.$anonfun$abortStage$2$adapted(DAGScheduler.scala:3783)\n\tat scala.collection.mutable.ResizableArray.foreach(ResizableArray.scala:62)\n\tat scala.collection.mutable.ResizableArray.foreach$(ResizableArray.scala:55)\n\tat scala.collection.mutable.ArrayBuffer.foreach(ArrayBuffer.scala:49)\n\tat org.apache.spark.scheduler.DAGScheduler.abortStage(DAGScheduler.scala:3783)\n\tat org.apache.spark.scheduler.DAGScheduler.$anonfun$handleTaskSetFailed$1(DAGScheduler.scala:1661)\n\tat org.apache.spark.scheduler.DAGScheduler.$anonfun$handleTaskSetFailed$1$adapted(DAGScheduler.scala:1646)\n\tat scala.Option.foreach(Option.scala:407)\n\tat org.apache.spark.scheduler.DAGScheduler.handleTaskSetFailed(DAGScheduler.scala:1646)\n\tat org.apache.spark.scheduler.DAGSchedulerEventProcessLoop.doOnReceive(DAGScheduler.scala:4120)\n\tat org.apache.spark.scheduler.DAGSchedulerEventProcessLoop.onReceive(DAGScheduler.scala:4032)\n\tat org.apache.spark.scheduler.DAGSchedulerEventProcessLoop.onReceive(DAGScheduler.scala:4020)\n\tat org.apache.spark.util.EventLoop$$anon$1.run(EventLoop.scala:54)\n\tat org.apache.spark.scheduler.DAGScheduler.$anonfun$runJob$1(DAGScheduler.scala:1323)\n\tat scala.runtime.java8.JFunction0$mcV$sp.apply(JFunction0$mcV$sp.java:23)\n\tat com.databricks.spark.util.FrameProfiler$.record(FrameProfiler.scala:94)\n\tat org.apache.spark.scheduler.DAGScheduler.runJob(DAGScheduler.scala:1311)\n\tat org.apache.spark.SparkContext.runJobInternal(SparkContext.scala:3082)\n\tat org.apache.spark.sql.execution.collect.Collector.$anonfun$runSparkJobs$1(Collector.scala:355)\n\tat scala.runtime.java8.JFunction0$mcV$sp.apply(JFunction0$mcV$sp.java:23)\n\tat com.databricks.spark.util.FrameProfiler$.record(FrameProfiler.scala:94)\n\tat org.apache.spark.sql.execution.collect.Collector.runSparkJobs(Collector.scala:299)\n\tat org.apache.spark.sql.execution.collect.Collector.$anonfun$collect$1(Collector.scala:384)\n\tat com.databricks.spark.util.FrameProfiler$.record(FrameProfiler.scala:94)\n\tat org.apache.spark.sql.execution.collect.Collector.collect(Collector.scala:381)\n\tat org.apache.spark.sql.execution.collect.Collector$.collect(Collector.scala:122)\n\tat org.apache.spark.sql.execution.collect.Collector$.collect(Collector.scala:131)\n\tat org.apache.spark.sql.execution.qrc.InternalRowFormat$.collect(cachedSparkResults.scala:94)\n\tat org.apache.spark.sql.execution.qrc.InternalRowFormat$.collect(cachedSparkResults.scala:90)\n\tat org.apache.spark.sql.execution.qrc.InternalRowFormat$.collect(cachedSparkResults.scala:78)\n\tat org.apache.spark.sql.execution.qrc.ResultCacheManager.$anonfun$computeResult$1(ResultCacheManager.scala:546)\n\tat com.databricks.spark.util.FrameProfiler$.record(FrameProfiler.scala:94)\n\tat org.apache.spark.sql.execution.qrc.ResultCacheManager.collectResult$1(ResultCacheManager.scala:540)\n\tat org.apache.spark.sql.execution.qrc.ResultCacheManager.computeResult(ResultCacheManager.scala:557)\n\tat org.apache.spark.sql.execution.qrc.ResultCacheManager.$anonfun$getOrComputeResultInternal$1(ResultCacheManager.scala:400)\n\tat scala.Option.getOrElse(Option.scala:189)\n\tat org.apache.spark.sql.execution.qrc.ResultCacheManager.getOrComputeResultInternal(ResultCacheManager.scala:400)\n\tat org.apache.spark.sql.execution.qrc.ResultCacheManager.getOrComputeResult(ResultCacheManager.scala:318)\n\tat org.apache.spark.sql.execution.SparkPlan.$anonfun$executeCollectResult$1(SparkPlan.scala:558)\n\tat com.databricks.spark.util.FrameProfiler$.record(FrameProfiler.scala:94)\n\tat org.apache.spark.sql.execution.SparkPlan.executeCollectResult(SparkPlan.scala:555)\n\tat org.apache.spark.sql.Dataset.collectResult(Dataset.scala:3780)\n\tat org.apache.spark.sql.Dataset.collectFromPlan(Dataset.scala:4736)\n\tat org.apache.spark.sql.Dataset.$anonfun$head$1(Dataset.scala:3488)\n\tat org.apache.spark.sql.Dataset.$anonfun$withAction$3(Dataset.scala:4727)\n\tat org.apache.spark.sql.execution.QueryExecution$.withInternalError(QueryExecution.scala:1103)\n\tat org.apache.spark.sql.Dataset.$anonfun$withAction$2(Dataset.scala:4725)\n\tat org.apache.spark.sql.execution.SQLExecution$.$anonfun$withNewExecutionId0$9(SQLExecution.scala:406)\n\tat org.apache.spark.sql.execution.SQLExecution$.withSQLConfPropagated(SQLExecution.scala:714)\n\tat org.apache.spark.sql.execution.SQLExecution$.$anonfun$withNewExecutionId0$1(SQLExecution.scala:278)\n\tat org.apache.spark.sql.SparkSession.withActive(SparkSession.scala:1175)\n\tat org.apache.spark.sql.execution.SQLExecution$.withNewExecutionId0(SQLExecution.scala:165)\n\tat org.apache.spark.sql.execution.SQLExecution$.withNewExecutionId(SQLExecution.scala:651)\n\tat org.apache.spark.sql.Dataset.withAction(Dataset.scala:4725)\n\tat org.apache.spark.sql.Dataset.head(Dataset.scala:3488)\n\tat org.apache.spark.sql.Dataset.take(Dataset.scala:3711)\n\tat org.apache.spark.sql.Dataset.getRows(Dataset.scala:349)\n\tat org.apache.spark.sql.Dataset.showString(Dataset.scala:385)\n\tat sun.reflect.GeneratedMethodAccessor582.invoke(Unknown Source)\n\tat sun.reflect.DelegatingMethodAccessorImpl.invoke(DelegatingMethodAccessorImpl.java:43)\n\tat java.lang.reflect.Method.invoke(Method.java:498)\n\tat py4j.reflection.MethodInvoker.invoke(MethodInvoker.java:244)\n\tat py4j.reflection.ReflectionEngine.invoke(ReflectionEngine.java:397)\n\tat py4j.Gateway.invoke(Gateway.java:306)\n\tat py4j.commands.AbstractCommand.invokeMethod(AbstractCommand.java:132)\n\tat py4j.commands.CallCommand.execute(CallCommand.java:79)\n\tat py4j.ClientServerConnection.waitForCommands(ClientServerConnection.java:199)\n\tat py4j.ClientServerConnection.run(ClientServerConnection.java:119)\n\tat java.lang.Thread.run(Thread.java:750)\nCaused by: com.databricks.sql.io.FileReadException: Error while reading file dbfs:/FileStore/cleaned_data/personnel_cleaned.parquet/part-00000-tid-4852048928146633512-97b19a53-b783-433f-bb60-8f3aefcd7661-457-1-c000.snappy.parquet. [DEFAULT_FILE_NOT_FOUND] It is possible the underlying files have been updated. You can explicitly invalidate the cache in Spark by running 'REFRESH TABLE tableName' command in SQL or by recreating the Dataset/DataFrame involved. If disk cache is stale or the underlying files have been removed, you can invalidate disk cache manually by restarting the cluster. SQLSTATE: 42K03\n\tat org.apache.spark.sql.execution.datasources.FileScanRDD$$anon$1$$anon$2.logFileNameAndThrow(FileScanRDD.scala:744)\n\tat org.apache.spark.sql.execution.datasources.FileScanRDD$$anon$1$$anon$2.getNext(FileScanRDD.scala:667)\n\tat org.apache.spark.util.NextIterator.hasNext(NextIterator.scala:73)\n\tat org.apache.spark.sql.execution.datasources.FileScanRDD$$anon$1.$anonfun$prepareNextFile$1(FileScanRDD.scala:922)\n\tat scala.concurrent.Future$.$anonfun$apply$1(Future.scala:659)\n\tat scala.util.Success.$anonfun$map$1(Try.scala:255)\n\tat scala.util.Success.map(Try.scala:213)\n\tat scala.concurrent.Future.$anonfun$map$1(Future.scala:292)\n\tat scala.concurrent.impl.Promise.liftedTree1$1(Promise.scala:33)\n\tat scala.concurrent.impl.Promise.$anonfun$transform$1(Promise.scala:33)\n\tat scala.concurrent.impl.CallbackRunnable.run(Promise.scala:64)\n\tat org.apache.spark.util.threads.SparkThreadLocalCapturingRunnable.$anonfun$run$1(SparkThreadLocalForwardingThreadPoolExecutor.scala:134)\n\tat scala.runtime.java8.JFunction0$mcV$sp.apply(JFunction0$mcV$sp.java:23)\n\tat com.databricks.spark.util.IdentityClaim$.withClaim(IdentityClaim.scala:48)\n\tat org.apache.spark.util.threads.SparkThreadLocalCapturingHelper.$anonfun$runWithCaptured$4(SparkThreadLocalForwardingThreadPoolExecutor.scala:91)\n\tat com.databricks.unity.UCSEphemeralState$Handle.runWith(UCSEphemeralState.scala:45)\n\tat org.apache.spark.util.threads.SparkThreadLocalCapturingHelper.runWithCaptured(SparkThreadLocalForwardingThreadPoolExecutor.scala:90)\n\tat org.apache.spark.util.threads.SparkThreadLocalCapturingHelper.runWithCaptured$(SparkThreadLocalForwardingThreadPoolExecutor.scala:67)\n\tat org.apache.spark.util.threads.SparkThreadLocalCapturingRunnable.runWithCaptured(SparkThreadLocalForwardingThreadPoolExecutor.scala:131)\n\tat org.apache.spark.util.threads.SparkThreadLocalCapturingRunnable.run(SparkThreadLocalForwardingThreadPoolExecutor.scala:134)\n\tat java.util.concurrent.ThreadPoolExecutor.runWorker(ThreadPoolExecutor.java:1149)\n\tat java.util.concurrent.ThreadPoolExecutor$Worker.run(ThreadPoolExecutor.java:624)\n\t... 1 more\nCaused by: org.apache.spark.SparkFileNotFoundException: /FileStore/cleaned_data/personnel_cleaned.parquet/part-00000-tid-4852048928146633512-97b19a53-b783-433f-bb60-8f3aefcd7661-457-1-c000.snappy.parquet\nIt is possible the underlying files have been updated. You can explicitly invalidate the cache in Spark by running 'REFRESH TABLE tableName' command in SQL or by recreating the Dataset/DataFrame involved.\n\tat org.apache.spark.sql.errors.QueryExecutionErrors$.readCurrentFileNotFoundError(QueryExecutionErrors.scala:995)\n\tat org.apache.spark.sql.execution.datasources.FileScanRDD$$anon$1$$anon$2.getNext(FileScanRDD.scala:665)\n\t... 21 more\n",
       "errorTraceType": null,
       "metadata": {},
       "type": "ipynbError"
      }
     },
     "output_type": "display_data"
    }
   ],
   "source": [
    "df_personnel_cleaned = df_personnel_cleaned.filter(col(\"fiscal_year\").isNotNull())\n",
    "df_toa_cleaned = df_toa_cleaned.filter(col(\"fiscal_year\").isNotNull())\n",
    "\n",
    "df_personnel_cleaned.show(5)\n",
    "df_toa_cleaned.show(5)\n",
    "\n"
   ]
  },
  {
   "cell_type": "markdown",
   "metadata": {
    "application/vnd.databricks.v1+cell": {
     "cellMetadata": {
      "byteLimit": 2048000,
      "rowLimit": 10000
     },
     "inputWidgets": {},
     "nuid": "92329424-3c8b-4578-8d6b-c5a2193a21a2",
     "showTitle": false,
     "tableResultSettingsMap": {},
     "title": ""
    }
   },
   "source": [
    "Exploratory Data Analysis "
   ]
  },
  {
   "cell_type": "code",
   "execution_count": 0,
   "metadata": {
    "application/vnd.databricks.v1+cell": {
     "cellMetadata": {
      "byteLimit": 2048000,
      "rowLimit": 10000
     },
     "inputWidgets": {},
     "nuid": "586484d5-909e-44c1-9354-b231c6d6759f",
     "showTitle": false,
     "tableResultSettingsMap": {},
     "title": ""
    }
   },
   "outputs": [
    {
     "output_type": "stream",
     "name": "stdout",
     "output_type": "stream",
     "text": [
      "+-------+----------------+-------+-------+---------+--------+\n|summary|     FISCAL YEAR|   ARMY|   NAVY|AIR FORCE|DEFENSE-|\n+-------+----------------+-------+-------+---------+--------+\n|  count|              16|     16|     15|       15|      15|\n|   mean|          2006.0|   NULL|   NULL|     NULL|    NULL|\n| stddev|4.47213595499958|   NULL|   NULL|     NULL|    NULL|\n|    min|            1999|105,248|112,017|  111,559| 103,268|\n|    max|          OTHER\"|  TOTAL| 98,547|   95,561|  94,963|\n+-------+----------------+-------+-------+---------+--------+\n\n+-------+------------------+---------------------+-------------------+------------------+-------------------+--------------------------+\n|summary|       fiscal_year|military_compensation|  budget_category_1| budget_category_2|  budget_category_3|general_service_wage_board|\n+-------+------------------+---------------------+-------------------+------------------+-------------------+--------------------------+\n|  count|                21|                   46|                 46|                46|                 46|                        46|\n|   mean|            2009.0|  0.40602173913043477|0.41341304347826086|0.4065869565217391| 0.3875652173913044|        0.4172826086956522|\n| stddev|6.2048368229954285|  0.45869236793933804| 0.4639657351374587|0.4590254205542171|0.44494327489512203|       0.46782003486827556|\n|    min|              1999|                  0.0|                0.0|               0.0|                0.0|                       0.0|\n|    max|              2019|                1.102|              1.089|             1.098|              1.099|                     1.069|\n+-------+------------------+---------------------+-------------------+------------------+-------------------+--------------------------+\n\n+-------+---------+------------------+-----------------+------------------+------------------+------------------+------------------+------------------+\n|summary|pay_grade|       pay_under_2|       pay_over_2|        pay_over_3|        pay_over_4|        pay_over_6|        pay_over_8|       pay_over_10|\n+-------+---------+------------------+-----------------+------------------+------------------+------------------+------------------+------------------+\n|  count|       22|                22|               22|                22|                22|                22|                22|                22|\n|   mean|     NULL| 2625.640909090909|2764.145454545455| 2930.890909090909|3596.1545454545444| 3711.490909090909|4024.2545454545457| 4353.599999999999|\n| stddev|     NULL|2739.0831395541118|2966.734705222027|3087.7727125997026|  2908.77328140187|2990.7936919039516| 2985.306578134739|2917.8867264805585|\n|    min|     E-15|               0.0|              0.0|               0.0|               0.0|               0.0|               0.0|               0.0|\n|    max|     O-91|            9847.8|          10170.3|           10384.5|           10444.2|           10711.5|           11157.6|           11261.4|\n+-------+---------+------------------+-----------------+------------------+------------------+------------------+------------------+------------------+\n\n"
     ]
    }
   ],
   "source": [
    "\n",
    "df_budget_cleaned.describe().show()\n",
    "df_officer_pay_cleaned.describe().show()\n"
   ]
  },
  {
   "cell_type": "markdown",
   "metadata": {
    "application/vnd.databricks.v1+cell": {
     "cellMetadata": {
      "byteLimit": 2048000,
      "rowLimit": 10000
     },
     "inputWidgets": {},
     "nuid": "31bb24e8-df58-422e-9dfe-86b95a332477",
     "showTitle": false,
     "tableResultSettingsMap": {},
     "title": ""
    }
   },
   "source": [
    "SUMMARY STATISTICS "
   ]
  },
  {
   "cell_type": "code",
   "execution_count": 0,
   "metadata": {
    "application/vnd.databricks.v1+cell": {
     "cellMetadata": {
      "byteLimit": 2048000,
      "rowLimit": 10000
     },
     "inputWidgets": {},
     "nuid": "4ed53c45-7a19-4007-bf9b-d8b5f5e78eb7",
     "showTitle": false,
     "tableResultSettingsMap": {},
     "title": ""
    }
   },
   "outputs": [
    {
     "output_type": "stream",
     "name": "stdout",
     "output_type": "stream",
     "text": [
      "+-----------+---------------------+-----------------+-----------------+-----------------+--------------------------+\n|fiscal_year|military_compensation|budget_category_1|budget_category_2|budget_category_3|general_service_wage_board|\n+-----------+---------------------+-----------------+-----------------+-----------------+--------------------------+\n|         25|                    0|                0|                0|                0|                         0|\n+-----------+---------------------+-----------------+-----------------+-----------------+--------------------------+\n\n+---------+-----------+----------+----------+----------+----------+----------+-----------+\n|pay_grade|pay_under_2|pay_over_2|pay_over_3|pay_over_4|pay_over_6|pay_over_8|pay_over_10|\n+---------+-----------+----------+----------+----------+----------+----------+-----------+\n|        0|          0|         0|         0|         0|         0|         0|          0|\n+---------+-----------+----------+----------+----------+----------+----------+-----------+\n\n"
     ]
    }
   ],
   "source": [
    "from pyspark.sql.functions import col, sum\n",
    "\n",
    "df_budget_cleaned.select([sum(col(c).isNull().cast(\"int\")).alias(c) for c in df_budget_cleaned.columns]).show()\n",
    "df_officer_pay_cleaned.select([sum(col(c).isNull().cast(\"int\")).alias(c) for c in df_officer_pay_cleaned.columns]).show()\n"
   ]
  },
  {
   "cell_type": "markdown",
   "metadata": {
    "application/vnd.databricks.v1+cell": {
     "cellMetadata": {
      "byteLimit": 2048000,
      "rowLimit": 10000
     },
     "inputWidgets": {},
     "nuid": "eb43daff-94ce-4b18-a336-b02567983742",
     "showTitle": false,
     "tableResultSettingsMap": {},
     "title": ""
    }
   },
   "source": [
    "PARQUET storage"
   ]
  },
  {
   "cell_type": "code",
   "execution_count": 0,
   "metadata": {
    "application/vnd.databricks.v1+cell": {
     "cellMetadata": {
      "byteLimit": 2048000,
      "rowLimit": 10000
     },
     "inputWidgets": {},
     "nuid": "9ee33b55-aaf1-4b2f-9e50-3ee58961e3af",
     "showTitle": false,
     "tableResultSettingsMap": {},
     "title": ""
    }
   },
   "outputs": [
    {
     "output_type": "stream",
     "name": "stdout",
     "output_type": "stream",
     "text": [
      "All cleaned DataFrames have been successfully saved as Parquet files in DBFS!\n"
     ]
    }
   ],
   "source": [
    "# Define base path for storing parquet files\n",
    "parquet_base_path = \"dbfs:/FileStore/cleaned_data/\"\n",
    "\n",
    "# Save each cleaned DataFrame as a Parquet file\n",
    "df_defense_spending_cleaned.write.mode(\"overwrite\").parquet(parquet_base_path + \"defense_spending_cleaned.parquet\")\n",
    "df_airforce_personnel_cleaned.write.mode(\"overwrite\").parquet(parquet_base_path + \"airforce_personnel_cleaned.parquet\")\n",
    "df_military_pay_cleaned.write.mode(\"overwrite\").parquet(parquet_base_path + \"military_pay_cleaned.parquet\")\n",
    "df_officer_pay_cleaned.write.mode(\"overwrite\").parquet(parquet_base_path + \"officer_enlisted_pay_cleaned.parquet\")\n",
    "df_budget_cleaned.write.mode(\"overwrite\").parquet(parquet_base_path + \"airforce_budget_cleaned.parquet\")\n",
    "df_toa_cleaned.write.mode(\"overwrite\").parquet(parquet_base_path + \"total_obligational_authority_cleaned.parquet\")\n",
    "\n",
    "# Confirm files were written\n",
    "print(\"All cleaned DataFrames have been successfully saved as Parquet files in DBFS!\")\n"
   ]
  },
  {
   "cell_type": "code",
   "execution_count": 0,
   "metadata": {
    "application/vnd.databricks.v1+cell": {
     "cellMetadata": {
      "byteLimit": 2048000,
      "rowLimit": 10000
     },
     "inputWidgets": {},
     "nuid": "56559de3-89e7-46e6-afc0-22661fa20b1c",
     "showTitle": false,
     "tableResultSettingsMap": {},
     "title": ""
    }
   },
   "outputs": [
    {
     "output_type": "stream",
     "name": "stdout",
     "output_type": "stream",
     "text": [
      "+-----------+------------------------+\n|fiscal_year|national_defense_outlays|\n+-----------+------------------------+\n|       1998|                     3.1|\n|       1999|                     3.0|\n|       2000|                     3.0|\n|       2001|                     3.0|\n|       2002|                     3.3|\n+-----------+------------------------+\nonly showing top 5 rows\n\n"
     ]
    }
   ],
   "source": [
    "df_defense_spending_cleaned = spark.read.parquet(\"dbfs:/FileStore/cleaned_data/defense_spending_cleaned.parquet\")\n",
    "df_airforce_personnel_cleaned = spark.read.parquet(\"dbfs:/FileStore/cleaned_data/airforce_personnel_cleaned.parquet\")\n",
    "df_military_pay_cleaned = spark.read.parquet(\"dbfs:/FileStore/cleaned_data/military_pay_cleaned.parquet\")\n",
    "df_personnel = spark.read.parquet(\"dbfs:/FileStore/cleaned_data/personnel_cleaned.parquet\")\n",
    "df_officer_pay_cleaned = spark.read.parquet(\"dbfs:/FileStore/cleaned_data/officer_enlisted_pay_cleaned.parquet\")\n",
    "df_budget_cleaned = spark.read.parquet(\"dbfs:/FileStore/cleaned_data/airforce_budget_cleaned.parquet\")\n",
    "df_toa_cleaned = spark.read.parquet(\"dbfs:/FileStore/cleaned_data/total_obligational_authority_cleaned.parquet\")\n",
    "\n",
    "# Quick verification\n",
    "df_defense_spending_cleaned.show(5)\n"
   ]
  },
  {
   "cell_type": "code",
   "execution_count": 0,
   "metadata": {
    "application/vnd.databricks.v1+cell": {
     "cellMetadata": {
      "byteLimit": 2048000,
      "rowLimit": 10000
     },
     "inputWidgets": {},
     "nuid": "71b3f931-41a6-4485-a973-bc9862496a9a",
     "showTitle": false,
     "tableResultSettingsMap": {},
     "title": ""
    }
   },
   "outputs": [
    {
     "output_type": "stream",
     "name": "stdout",
     "output_type": "stream",
     "text": [
      "+-------+-----------------+------------------------+\n|summary|      fiscal_year|national_defense_outlays|\n+-------+-----------------+------------------------+\n|  count|               16|                      16|\n|   mean|           2005.5|       3.849999999999999|\n| stddev|4.760952285695233|      0.6303438215238831|\n|    min|             1998|                     3.0|\n|    max|             2013|                     4.8|\n+-------+-----------------+------------------------+\n\n+-------+-----------------+-------+\n|summary|              _c0|    _c1|\n+-------+-----------------+-------+\n|  count|               21|     20|\n|   mean|           2005.5|   NULL|\n| stddev|4.760952285695233|   NULL|\n|    min|             1998|  3,876|\n|    max|   RESERVE (AFR)\"|TOTAL\\n|\n+-------+-----------------+-------+\n\n+-------+----+---------+\n|summary| _c0|      _c1|\n+-------+----+---------+\n|  count|  19|       19|\n|   mean|NULL|     NULL|\n| stddev|NULL|     NULL|\n|    min| E-1|$119,925 |\n|    max| O-9| $97,116 |\n+-------+----+---------+\n\n+-------+-----------+----+----+---------+-------------+\n|summary|fiscal_year|ARMY|NAVY|AIR FORCE|defense_other|\n+-------+-----------+----+----+---------+-------------+\n|  count|          0|   0|   0|        0|            0|\n|   mean|       NULL|NULL|NULL|     NULL|         NULL|\n| stddev|       NULL|NULL|NULL|     NULL|         NULL|\n|    min|       NULL|NULL|NULL|     NULL|         NULL|\n|    max|       NULL|NULL|NULL|     NULL|         NULL|\n+-------+-----------+----+----+---------+-------------+\n\n+-------+---------+------------------+-----------------+------------------+------------------+------------------+------------------+------------------+\n|summary|pay_grade|       pay_under_2|       pay_over_2|        pay_over_3|        pay_over_4|        pay_over_6|        pay_over_8|       pay_over_10|\n+-------+---------+------------------+-----------------+------------------+------------------+------------------+------------------+------------------+\n|  count|       22|                22|               22|                22|                22|                22|                22|                22|\n|   mean|     NULL| 2625.640909090909|2764.145454545455| 2930.890909090909|3596.1545454545444| 3711.490909090909|4024.2545454545457| 4353.599999999999|\n| stddev|     NULL|2739.0831395541118|2966.734705222027|3087.7727125997026|  2908.77328140187|2990.7936919039516| 2985.306578134739|2917.8867264805585|\n|    min|     E-15|               0.0|              0.0|               0.0|               0.0|               0.0|               0.0|               0.0|\n|    max|     O-91|            9847.8|          10170.3|           10384.5|           10444.2|           10711.5|           11157.6|           11261.4|\n+-------+---------+------------------+-----------------+------------------+------------------+------------------+------------------+------------------+\n\n+-------+------------------+---------------------+-------------------+------------------+-------------------+--------------------------+\n|summary|       fiscal_year|military_compensation|  budget_category_1| budget_category_2|  budget_category_3|general_service_wage_board|\n+-------+------------------+---------------------+-------------------+------------------+-------------------+--------------------------+\n|  count|                21|                   46|                 46|                46|                 46|                        46|\n|   mean|            2009.0|  0.40602173913043477|0.41341304347826086|0.4065869565217391| 0.3875652173913044|        0.4172826086956522|\n| stddev|6.2048368229954285|  0.45869236793933804| 0.4639657351374587|0.4590254205542171|0.44494327489512203|       0.46782003486827556|\n|    min|              1999|                  0.0|                0.0|               0.0|                0.0|                       0.0|\n|    max|              2019|                1.102|              1.089|             1.098|              1.099|                     1.069|\n+-------+------------------+---------------------+-------------------+------------------+-------------------+--------------------------+\n\n+-------+----------------+----------------+------------------+------------------+-----------------+\n|summary|     fiscal_year|            army|              navy|         air_force|    defense_other|\n+-------+----------------+----------------+------------------+------------------+-----------------+\n|  count|              15|              15|                15|                15|               15|\n|   mean|          2006.0|        165698.6|137915.66666666666|132943.66666666666|          77462.2|\n| stddev|4.47213595499958|66839.7235469191|33436.640966090454|31138.741475317634|24648.07188402371|\n|    min|            1999|           69331|             84398|             80862|            38138|\n|    max|            2013|          250603|            177126|            167293|           107119|\n+-------+----------------+----------------+------------------+------------------+-----------------+\n\n"
     ]
    }
   ],
   "source": [
    "# Display summary statistics\n",
    "df_defense_spending_cleaned.describe().show()\n",
    "df_airforce_personnel.describe().show()\n",
    "df_military_pay_cleaned.describe().show()\n",
    "df_personnel.describe().show()\n",
    "df_officer_pay_cleaned.describe().show()\n",
    "df_budget_cleaned.describe().show()\n",
    "df_toa_cleaned.describe().show()\n"
   ]
  },
  {
   "cell_type": "markdown",
   "metadata": {
    "application/vnd.databricks.v1+cell": {
     "cellMetadata": {},
     "inputWidgets": {},
     "nuid": "a2f4aff8-2f6d-40b7-b0f9-07e9a345997c",
     "showTitle": false,
     "tableResultSettingsMap": {},
     "title": ""
    }
   },
   "source": [
    "Exploratory Data Analysis "
   ]
  },
  {
   "cell_type": "code",
   "execution_count": 0,
   "metadata": {
    "application/vnd.databricks.v1+cell": {
     "cellMetadata": {
      "byteLimit": 2048000,
      "rowLimit": 10000
     },
     "inputWidgets": {},
     "nuid": "9abc0eb0-cd0a-4c88-831f-d0e1535053ec",
     "showTitle": false,
     "tableResultSettingsMap": {},
     "title": ""
    }
   },
   "outputs": [],
   "source": [
    "# Convert Spark DataFrames to Pandas for visualization\n",
    "df_defense_spending_pd = df_defense_spending_cleaned.toPandas()\n",
    "df_budget_pd = df_budget_cleaned.toPandas()\n",
    "df_officer_pay_pd = df_officer_pay_cleaned.toPandas()\n",
    "df_toa_pd = df_toa_cleaned.toPandas()\n",
    "df_airforce_personnel_pd = df_airforce_personnel_cleaned.toPandas()\n",
    "\n"
   ]
  },
  {
   "cell_type": "code",
   "execution_count": 0,
   "metadata": {
    "application/vnd.databricks.v1+cell": {
     "cellMetadata": {
      "byteLimit": 2048000,
      "rowLimit": 10000
     },
     "inputWidgets": {},
     "nuid": "d7bb5f48-5dcd-4910-89c4-73fe4d87d5f5",
     "showTitle": false,
     "tableResultSettingsMap": {},
     "title": ""
    }
   },
   "outputs": [
    {
     "output_type": "display_data",
     "data": {
      "image/png": "[encoded data removed]",
      "text/plain": [
       "<Figure size 1000x500 with 1 Axes>"
      ]
     },
     "metadata": {},
     "output_type": "display_data"
    }
   ],
   "source": [
    "import matplotlib.pyplot as plt\n",
    "\n",
    "# Convert to Pandas for visualization\n",
    "df_defense_spending_pd = df_defense_spending_cleaned.toPandas()\n",
    "\n",
    "# Plot\n",
    "plt.figure(figsize=(10,5))\n",
    "plt.plot(df_defense_spending_pd[\"fiscal_year\"], df_defense_spending_pd[\"national_defense_outlays\"], marker=\"o\", linestyle=\"-\")\n",
    "plt.xlabel(\"Fiscal Year\")\n",
    "plt.ylabel(\"National Defense Outlays (in Billions)\")\n",
    "plt.title(\"Trend of National Defense Spending Over Time\")\n",
    "plt.grid(True)\n",
    "plt.show()\n"
   ]
  },
  {
   "cell_type": "code",
   "execution_count": 0,
   "metadata": {
    "application/vnd.databricks.v1+cell": {
     "cellMetadata": {
      "byteLimit": 2048000,
      "rowLimit": 10000
     },
     "inputWidgets": {},
     "nuid": "939068a9-1002-4ab9-b0f8-8602ae0268b8",
     "showTitle": false,
     "tableResultSettingsMap": {},
     "title": ""
    }
   },
   "outputs": [
    {
     "output_type": "display_data",
     "data": {
      "image/png": "[encoded data removed]",
      "text/plain": [
       "<Figure size 1000x500 with 1 Axes>"
      ]
     },
     "metadata": {},
     "output_type": "display_data"
    }
   ],
   "source": [
    "plt.figure(figsize=(10,5))\n",
    "sns.histplot(df_officer_pay_pd[\"pay_under_2\"], bins=20, kde=True, label=\"Under 2 Years\")\n",
    "sns.histplot(df_officer_pay_pd[\"pay_over_10\"], bins=20, kde=True, label=\"Over 10 Years\", color=\"red\")\n",
    "plt.xlabel(\"Annual Pay ($)\")\n",
    "plt.ylabel(\"Frequency\")\n",
    "plt.title(\"Military Pay Distribution (Under 2 vs Over 10 Years)\")\n",
    "plt.legend()\n",
    "plt.show()\n"
   ]
  },
  {
   "cell_type": "code",
   "execution_count": 0,
   "metadata": {
    "application/vnd.databricks.v1+cell": {
     "cellMetadata": {
      "byteLimit": 2048000,
      "rowLimit": 10000
     },
     "inputWidgets": {},
     "nuid": "6277f7f1-b3ad-4a4f-b8be-b546bd76883e",
     "showTitle": false,
     "tableResultSettingsMap": {},
     "title": ""
    }
   },
   "outputs": [
    {
     "output_type": "stream",
     "name": "stderr",
     "output_type": "stream",
     "text": [
      "/root/.ipykernel/908/command-718498739267219-3163187588:2: FutureWarning: The default value of numeric_only in DataFrame.corr is deprecated. In a future version, it will default to False. Select only valid columns or specify the value of numeric_only to silence this warning.\n  sns.heatmap(df_budget_pd.corr(), annot=True, cmap=\"coolwarm\", fmt=\".2f\")\n"
     ]
    },
    {
     "output_type": "display_data",
     "data": {
      "image/png": "[encoded data removed]",
      "text/plain": [
       "<Figure size 1000x600 with 2 Axes>"
      ]
     },
     "metadata": {},
     "output_type": "display_data"
    }
   ],
   "source": [
    "plt.figure(figsize=(10,6))\n",
    "sns.heatmap(df_budget_pd.corr(), annot=True, cmap=\"coolwarm\", fmt=\".2f\")\n",
    "plt.title(\"Correlation Matrix - Military Budget\")\n",
    "plt.show()\n"
   ]
  },
  {
   "cell_type": "code",
   "execution_count": 0,
   "metadata": {
    "application/vnd.databricks.v1+cell": {
     "cellMetadata": {
      "byteLimit": 2048000,
      "rowLimit": 10000
     },
     "inputWidgets": {},
     "nuid": "53520b8d-7ff6-4d27-b6de-a7afcf8a818d",
     "showTitle": false,
     "tableResultSettingsMap": {},
     "title": ""
    }
   },
   "outputs": [
    {
     "output_type": "stream",
     "name": "stdout",
     "output_type": "stream",
     "text": [
      "Index(['_c0', '_c1'], dtype='object')\n_c0    object\n_c1    object\ndtype: object\n    _c0    _c1\n0  1998  4,447\n1  1999  4,413\n2  2000  4,401\n3  2001  4,339\n4  2002  4,387\n"
     ]
    }
   ],
   "source": [
    "print(df_airforce_personnel_pd.columns)\n",
    "print(df_airforce_personnel_pd.dtypes)\n",
    "print(df_airforce_personnel_pd.head())\n"
   ]
  },
  {
   "cell_type": "code",
   "execution_count": 0,
   "metadata": {
    "application/vnd.databricks.v1+cell": {
     "cellMetadata": {
      "byteLimit": 2048000,
      "rowLimit": 10000
     },
     "inputWidgets": {},
     "nuid": "b3d6fa56-0c18-4643-b6c7-6278a0fcbb6f",
     "showTitle": false,
     "tableResultSettingsMap": {},
     "title": ""
    }
   },
   "outputs": [
    {
     "output_type": "stream",
     "name": "stdout",
     "output_type": "stream",
     "text": [
      "fiscal_year          int64\nregular_air_force    int64\ndtype: object\n   fiscal_year  regular_air_force\n0         1998               4447\n1         1999               4413\n2         2000               4401\n3         2001               4339\n4         2002               4387\n"
     ]
    }
   ],
   "source": [
    "# Rename columns to correct names\n",
    "df_airforce_personnel_pd = df_airforce_personnel_pd.rename(columns={\"_c0\": \"fiscal_year\", \"_c1\": \"regular_air_force\"})\n",
    "\n",
    "# Remove commas and convert to numeric\n",
    "df_airforce_personnel_pd[\"fiscal_year\"] = pd.to_numeric(df_airforce_personnel_pd[\"fiscal_year\"], errors='coerce')\n",
    "df_airforce_personnel_pd[\"regular_air_force\"] = pd.to_numeric(df_airforce_personnel_pd[\"regular_air_force\"].str.replace(\",\", \"\"), errors='coerce')\n",
    "\n",
    "# Drop any rows with NaN values (if any)\n",
    "df_airforce_personnel_pd = df_airforce_personnel_pd.dropna()\n",
    "\n",
    "# Verify the changes\n",
    "print(df_airforce_personnel_pd.dtypes)\n",
    "print(df_airforce_personnel_pd.head())\n"
   ]
  },
  {
   "cell_type": "code",
   "execution_count": 0,
   "metadata": {
    "application/vnd.databricks.v1+cell": {
     "cellMetadata": {
      "byteLimit": 2048000,
      "rowLimit": 10000
     },
     "inputWidgets": {},
     "nuid": "6a8095e0-8f7e-4132-89e6-dfd8b5e9f93e",
     "showTitle": false,
     "tableResultSettingsMap": {},
     "title": ""
    }
   },
   "outputs": [
    {
     "output_type": "display_data",
     "data": {
      "image/png": "[encoded data removed]",
      "text/plain": [
       "<Figure size 1200x600 with 1 Axes>"
      ]
     },
     "metadata": {},
     "output_type": "display_data"
    }
   ],
   "source": [
    "plt.figure(figsize=(12,6))\n",
    "sns.lineplot(x=\"fiscal_year\", y=\"regular_air_force\", data=df_airforce_personnel_pd, marker=\"o\", linewidth=2)\n",
    "plt.xlabel(\"Fiscal Year\")\n",
    "plt.ylabel(\"Number of Personnel\")\n",
    "plt.title(\"Trends in Regular Air Force Personnel\")\n",
    "plt.grid(True)\n",
    "plt.show()\n"
   ]
  },
  {
   "cell_type": "markdown",
   "metadata": {
    "application/vnd.databricks.v1+cell": {
     "cellMetadata": {},
     "inputWidgets": {},
     "nuid": "6ff8389e-aae6-4c2e-aadc-87872999f186",
     "showTitle": false,
     "tableResultSettingsMap": {},
     "title": ""
    }
   },
   "source": [
    "Machine Learning Models "
   ]
  },
  {
   "cell_type": "code",
   "execution_count": 0,
   "metadata": {
    "application/vnd.databricks.v1+cell": {
     "cellMetadata": {
      "byteLimit": 2048000,
      "rowLimit": 10000
     },
     "inputWidgets": {},
     "nuid": "6f6d9f53-ddda-411f-a060-537e708e000b",
     "showTitle": false,
     "tableResultSettingsMap": {},
     "title": ""
    }
   },
   "outputs": [
    {
     "output_type": "stream",
     "name": "stdout",
     "output_type": "stream",
     "text": [
      "+----+-----+\n| _c0|  _c1|\n+----+-----+\n|1998|4,447|\n|1999|4,413|\n|2000|4,401|\n|2001|4,339|\n|2002|4,387|\n|2003|4,328|\n|2004|4,284|\n|2005|4,273|\n|2006|4,166|\n|2007|3,876|\n+----+-----+\nonly showing top 10 rows\n\nroot\n |-- _c0: string (nullable = true)\n |-- _c1: string (nullable = true)\n\n"
     ]
    }
   ],
   "source": [
    "df_airforce_personnel_parquet = spark.read.parquet(\"dbfs:/FileStore/cleaned_data/airforce_personnel_cleaned.parquet\")\n",
    "\n",
    "df_airforce_personnel_parquet.show(10)\n",
    "df_airforce_personnel_parquet.printSchema()\n",
    "\n"
   ]
  },
  {
   "cell_type": "code",
   "execution_count": 0,
   "metadata": {
    "application/vnd.databricks.v1+cell": {
     "cellMetadata": {
      "byteLimit": 2048000,
      "rowLimit": 10000
     },
     "inputWidgets": {},
     "nuid": "5f7d0d5e-d56b-4743-94e3-39fe2be551a0",
     "showTitle": false,
     "tableResultSettingsMap": {},
     "title": ""
    }
   },
   "outputs": [
    {
     "output_type": "stream",
     "name": "stdout",
     "output_type": "stream",
     "text": [
      "+-----------+-----------------+\n|fiscal_year|regular_air_force|\n+-----------+-----------------+\n+-----------+-----------------+\n\nroot\n |-- fiscal_year: integer (nullable = true)\n |-- regular_air_force: integer (nullable = true)\n\n"
     ]
    }
   ],
   "source": [
    "df_airforce_personnel_cleaned.show(10)\n",
    "df_airforce_personnel_cleaned.printSchema()\n"
   ]
  },
  {
   "cell_type": "markdown",
   "metadata": {
    "application/vnd.databricks.v1+cell": {
     "cellMetadata": {},
     "inputWidgets": {},
     "nuid": "5062ff53-e221-488c-827f-c8a8cd203aa4",
     "showTitle": false,
     "tableResultSettingsMap": {},
     "title": ""
    }
   },
   "source": [
    "^^df here is incorrectly pre-processed, using parquet instead"
   ]
  },
  {
   "cell_type": "code",
   "execution_count": 0,
   "metadata": {
    "application/vnd.databricks.v1+cell": {
     "cellMetadata": {
      "byteLimit": 2048000,
      "rowLimit": 10000
     },
     "inputWidgets": {},
     "nuid": "452cf7c5-956c-4f65-b938-137c2b8bee6a",
     "showTitle": false,
     "tableResultSettingsMap": {},
     "title": ""
    }
   },
   "outputs": [
    {
     "output_type": "stream",
     "name": "stdout",
     "output_type": "stream",
     "text": [
      "+-----------+-----------------+\n|fiscal_year|regular_air_force|\n+-----------+-----------------+\n|       1998|             4447|\n|       1999|             4413|\n|       2000|             4401|\n|       2001|             4339|\n|       2002|             4387|\n|       2003|             4328|\n|       2004|             4284|\n|       2005|             4273|\n|       2006|             4166|\n|       2007|             3876|\n+-----------+-----------------+\nonly showing top 10 rows\n\nroot\n |-- fiscal_year: integer (nullable = true)\n |-- regular_air_force: integer (nullable = true)\n\n"
     ]
    }
   ],
   "source": [
    "from pyspark.sql.functions import col, regexp_replace\n",
    "\n",
    "# Read from Parquet\n",
    "df_airforce_personnel_cleaned = spark.read.parquet(\"dbfs:/FileStore/cleaned_data/airforce_personnel_cleaned.parquet\")\n",
    "\n",
    "# Rename columns if needed\n",
    "df_airforce_personnel_cleaned = df_airforce_personnel_cleaned.withColumnRenamed(\"_c0\", \"fiscal_year\") \\\n",
    "                                                             .withColumnRenamed(\"_c1\", \"regular_air_force\")\n",
    "\n",
    "# Remove commas and convert data types\n",
    "df_airforce_personnel_cleaned = df_airforce_personnel_cleaned \\\n",
    "    .withColumn(\"fiscal_year\", col(\"fiscal_year\").cast(\"int\")) \\\n",
    "    .withColumn(\"regular_air_force\", regexp_replace(col(\"regular_air_force\"), \",\", \"\").cast(\"int\"))\n",
    "\n",
    "# Drop rows where conversion resulted in nulls\n",
    "df_airforce_personnel_cleaned = df_airforce_personnel_cleaned.dropna()\n",
    "\n",
    "# Show results\n",
    "df_airforce_personnel_cleaned.show(10)\n",
    "df_airforce_personnel_cleaned.printSchema()\n",
    "\n",
    "# Save cleaned data back to Parquet\n",
    "df_airforce_personnel_cleaned.write.mode(\"overwrite\").parquet(\"dbfs:/FileStore/cleaned_data/airforce_personnel_cleaned.parquet\")\n"
   ]
  },
  {
   "cell_type": "markdown",
   "metadata": {
    "application/vnd.databricks.v1+cell": {
     "cellMetadata": {},
     "inputWidgets": {},
     "nuid": "a26b0ac0-9ff6-402a-92e8-e1650f5bf73a",
     "showTitle": false,
     "tableResultSettingsMap": {},
     "title": ""
    }
   },
   "source": [
    "SUPER BASIC REGRESSION MODEL "
   ]
  },
  {
   "cell_type": "code",
   "execution_count": 0,
   "metadata": {
    "application/vnd.databricks.v1+cell": {
     "cellMetadata": {
      "byteLimit": 2048000,
      "rowLimit": 10000
     },
     "inputWidgets": {},
     "nuid": "048bf8f5-28bb-4101-a804-4ac4739b82ca",
     "showTitle": false,
     "tableResultSettingsMap": {},
     "title": ""
    }
   },
   "outputs": [
    {
     "output_type": "stream",
     "name": "stdout",
     "output_type": "stream",
     "text": [
      "Root Mean Squared Error (RMSE): 111.65372455207722\n+-----------+-----------------+------------------+\n|fiscal_year|regular_air_force|        prediction|\n+-----------+-----------------+------------------+\n|       2000|             4401|    4368.095395728|\n|       2004|             4284|4232.5046644601825|\n|       2006|             4166| 4164.709298826259|\n|       2011|             4210|3995.2208847414877|\n+-----------+-----------------+------------------+\n\n"
     ]
    }
   ],
   "source": [
    "from pyspark.ml.feature import VectorAssembler\n",
    "from pyspark.ml.regression import LinearRegression\n",
    "from pyspark.ml.evaluation import RegressionEvaluator\n",
    "\n",
    "# Read from Parquet\n",
    "df_airforce_personnel_cleaned = spark.read.parquet(\"dbfs:/FileStore/cleaned_data/airforce_personnel_cleaned.parquet\")\n",
    "\n",
    "# Prepare features for MLlib\n",
    "assembler = VectorAssembler(inputCols=[\"fiscal_year\"], outputCol=\"features\")\n",
    "df_airforce_personnel_vector = assembler.transform(df_airforce_personnel_cleaned)\n",
    "\n",
    "# Train-test split (80%-20%)\n",
    "train_data, test_data = df_airforce_personnel_vector.randomSplit([0.8, 0.2], seed=42)\n",
    "\n",
    "# Train Linear Regression Model\n",
    "lr = LinearRegression(featuresCol=\"features\", labelCol=\"regular_air_force\")\n",
    "model = lr.fit(train_data)\n",
    "\n",
    "# Predictions\n",
    "predictions = model.transform(test_data)\n",
    "\n",
    "# Evaluate model performance\n",
    "evaluator = RegressionEvaluator(labelCol=\"regular_air_force\", predictionCol=\"prediction\", metricName=\"rmse\")\n",
    "rmse = evaluator.evaluate(predictions)\n",
    "\n",
    "print(f\"Root Mean Squared Error (RMSE): {rmse}\")\n",
    "\n",
    "# Show predictions\n",
    "predictions.select(\"fiscal_year\", \"regular_air_force\", \"prediction\").show(10)\n",
    "\n"
   ]
  },
  {
   "cell_type": "markdown",
   "metadata": {
    "application/vnd.databricks.v1+cell": {
     "cellMetadata": {},
     "inputWidgets": {},
     "nuid": "c673687c-325c-44ec-9264-662b58de188f",
     "showTitle": false,
     "tableResultSettingsMap": {},
     "title": ""
    }
   },
   "source": [
    "PREDICTING DEFENSE SPENDING USING A REGRESSION "
   ]
  },
  {
   "cell_type": "code",
   "execution_count": 0,
   "metadata": {
    "application/vnd.databricks.v1+cell": {
     "cellMetadata": {
      "byteLimit": 2048000,
      "rowLimit": 10000
     },
     "inputWidgets": {},
     "nuid": "e1fb51d9-55af-402f-bb3d-49ff62697185",
     "showTitle": false,
     "tableResultSettingsMap": {},
     "title": ""
    }
   },
   "outputs": [
    {
     "output_type": "stream",
     "name": "stdout",
     "output_type": "stream",
     "text": [
      "Root Mean Squared Error (RMSE): 0.22419178410291074\n+-----------+------------------------+------------------+\n|fiscal_year|national_defense_outlays|        prediction|\n+-----------+------------------------+------------------+\n|       2000|                     3.0|3.2567860367099115|\n|       2004|                     3.9|3.6758049954848957|\n|       2006|                     3.9| 3.885314474872388|\n|       2011|                     4.7| 4.409088173341132|\n+-----------+------------------------+------------------+\n\n+-----------+------------------+\n|fiscal_year|        prediction|\n+-----------+------------------+\n|       2025| 5.875654529053605|\n|       2026| 5.980409268747337|\n|       2027| 6.085164008441097|\n|       2028| 6.189918748134829|\n|       2029|6.2946734878285895|\n|       2030| 6.399428227522321|\n|       2031| 6.504182967216082|\n|       2032| 6.608937706909813|\n|       2033| 6.713692446603574|\n|       2034|6.8184471862973055|\n+-----------+------------------+\n\n"
     ]
    }
   ],
   "source": [
    "from pyspark.sql import SparkSession\n",
    "from pyspark.sql.functions import col, regexp_replace\n",
    "from pyspark.ml.feature import VectorAssembler\n",
    "from pyspark.ml.regression import LinearRegression\n",
    "from pyspark.ml.evaluation import RegressionEvaluator\n",
    "\n",
    "# Initialize Spark session\n",
    "spark = SparkSession.builder.appName(\"DefenseOutlaysRegression\").getOrCreate()\n",
    "\n",
    "# Load the Parquet file\n",
    "df_payments = spark.read.parquet(\"dbfs:/FileStore/cleaned_data/defense_spending_cleaned.parquet\")\n",
    "\n",
    "# Rename columns if necessary (adjust based on actual schema)\n",
    "df_payments = df_payments.withColumnRenamed(\"_c0\", \"fiscal_year\") \\\n",
    "                         .withColumnRenamed(\"_c1\", \"national_defense_outlays\")\n",
    "\n",
    "# Convert data types (remove commas from numbers if present)\n",
    "df_payments = df_payments \\\n",
    "    .withColumn(\"fiscal_year\", col(\"fiscal_year\").cast(\"int\")) \\\n",
    "    .withColumn(\"national_defense_outlays\", regexp_replace(col(\"national_defense_outlays\"), \",\", \"\").cast(\"double\"))\n",
    "\n",
    "# Drop null values\n",
    "df_payments = df_payments.dropna()\n",
    "\n",
    "# Prepare features for MLlib\n",
    "assembler = VectorAssembler(inputCols=[\"fiscal_year\"], outputCol=\"features\")\n",
    "df_payments_vector = assembler.transform(df_payments)\n",
    "\n",
    "# Train-test split (80%-20%)\n",
    "train_data, test_data = df_payments_vector.randomSplit([0.8, 0.2], seed=42)\n",
    "\n",
    "# Train Linear Regression Model\n",
    "lr = LinearRegression(featuresCol=\"features\", labelCol=\"national_defense_outlays\")\n",
    "model = lr.fit(train_data)\n",
    "\n",
    "# Predictions\n",
    "predictions = model.transform(test_data)\n",
    "\n",
    "# Evaluate model performance\n",
    "evaluator = RegressionEvaluator(labelCol=\"national_defense_outlays\", predictionCol=\"prediction\", metricName=\"rmse\")\n",
    "rmse = evaluator.evaluate(predictions)\n",
    "\n",
    "print(f\"Root Mean Squared Error (RMSE): {rmse}\")\n",
    "\n",
    "# Show predictions\n",
    "predictions.select(\"fiscal_year\", \"national_defense_outlays\", \"prediction\").show(10)\n",
    "\n",
    "# Forecast future values (optional)\n",
    "future_years = [(year,) for year in range(2025, 2035)]\n",
    "future_df = spark.createDataFrame(future_years, [\"fiscal_year\"])\n",
    "future_df = assembler.transform(future_df)\n",
    "\n",
    "future_predictions = model.transform(future_df)\n",
    "future_predictions.select(\"fiscal_year\", \"prediction\").show()\n",
    "\n"
   ]
  },
  {
   "cell_type": "code",
   "execution_count": 0,
   "metadata": {
    "application/vnd.databricks.v1+cell": {
     "cellMetadata": {
      "byteLimit": 2048000,
      "rowLimit": 10000
     },
     "inputWidgets": {},
     "nuid": "90b66a75-e238-4683-bd89-d7ca389cfed3",
     "showTitle": false,
     "tableResultSettingsMap": {},
     "title": ""
    }
   },
   "outputs": [
    {
     "output_type": "display_data",
     "data": {
      "image/png": "[encoded data removed]",
      "text/plain": [
       "<Figure size 1000x500 with 1 Axes>"
      ]
     },
     "metadata": {},
     "output_type": "display_data"
    }
   ],
   "source": [
    "# Re-import necessary libraries since execution state was reset\n",
    "import matplotlib.pyplot as plt\n",
    "\n",
    "# Re-define data\n",
    "actual_years = [2000, 2004, 2006, 2011]\n",
    "actual_values = [3.0, 3.9, 3.9, 4.7]\n",
    "\n",
    "# Predicted Future Data\n",
    "future_years = list(range(2025, 2035))\n",
    "future_predictions = [5.875, 5.980, 6.085, 6.190, 6.295, 6.399, 6.504, 6.609, 6.714, 6.818]\n",
    "\n",
    "# Create visualization\n",
    "plt.figure(figsize=(10, 5))\n",
    "plt.plot(actual_years, actual_values, marker=\"o\", linestyle=\"-\", label=\"Actual Defense Spending\")\n",
    "plt.plot(future_years, future_predictions, marker=\"s\", linestyle=\"--\", label=\"Predicted Defense Spending\")\n",
    "\n",
    "plt.xlabel(\"Fiscal Year\")\n",
    "plt.ylabel(\"Defense Outlays (in Billions)\")\n",
    "plt.title(\"National Defense Spending: Historical & Predicted Trends\")\n",
    "plt.legend()\n",
    "plt.grid(True)\n",
    "\n",
    "plt.show()\n"
   ]
  },
  {
   "cell_type": "code",
   "execution_count": 0,
   "metadata": {
    "application/vnd.databricks.v1+cell": {
     "cellMetadata": {
      "byteLimit": 2048000,
      "rowLimit": 10000
     },
     "inputWidgets": {},
     "nuid": "9987e364-75a0-4cbf-97bd-d0bf228c57a5",
     "showTitle": false,
     "tableResultSettingsMap": {},
     "title": ""
    }
   },
   "outputs": [
    {
     "output_type": "display_data",
     "data": {
      "image/png": "[encoded data removed]",
      "text/plain": [
       "<Figure size 800x500 with 1 Axes>"
      ]
     },
     "metadata": {},
     "output_type": "display_data"
    },
    {
     "output_type": "display_data",
     "data": {
      "image/png": "[encoded data removed]",
      "text/plain": [
       "<Figure size 1000x600 with 1 Axes>"
      ]
     },
     "metadata": {},
     "output_type": "display_data"
    }
   ],
   "source": [
    "from pyspark.ml.clustering import KMeans\n",
    "from pyspark.ml.feature import VectorAssembler\n",
    "import matplotlib.pyplot as plt\n",
    "import seaborn as sns\n",
    "\n",
    "# Load the dataset from Parquet\n",
    "df_airforce_budget = spark.read.parquet(\"dbfs:/FileStore/cleaned_data/airforce_budget_cleaned.parquet\")\n",
    "\n",
    "# Prepare features for clustering\n",
    "assembler = VectorAssembler(inputCols=[\"military_compensation\", \"budget_category_1\", \"budget_category_2\", \"budget_category_3\"], \n",
    "                            outputCol=\"features\")\n",
    "df_airforce_budget_vector = assembler.transform(df_airforce_budget)\n",
    "\n",
    "# Determine optimal number of clusters using Elbow Method\n",
    "cost = []\n",
    "for k in range(2, 7):\n",
    "    kmeans = KMeans(k=k, seed=1, featuresCol=\"features\", predictionCol=\"cluster\")\n",
    "    model = kmeans.fit(df_airforce_budget_vector)\n",
    "    cost.append(model.summary.trainingCost)\n",
    "\n",
    "plt.figure(figsize=(8, 5))\n",
    "plt.plot(range(2, 7), cost, marker=\"o\", linestyle=\"-\", color=\"b\")\n",
    "plt.xlabel(\"Number of Clusters\")\n",
    "plt.ylabel(\"Cost (SSE)\")\n",
    "plt.title(\"Elbow Method for Optimal K\")\n",
    "plt.grid(True)\n",
    "plt.show()\n",
    "\n",
    "# Train K-Means clustering model with optimal K (Assuming K=4 from Elbow Method)\n",
    "kmeans = KMeans(k=4, seed=1, featuresCol=\"features\", predictionCol=\"cluster\")\n",
    "model = kmeans.fit(df_airforce_budget_vector)\n",
    "df_clustered = model.transform(df_airforce_budget_vector)\n",
    "\n",
    "# Convert to Pandas for visualization\n",
    "df_clustered_pd = df_clustered.select(\"fiscal_year\", \"military_compensation\", \"cluster\").toPandas()\n",
    "\n",
    "plt.figure(figsize=(10, 6))\n",
    "sns.scatterplot(x=\"fiscal_year\", y=\"military_compensation\", hue=\"cluster\", data=df_clustered_pd, palette=\"viridis\")\n",
    "plt.xlabel(\"Fiscal Year\")\n",
    "plt.ylabel(\"Military Compensation\")\n",
    "plt.title(\"Air Force Budget Clustering Analysis\")\n",
    "plt.legend(title=\"Cluster\")\n",
    "plt.grid(True)\n",
    "plt.show()\n"
   ]
  },
  {
   "cell_type": "markdown",
   "metadata": {
    "application/vnd.databricks.v1+cell": {
     "cellMetadata": {},
     "inputWidgets": {},
     "nuid": "191d085e-8ef5-4da1-8316-56ebaa75bdb3",
     "showTitle": false,
     "tableResultSettingsMap": {},
     "title": ""
    }
   },
   "source": [
    "Adding cross validation to second regression model "
   ]
  },
  {
   "cell_type": "code",
   "execution_count": 0,
   "metadata": {
    "application/vnd.databricks.v1+cell": {
     "cellMetadata": {
      "byteLimit": 2048000,
      "rowLimit": 10000
     },
     "inputWidgets": {},
     "nuid": "aff9b8c2-d546-4360-977b-699b26d13d21",
     "showTitle": false,
     "tableResultSettingsMap": {},
     "title": ""
    }
   },
   "outputs": [
    {
     "output_type": "stream",
     "name": "stdout",
     "output_type": "stream",
     "text": [
      "Best Model Params: regParam=0.01, elasticNetParam=0.0\nOptimized Root Mean Squared Error (RMSE): 0.22922371710227815\n+-----------+------------------------+------------------+\n|fiscal_year|national_defense_outlays|        prediction|\n+-----------+------------------------+------------------+\n|       2000|                     3.0| 3.266174231642907|\n|       2004|                     3.9|3.6784673194211166|\n|       2006|                     3.9|3.8846138633102214|\n|       2011|                     4.7| 4.399980223032969|\n+-----------+------------------------+------------------+\n\n+-----------+-----------------+\n|fiscal_year|       prediction|\n+-----------+-----------------+\n|       2025|5.843006030256646|\n|       2026|5.946079302201184|\n|       2027|6.049152574145751|\n|       2028|6.152225846090289|\n|       2029|6.255299118034856|\n|       2030|6.358372389979394|\n|       2031|6.461445661923932|\n|       2032|6.564518933868499|\n|       2033|6.667592205813037|\n|       2034|6.770665477757603|\n+-----------+-----------------+\n\n"
     ]
    }
   ],
   "source": [
    "from pyspark.sql import SparkSession\n",
    "from pyspark.sql.functions import col, regexp_replace\n",
    "from pyspark.ml.feature import VectorAssembler\n",
    "from pyspark.ml.regression import LinearRegression\n",
    "from pyspark.ml.evaluation import RegressionEvaluator\n",
    "from pyspark.ml.tuning import ParamGridBuilder, CrossValidator\n",
    "\n",
    "# Initialize Spark session\n",
    "spark = SparkSession.builder.appName(\"DefenseOutlaysRegression\").getOrCreate()\n",
    "\n",
    "# Load the Parquet file\n",
    "df_payments = spark.read.parquet(\"dbfs:/FileStore/cleaned_data/defense_spending_cleaned.parquet\")\n",
    "\n",
    "# Rename columns if necessary (adjust based on actual schema)\n",
    "df_payments = df_payments.withColumnRenamed(\"_c0\", \"fiscal_year\") \\\n",
    "                         .withColumnRenamed(\"_c1\", \"national_defense_outlays\")\n",
    "\n",
    "# Convert data types (remove commas from numbers if present)\n",
    "df_payments = df_payments \\\n",
    "    .withColumn(\"fiscal_year\", col(\"fiscal_year\").cast(\"int\")) \\\n",
    "    .withColumn(\"national_defense_outlays\", regexp_replace(col(\"national_defense_outlays\"), \",\", \"\").cast(\"double\"))\n",
    "\n",
    "# Drop null values\n",
    "df_payments = df_payments.dropna()\n",
    "\n",
    "# Prepare features for MLlib\n",
    "assembler = VectorAssembler(inputCols=[\"fiscal_year\"], outputCol=\"features\")\n",
    "df_payments_vector = assembler.transform(df_payments)\n",
    "\n",
    "# Train-test split (80%-20%)\n",
    "train_data, test_data = df_payments_vector.randomSplit([0.8, 0.2], seed=42)\n",
    "\n",
    "# Define Linear Regression Model\n",
    "lr = LinearRegression(featuresCol=\"features\", labelCol=\"national_defense_outlays\")\n",
    "\n",
    "# Hyperparameter tuning using CrossValidator\n",
    "paramGrid = (ParamGridBuilder()\n",
    "             .addGrid(lr.regParam, [0.01, 0.1, 0.5, 1.0])  # Regularization parameter\n",
    "             .addGrid(lr.elasticNetParam, [0.0, 0.5, 1.0])  # ElasticNet mixing param\n",
    "             .build())\n",
    "\n",
    "# Define evaluator for RMSE\n",
    "evaluator = RegressionEvaluator(labelCol=\"national_defense_outlays\", predictionCol=\"prediction\", metricName=\"rmse\")\n",
    "\n",
    "# Perform Cross Validation\n",
    "crossval = CrossValidator(estimator=lr,\n",
    "                          estimatorParamMaps=paramGrid,\n",
    "                          evaluator=evaluator,\n",
    "                          numFolds=3)  # 3-fold cross-validation\n",
    "\n",
    "# Train the best model\n",
    "cvModel = crossval.fit(train_data)\n",
    "\n",
    "# Best model selection\n",
    "bestModel = cvModel.bestModel\n",
    "print(f\"Best Model Params: regParam={bestModel._java_obj.getRegParam()}, elasticNetParam={bestModel._java_obj.getElasticNetParam()}\")\n",
    "\n",
    "# Predictions\n",
    "predictions = bestModel.transform(test_data)\n",
    "\n",
    "# Evaluate model performance\n",
    "rmse = evaluator.evaluate(predictions)\n",
    "print(f\"Optimized Root Mean Squared Error (RMSE): {rmse}\")\n",
    "\n",
    "# Show predictions\n",
    "predictions.select(\"fiscal_year\", \"national_defense_outlays\", \"prediction\").show(10)\n",
    "\n",
    "# Forecast future values (optional)\n",
    "future_years = [(year,) for year in range(2025, 2035)]\n",
    "future_df = spark.createDataFrame(future_years, [\"fiscal_year\"])\n",
    "future_df = assembler.transform(future_df)\n",
    "\n",
    "future_predictions = bestModel.transform(future_df)\n",
    "future_predictions.select(\"fiscal_year\", \"prediction\").show()\n"
   ]
  },
  {
   "cell_type": "markdown",
   "metadata": {
    "application/vnd.databricks.v1+cell": {
     "cellMetadata": {},
     "inputWidgets": {},
     "nuid": "34dd5159-54bf-4211-ae7b-61f2f506fdc5",
     "showTitle": false,
     "tableResultSettingsMap": {},
     "title": ""
    }
   },
   "source": [
    "AUTOMATING ML PROCESS "
   ]
  },
  {
   "cell_type": "code",
   "execution_count": 0,
   "metadata": {
    "application/vnd.databricks.v1+cell": {
     "cellMetadata": {
      "byteLimit": 2048000,
      "rowLimit": 10000
     },
     "inputWidgets": {},
     "nuid": "4c830815-2192-4383-98af-7d8b99dc493b",
     "showTitle": false,
     "tableResultSettingsMap": {},
     "title": ""
    }
   },
   "outputs": [
    {
     "output_type": "stream",
     "name": "stdout",
     "output_type": "stream",
     "text": [
      "\u001B[43mNote: you may need to restart the kernel using dbutils.library.restartPython() to use updated packages.\u001B[0m\nCollecting mlflow\n  Downloading mlflow-2.20.3-py3-none-any.whl (28.4 MB)\n     ━━━━━━━━━━━━━━━━━━━━━━━━━━━━━━━━━━━━━━━━ 28.4/28.4 MB 51.9 MB/s eta 0:00:00\nRequirement already satisfied: pyarrow<20,>=4.0.0 in /databricks/python3/lib/python3.10/site-packages (from mlflow) (8.0.0)\nRequirement already satisfied: matplotlib<4 in /databricks/python3/lib/python3.10/site-packages (from mlflow) (3.7.0)\nRequirement already satisfied: scipy<2 in /databricks/python3/lib/python3.10/site-packages (from mlflow) (1.10.0)\nCollecting sqlalchemy<3,>=1.4.0\n  Downloading SQLAlchemy-2.0.38-cp310-cp310-manylinux_2_17_x86_64.manylinux2014_x86_64.whl (3.1 MB)\n     ━━━━━━━━━━━━━━━━━━━━━━━━━━━━━━━━━━━━━━━━ 3.1/3.1 MB 104.8 MB/s eta 0:00:00\nCollecting mlflow-skinny==2.20.3\n  Downloading mlflow_skinny-2.20.3-py3-none-any.whl (6.0 MB)\n     ━━━━━━━━━━━━━━━━━━━━━━━━━━━━━━━━━━━━━━━━ 6.0/6.0 MB 123.4 MB/s eta 0:00:00\nCollecting graphene<4\n  Downloading graphene-3.4.3-py2.py3-none-any.whl (114 kB)\n     ━━━━━━━━━━━━━━━━━━━━━━━━━━━━━━━━━━━━━━ 114.9/114.9 kB 22.0 MB/s eta 0:00:00\nRequirement already satisfied: scikit-learn<2 in /databricks/python3/lib/python3.10/site-packages (from mlflow) (1.1.1)\nRequirement already satisfied: pandas<3 in /databricks/python3/lib/python3.10/site-packages (from mlflow) (1.5.3)\nRequirement already satisfied: Jinja2<4,>=2.11 in /databricks/python3/lib/python3.10/site-packages (from mlflow) (3.1.2)\nRequirement already satisfied: numpy<3 in /databricks/python3/lib/python3.10/site-packages (from mlflow) (1.23.5)\nCollecting markdown<4,>=3.3\n  Downloading Markdown-3.7-py3-none-any.whl (106 kB)\n     ━━━━━━━━━━━━━━━━━━━━━━━━━━━━━━━━━━━━━━ 106.3/106.3 kB 22.5 MB/s eta 0:00:00\nCollecting alembic!=1.10.0,<2\n  Downloading alembic-1.14.1-py3-none-any.whl (233 kB)\n     ━━━━━━━━━━━━━━━━━━━━━━━━━━━━━━━━━━━━━━ 233.6/233.6 kB 33.2 MB/s eta 0:00:00\nCollecting Flask<4\n  Downloading flask-3.1.0-py3-none-any.whl (102 kB)\n     ━━━━━━━━━━━━━━━━━━━━━━━━━━━━━━━━━━━━━━ 103.0/103.0 kB 15.5 MB/s eta 0:00:00\nCollecting gunicorn<24\n  Downloading gunicorn-23.0.0-py3-none-any.whl (85 kB)\n     ━━━━━━━━━━━━━━━━━━━━━━━━━━━━━━━━━━━━━━━━ 85.0/85.0 kB 14.0 MB/s eta 0:00:00\nCollecting docker<8,>=4.0.0\n  Downloading docker-7.1.0-py3-none-any.whl (147 kB)\n     ━━━━━━━━━━━━━━━━━━━━━━━━━━━━━━━━━━━━━━ 147.8/147.8 kB 19.9 MB/s eta 0:00:00\nCollecting databricks-sdk<1,>=0.20.0\n  Downloading databricks_sdk-0.44.1-py3-none-any.whl (648 kB)\n     ━━━━━━━━━━━━━━━━━━━━━━━━━━━━━━━━━━━━━━ 648.7/648.7 kB 65.3 MB/s eta 0:00:00\nRequirement already satisfied: packaging<25 in /databricks/python3/lib/python3.10/site-packages (from mlflow-skinny==2.20.3->mlflow) (23.2)\nCollecting pydantic<3,>=1.10.8\n  Downloading pydantic-2.10.6-py3-none-any.whl (431 kB)\n     ━━━━━━━━━━━━━━━━━━━━━━━━━━━━━━━━━━━━━━ 431.7/431.7 kB 51.9 MB/s eta 0:00:00\nCollecting cloudpickle<4\n  Downloading cloudpickle-3.1.1-py3-none-any.whl (20 kB)\nCollecting opentelemetry-api<3,>=1.9.0\n  Downloading opentelemetry_api-1.30.0-py3-none-any.whl (64 kB)\n     ━━━━━━━━━━━━━━━━━━━━━━━━━━━━━━━━━━━━━━━━ 65.0/65.0 kB 9.3 MB/s eta 0:00:00\nCollecting sqlparse<1,>=0.4.0\n  Downloading sqlparse-0.5.3-py3-none-any.whl (44 kB)\n     ━━━━━━━━━━━━━━━━━━━━━━━━━━━━━━━━━━━━━━━━ 44.4/44.4 kB 6.9 MB/s eta 0:00:00\nCollecting gitpython<4,>=3.1.9\n  Downloading GitPython-3.1.44-py3-none-any.whl (207 kB)\n     ━━━━━━━━━━━━━━━━━━━━━━━━━━━━━━━━━━━━━━ 207.6/207.6 kB 21.8 MB/s eta 0:00:00\nCollecting opentelemetry-sdk<3,>=1.9.0\n  Downloading opentelemetry_sdk-1.30.0-py3-none-any.whl (118 kB)\n     ━━━━━━━━━━━━━━━━━━━━━━━━━━━━━━━━━━━━━━ 118.7/118.7 kB 16.0 MB/s eta 0:00:00\nCollecting cachetools<6,>=5.0.0\n  Downloading cachetools-5.5.2-py3-none-any.whl (10 kB)\nRequirement already satisfied: typing-extensions<5,>=4.0.0 in /databricks/python3/lib/python3.10/site-packages (from mlflow-skinny==2.20.3->mlflow) (4.4.0)\nRequirement already satisfied: importlib_metadata!=4.7.0,<9,>=3.7.0 in /usr/lib/python3/dist-packages (from mlflow-skinny==2.20.3->mlflow) (4.6.4)\nCollecting pyyaml<7,>=5.1\n  Downloading PyYAML-6.0.2-cp310-cp310-manylinux_2_17_x86_64.manylinux2014_x86_64.whl (751 kB)\n     ━━━━━━━━━━━━━━━━━━━━━━━━━━━━━━━━━━━━━━ 751.2/751.2 kB 69.7 MB/s eta 0:00:00\nRequirement already satisfied: requests<3,>=2.17.3 in /databricks/python3/lib/python3.10/site-packages (from mlflow-skinny==2.20.3->mlflow) (2.28.1)\nRequirement already satisfied: click<9,>=7.0 in /databricks/python3/lib/python3.10/site-packages (from mlflow-skinny==2.20.3->mlflow) (8.0.4)\nRequirement already satisfied: protobuf<6,>=3.12.0 in /databricks/python3/lib/python3.10/site-packages (from mlflow-skinny==2.20.3->mlflow) (4.24.0)\nCollecting Mako\n  Downloading Mako-1.3.9-py3-none-any.whl (78 kB)\n     ━━━━━━━━━━━━━━━━━━━━━━━━━━━━━━━━━━━━━━━━ 78.5/78.5 kB 10.2 MB/s eta 0:00:00\nRequirement already satisfied: urllib3>=1.26.0 in /databricks/python3/lib/python3.10/site-packages (from docker<8,>=4.0.0->mlflow) (1.26.14)\nCollecting itsdangerous>=2.2\n  Downloading itsdangerous-2.2.0-py3-none-any.whl (16 kB)\nCollecting blinker>=1.9\n  Downloading blinker-1.9.0-py3-none-any.whl (8.5 kB)\nCollecting Werkzeug>=3.1\n  Downloading werkzeug-3.1.3-py3-none-any.whl (224 kB)\n     ━━━━━━━━━━━━━━━━━━━━━━━━━━━━━━━━━━━━━━ 224.5/224.5 kB 24.3 MB/s eta 0:00:00\nCollecting click<9,>=7.0\n  Downloading click-8.1.8-py3-none-any.whl (98 kB)\n     ━━━━━━━━━━━━━━━━━━━━━━━━━━━━━━━━━━━━━━━━ 98.2/98.2 kB 15.5 MB/s eta 0:00:00\nCollecting typing-extensions<5,>=4.0.0\n  Downloading typing_extensions-4.12.2-py3-none-any.whl (37 kB)\nRequirement already satisfied: python-dateutil<3,>=2.7.0 in /databricks/python3/lib/python3.10/site-packages (from graphene<4->mlflow) (2.8.2)\nCollecting graphql-relay<3.3,>=3.1\n  Downloading graphql_relay-3.2.0-py3-none-any.whl (16 kB)\nCollecting graphql-core<3.3,>=3.1\n  Downloading graphql_core-3.2.6-py3-none-any.whl (203 kB)\n     ━━━━━━━━━━━━━━━━━━━━━━━━━━━━━━━━━━━━━━ 203.4/203.4 kB 26.9 MB/s eta 0:00:00\nRequirement already satisfied: MarkupSafe>=2.0 in /databricks/python3/lib/python3.10/site-packages (from Jinja2<4,>=2.11->mlflow) (2.1.1)\nRequirement already satisfied: cycler>=0.10 in /databricks/python3/lib/python3.10/site-packages (from matplotlib<4->mlflow) (0.11.0)\nRequirement already satisfied: pillow>=6.2.0 in /databricks/python3/lib/python3.10/site-packages (from matplotlib<4->mlflow) (9.4.0)\nRequirement already satisfied: contourpy>=1.0.1 in /databricks/python3/lib/python3.10/site-packages (from matplotlib<4->mlflow) (1.0.5)\nRequirement already satisfied: pyparsing>=2.3.1 in /databricks/python3/lib/python3.10/site-packages (from matplotlib<4->mlflow) (3.0.9)\nRequirement already satisfied: fonttools>=4.22.0 in /databricks/python3/lib/python3.10/site-packages (from matplotlib<4->mlflow) (4.25.0)\nRequirement already satisfied: kiwisolver>=1.0.1 in /databricks/python3/lib/python3.10/site-packages (from matplotlib<4->mlflow) (1.4.4)\nRequirement already satisfied: pytz>=2020.1 in /databricks/python3/lib/python3.10/site-packages (from pandas<3->mlflow) (2022.7)\nRequirement already satisfied: threadpoolctl>=2.0.0 in /databricks/python3/lib/python3.10/site-packages (from scikit-learn<2->mlflow) (2.2.0)\nRequirement already satisfied: joblib>=1.0.0 in /databricks/python3/lib/python3.10/site-packages (from scikit-learn<2->mlflow) (1.2.0)\nCollecting greenlet!=0.4.17\n  Downloading greenlet-3.1.1-cp310-cp310-manylinux_2_24_x86_64.manylinux_2_28_x86_64.whl (599 kB)\n     ━━━━━━━━━━━━━━━━━━━━━━━━━━━━━━━━━━━━━━ 599.5/599.5 kB 56.6 MB/s eta 0:00:00\nCollecting google-auth~=2.0\n  Downloading google_auth-2.38.0-py2.py3-none-any.whl (210 kB)\n     ━━━━━━━━━━━━━━━━━━━━━━━━━━━━━━━━━━━━━━ 210.8/210.8 kB 30.1 MB/s eta 0:00:00\nCollecting gitdb<5,>=4.0.1\n  Downloading gitdb-4.0.12-py3-none-any.whl (62 kB)\n     ━━━━━━━━━━━━━━━━━━━━━━━━━━━━━━━━━━━━━━━━ 62.8/62.8 kB 9.2 MB/s eta 0:00:00\nCollecting importlib_metadata!=4.7.0,<9,>=3.7.0\n  Downloading importlib_metadata-8.5.0-py3-none-any.whl (26 kB)\nCollecting deprecated>=1.2.6\n  Downloading Deprecated-1.2.18-py2.py3-none-any.whl (10.0 kB)\nCollecting zipp>=3.20\n  Downloading zipp-3.21.0-py3-none-any.whl (9.6 kB)\nCollecting opentelemetry-semantic-conventions==0.51b0\n  Downloading opentelemetry_semantic_conventions-0.51b0-py3-none-any.whl (177 kB)\n     ━━━━━━━━━━━━━━━━━━━━━━━━━━━━━━━━━━━━━━ 177.4/177.4 kB 23.0 MB/s eta 0:00:00\nCollecting annotated-types>=0.6.0\n  Downloading annotated_types-0.7.0-py3-none-any.whl (13 kB)\nCollecting pydantic-core==2.27.2\n  Downloading pydantic_core-2.27.2-cp310-cp310-manylinux_2_17_x86_64.manylinux2014_x86_64.whl (2.0 MB)\n     ━━━━━━━━━━━━━━━━━━━━━━━━━━━━━━━━━━━━━━━━ 2.0/2.0 MB 103.4 MB/s eta 0:00:00\nRequirement already satisfied: six>=1.5 in /usr/lib/python3/dist-packages (from python-dateutil<3,>=2.7.0->graphene<4->mlflow) (1.16.0)\nRequirement already satisfied: idna<4,>=2.5 in /databricks/python3/lib/python3.10/site-packages (from requests<3,>=2.17.3->mlflow-skinny==2.20.3->mlflow) (3.4)\nRequirement already satisfied: certifi>=2017.4.17 in /databricks/python3/lib/python3.10/site-packages (from requests<3,>=2.17.3->mlflow-skinny==2.20.3->mlflow) (2022.12.7)\nRequirement already satisfied: charset-normalizer<3,>=2 in /databricks/python3/lib/python3.10/site-packages (from requests<3,>=2.17.3->mlflow-skinny==2.20.3->mlflow) (2.0.4)\nCollecting wrapt<2,>=1.10\n  Downloading wrapt-1.17.2-cp310-cp310-manylinux_2_5_x86_64.manylinux1_x86_64.manylinux_2_17_x86_64.manylinux2014_x86_64.whl (82 kB)\n     ━━━━━━━━━━━━━━━━━━━━━━━━━━━━━━━━━━━━━━━━ 82.8/82.8 kB 10.4 MB/s eta 0:00:00\nCollecting smmap<6,>=3.0.1\n  Downloading smmap-5.0.2-py3-none-any.whl (24 kB)\nCollecting rsa<5,>=3.1.4\n  Downloading rsa-4.9-py3-none-any.whl (34 kB)\nCollecting pyasn1-modules>=0.2.1\n  Downloading pyasn1_modules-0.4.1-py3-none-any.whl (181 kB)\n     ━━━━━━━━━━━━━━━━━━━━━━━━━━━━━━━━━━━━━━ 181.5/181.5 kB 24.6 MB/s eta 0:00:00\nCollecting pyasn1<0.7.0,>=0.4.6\n  Downloading pyasn1-0.6.1-py3-none-any.whl (83 kB)\n     ━━━━━━━━━━━━━━━━━━━━━━━━━━━━━━━━━━━━━━━━ 83.1/83.1 kB 11.8 MB/s eta 0:00:00\nInstalling collected packages: zipp, wrapt, Werkzeug, typing-extensions, sqlparse, smmap, pyyaml, pyasn1, markdown, Mako, itsdangerous, gunicorn, greenlet, graphql-core, cloudpickle, click, cachetools, blinker, annotated-types, sqlalchemy, rsa, pydantic-core, pyasn1-modules, importlib_metadata, graphql-relay, gitdb, Flask, docker, deprecated, pydantic, opentelemetry-api, graphene, google-auth, gitpython, alembic, opentelemetry-semantic-conventions, databricks-sdk, opentelemetry-sdk, mlflow-skinny, mlflow\n  Attempting uninstall: zipp\n    Found existing installation: zipp 1.0.0\n    Not uninstalling zipp at /usr/lib/python3/dist-packages, outside environment /local_disk0/.ephemeral_nfs/envs/pythonEnv-0642df6c-b567-420c-a8fb-cae190ea414c\n    Can't uninstall 'zipp'. No files were found to uninstall.\n  Attempting uninstall: typing-extensions\n    Found existing installation: typing_extensions 4.4.0\n    Not uninstalling typing-extensions at /databricks/python3/lib/python3.10/site-packages, outside environment /local_disk0/.ephemeral_nfs/envs/pythonEnv-0642df6c-b567-420c-a8fb-cae190ea414c\n    Can't uninstall 'typing_extensions'. No files were found to uninstall.\n  Attempting uninstall: click\n    Found existing installation: click 8.0.4\n    Not uninstalling click at /databricks/python3/lib/python3.10/site-packages, outside environment /local_disk0/.ephemeral_nfs/envs/pythonEnv-0642df6c-b567-420c-a8fb-cae190ea414c\n    Can't uninstall 'click'. No files were found to uninstall.\n  Attempting uninstall: blinker\n    Found existing installation: blinker 1.4\n    Not uninstalling blinker at /usr/lib/python3/dist-packages, outside environment /local_disk0/.ephemeral_nfs/envs/pythonEnv-0642df6c-b567-420c-a8fb-cae190ea414c\n    Can't uninstall 'blinker'. No files were found to uninstall.\n  Attempting uninstall: importlib_metadata\n    Found existing installation: importlib-metadata 4.6.4\n    Not uninstalling importlib-metadata at /usr/lib/python3/dist-packages, outside environment /local_disk0/.ephemeral_nfs/envs/pythonEnv-0642df6c-b567-420c-a8fb-cae190ea414c\n    Can't uninstall 'importlib-metadata'. No files were found to uninstall.\n  Attempting uninstall: pydantic\n    Found existing installation: pydantic 1.10.6\n    Not uninstalling pydantic at /databricks/python3/lib/python3.10/site-packages, outside environment /local_disk0/.ephemeral_nfs/envs/pythonEnv-0642df6c-b567-420c-a8fb-cae190ea414c\n    Can't uninstall 'pydantic'. No files were found to uninstall.\n  Attempting uninstall: databricks-sdk\n    Found existing installation: databricks-sdk 0.1.6\n    Not uninstalling databricks-sdk at /databricks/python3/lib/python3.10/site-packages, outside environment /local_disk0/.ephemeral_nfs/envs/pythonEnv-0642df6c-b567-420c-a8fb-cae190ea414c\n    Can't uninstall 'databricks-sdk'. No files were found to uninstall.\nSuccessfully installed Flask-3.1.0 Mako-1.3.9 Werkzeug-3.1.3 alembic-1.14.1 annotated-types-0.7.0 blinker-1.9.0 cachetools-5.5.2 click-8.1.8 cloudpickle-3.1.1 databricks-sdk-0.44.1 deprecated-1.2.18 docker-7.1.0 gitdb-4.0.12 gitpython-3.1.44 google-auth-2.38.0 graphene-3.4.3 graphql-core-3.2.6 graphql-relay-3.2.0 greenlet-3.1.1 gunicorn-23.0.0 importlib_metadata-8.5.0 itsdangerous-2.2.0 markdown-3.7 mlflow-2.20.3 mlflow-skinny-2.20.3 opentelemetry-api-1.30.0 opentelemetry-sdk-1.30.0 opentelemetry-semantic-conventions-0.51b0 pyasn1-0.6.1 pyasn1-modules-0.4.1 pydantic-2.10.6 pydantic-core-2.27.2 pyyaml-6.0.2 rsa-4.9 smmap-5.0.2 sqlalchemy-2.0.38 sqlparse-0.5.3 typing-extensions-4.12.2 wrapt-1.17.2 zipp-3.21.0\n\u001B[43mNote: you may need to restart the kernel using dbutils.library.restartPython() to use updated packages.\u001B[0m\n"
     ]
    }
   ],
   "source": [
    "%pip install mlflow\n"
   ]
  },
  {
   "cell_type": "code",
   "execution_count": 0,
   "metadata": {
    "application/vnd.databricks.v1+cell": {
     "cellMetadata": {
      "byteLimit": 2048000,
      "rowLimit": 10000
     },
     "inputWidgets": {},
     "nuid": "2b3b7962-95cb-4a20-a0dc-3307667ff33f",
     "showTitle": false,
     "tableResultSettingsMap": {},
     "title": ""
    }
   },
   "outputs": [
    {
     "output_type": "stream",
     "name": "stderr",
     "output_type": "stream",
     "text": [
      "2025/03/04 00:36:29 INFO mlflow.spark: Inferring pip requirements by reloading the logged model from the databricks artifact repository, which can be time-consuming. To speed up, explicitly specify the conda_env or pip_requirements when calling log_model().\n2025/03/04 00:36:53 WARNING mlflow.utils.environment: Encountered an unexpected error while inferring pip requirements (model URI: dbfs:/databricks/mlflow-tracking/718498739267123/1c1be85a6fd442b2844e95a8dbb5c989/artifacts/model/sparkml, flavor: spark). Fall back to return ['pyspark==3.5.0']. Set logging level to DEBUG to see the full traceback. \n"
     ]
    },
    {
     "output_type": "stream",
     "name": "stdout",
     "output_type": "stream",
     "text": [
      "Trained linear regression model (Degree: 1) with RMSE: 0.22922371710227815\n"
     ]
    },
    {
     "output_type": "stream",
     "name": "stderr",
     "output_type": "stream",
     "text": [
      "2025/03/04 00:37:07 INFO mlflow.spark: Inferring pip requirements by reloading the logged model from the databricks artifact repository, which can be time-consuming. To speed up, explicitly specify the conda_env or pip_requirements when calling log_model().\n2025/03/04 00:37:30 WARNING mlflow.utils.environment: Encountered an unexpected error while inferring pip requirements (model URI: dbfs:/databricks/mlflow-tracking/718498739267123/7c1bade3f90c438b9b0718a72fc118be/artifacts/model/sparkml, flavor: spark). Fall back to return ['pyspark==3.5.0']. Set logging level to DEBUG to see the full traceback. \n"
     ]
    },
    {
     "output_type": "stream",
     "name": "stdout",
     "output_type": "stream",
     "text": [
      "Trained polynomial regression model (Degree: 2) with RMSE: 0.22684156316345755\n"
     ]
    },
    {
     "output_type": "stream",
     "name": "stderr",
     "output_type": "stream",
     "text": [
      "2025/03/04 00:37:44 INFO mlflow.spark: Inferring pip requirements by reloading the logged model from the databricks artifact repository, which can be time-consuming. To speed up, explicitly specify the conda_env or pip_requirements when calling log_model().\n2025/03/04 00:38:08 WARNING mlflow.utils.environment: Encountered an unexpected error while inferring pip requirements (model URI: dbfs:/databricks/mlflow-tracking/718498739267123/9572bea9c18f4c90a087786be3e1a26d/artifacts/model/sparkml, flavor: spark). Fall back to return ['pyspark==3.5.0']. Set logging level to DEBUG to see the full traceback. \n"
     ]
    },
    {
     "output_type": "stream",
     "name": "stdout",
     "output_type": "stream",
     "text": [
      "Trained polynomial regression model (Degree: 3) with RMSE: 0.2261241413468267\n"
     ]
    }
   ],
   "source": [
    "from pyspark.sql import SparkSession\n",
    "from pyspark.sql.functions import col, regexp_replace\n",
    "from pyspark.ml.feature import VectorAssembler, PolynomialExpansion\n",
    "from pyspark.ml.regression import LinearRegression\n",
    "from pyspark.ml import Pipeline\n",
    "from pyspark.ml.evaluation import RegressionEvaluator\n",
    "import mlflow\n",
    "import mlflow.spark\n",
    "\n",
    "# Initialize Spark session\n",
    "spark = SparkSession.builder.appName(\"DefenseSpendingMLPipeline\").getOrCreate()\n",
    "\n",
    "# Load data from Parquet\n",
    "df_payments = spark.read.parquet(\"dbfs:/FileStore/cleaned_data/defense_spending_cleaned.parquet\")\n",
    "\n",
    "# Rename and preprocess data\n",
    "df_payments = df_payments.withColumnRenamed(\"_c0\", \"fiscal_year\") \\\n",
    "                         .withColumnRenamed(\"_c1\", \"national_defense_outlays\")\n",
    "\n",
    "df_payments = df_payments \\\n",
    "    .withColumn(\"fiscal_year\", col(\"fiscal_year\").cast(\"int\")) \\\n",
    "    .withColumn(\"national_defense_outlays\", regexp_replace(col(\"national_defense_outlays\"), \",\", \"\").cast(\"double\"))\n",
    "\n",
    "df_payments = df_payments.dropna()\n",
    "\n",
    "# Assemble feature vector\n",
    "assembler = VectorAssembler(inputCols=[\"fiscal_year\"], outputCol=\"features\")\n",
    "\n",
    "def train_model(model_type, degree=1):\n",
    "    \"\"\"Train and log models using MLflow.\"\"\"\n",
    "    with mlflow.start_run():\n",
    "        # Define model pipeline\n",
    "        if model_type == \"linear\":\n",
    "            model = LinearRegression(featuresCol=\"features\", labelCol=\"national_defense_outlays\", regParam=0.01, elasticNetParam=0.0)\n",
    "            pipeline = Pipeline(stages=[assembler, model])\n",
    "        elif model_type == \"polynomial\":\n",
    "            polyExpansion = PolynomialExpansion(inputCol=\"features\", outputCol=\"polyFeatures\", degree=degree)\n",
    "            model = LinearRegression(featuresCol=\"polyFeatures\", labelCol=\"national_defense_outlays\", regParam=0.01, elasticNetParam=0.0)\n",
    "            pipeline = Pipeline(stages=[assembler, polyExpansion, model])\n",
    "        else:\n",
    "            raise ValueError(\"Unsupported model type\")\n",
    "        \n",
    "        # Train model\n",
    "        train_data, test_data = df_payments.randomSplit([0.8, 0.2], seed=42)\n",
    "        trained_pipeline = pipeline.fit(train_data)\n",
    "        predictions = trained_pipeline.transform(test_data)\n",
    "        \n",
    "        # Evaluate model\n",
    "        evaluator = RegressionEvaluator(labelCol=\"national_defense_outlays\", predictionCol=\"prediction\", metricName=\"rmse\")\n",
    "        rmse = evaluator.evaluate(predictions)\n",
    "        \n",
    "        # Log parameters and metrics\n",
    "        mlflow.log_param(\"model_type\", model_type)\n",
    "        mlflow.log_param(\"degree\", degree)\n",
    "        mlflow.log_metric(\"rmse\", rmse)\n",
    "        \n",
    "        # Log model\n",
    "        mlflow.spark.log_model(trained_pipeline, \"model\")\n",
    "        \n",
    "        print(f\"Trained {model_type} regression model (Degree: {degree}) with RMSE: {rmse}\")\n",
    "\n",
    "# Train and track Linear Regression model\n",
    "train_model(\"linear\")\n",
    "\n",
    "# Train and track Polynomial Regression model (degree=2)\n",
    "train_model(\"polynomial\", degree=2)\n",
    "\n",
    "# Train and track Polynomial Regression model (degree=3)\n",
    "train_model(\"polynomial\", degree=3)\n"
   ]
  },
  {
   "cell_type": "markdown",
   "metadata": {
    "application/vnd.databricks.v1+cell": {
     "cellMetadata": {},
     "inputWidgets": {},
     "nuid": "009b14fb-e4f0-46c7-8522-c83c8d44b0e5",
     "showTitle": false,
     "tableResultSettingsMap": {},
     "title": ""
    }
   },
   "source": [
    "USED ML flow to track three different regression models "
   ]
  },
  {
   "cell_type": "code",
   "execution_count": 0,
   "metadata": {
    "application/vnd.databricks.v1+cell": {
     "cellMetadata": {
      "byteLimit": 2048000,
      "rowLimit": 10000
     },
     "inputWidgets": {},
     "nuid": "fcaa19cf-8675-4827-af14-ae4039bbf5cf",
     "showTitle": false,
     "tableResultSettingsMap": {},
     "title": ""
    }
   },
   "outputs": [
    {
     "output_type": "stream",
     "name": "stdout",
     "output_type": "stream",
     "text": [
      "Created new experiment: /Users/debray@purdue.edu/Defense_Air_Force_Spending\nExperiment is set: /Users/debray@purdue.edu/Defense_Air_Force_Spending\n"
     ]
    }
   ],
   "source": [
    "import mlflow\n",
    "from databricks.sdk.runtime import dbutils\n",
    "\n",
    "# ✅ Define Experiment Name\n",
    "experiment_name = \"/Users/debray@purdue.edu/Defense_Air_Force_Spending\"\n",
    "\n",
    "# ✅ Check if Experiment Exists\n",
    "existing_experiment = mlflow.get_experiment_by_name(experiment_name)\n",
    "\n",
    "if existing_experiment is None:\n",
    "    # ✅ Create the Experiment\n",
    "    experiment_id = mlflow.create_experiment(experiment_name)\n",
    "    print(f\"Created new experiment: {experiment_name}\")\n",
    "else:\n",
    "    experiment_id = existing_experiment.experiment_id\n",
    "    print(f\"Using existing experiment: {experiment_name}\")\n",
    "\n",
    "# ✅ Now Set the Experiment\n",
    "mlflow.set_experiment(experiment_name)\n",
    "\n",
    "print(f\"Experiment is set: {experiment_name}\")\n"
   ]
  },
  {
   "cell_type": "code",
   "execution_count": 0,
   "metadata": {
    "application/vnd.databricks.v1+cell": {
     "cellMetadata": {
      "byteLimit": 2048000,
      "rowLimit": 10000
     },
     "inputWidgets": {},
     "nuid": "124fdf4b-37d4-4912-9336-0948a22f652e",
     "showTitle": false,
     "tableResultSettingsMap": {},
     "title": ""
    }
   },
   "outputs": [
    {
     "output_type": "stream",
     "name": "stderr",
     "output_type": "stream",
     "text": [
      "2025/03/04 00:48:32 INFO mlflow.spark: Inferring pip requirements by reloading the logged model from the databricks artifact repository, which can be time-consuming. To speed up, explicitly specify the conda_env or pip_requirements when calling log_model().\n2025/03/04 00:48:55 WARNING mlflow.utils.environment: Encountered an unexpected error while inferring pip requirements (model URI: dbfs:/databricks/mlflow-tracking/2424288302878693/26299fcfec9c45eba85504bbe4e0d3fe/artifacts/model/sparkml, flavor: spark). Fall back to return ['pyspark==3.5.0']. Set logging level to DEBUG to see the full traceback. \n"
     ]
    },
    {
     "output_type": "stream",
     "name": "stdout",
     "output_type": "stream",
     "text": [
      "Trained model with RMSE: 0.22419178410291074\n+-----------+------------------------+------------------+\n|fiscal_year|national_defense_outlays|        prediction|\n+-----------+------------------------+------------------+\n|       2000|                     3.0|3.2567860367099115|\n|       2004|                     3.9|3.6758049954848957|\n|       2006|                     3.9| 3.885314474872388|\n|       2011|                     4.7| 4.409088173341132|\n+-----------+------------------------+------------------+\n\n"
     ]
    }
   ],
   "source": [
    "import mlflow\n",
    "import mlflow.spark\n",
    "from pyspark.ml import Pipeline\n",
    "from pyspark.ml.regression import LinearRegression\n",
    "from pyspark.ml.feature import VectorAssembler\n",
    "\n",
    "# ✅ Ensure Experiment is Set\n",
    "mlflow.set_experiment(\"/Users/debray@purdue.edu/Defense_Air_Force_Spending\")\n",
    "\n",
    "with mlflow.start_run():\n",
    "    # ✅ Log Parameters\n",
    "    mlflow.log_param(\"model_type\", \"LinearRegression\")\n",
    "\n",
    "    # ✅ Prepare Features\n",
    "    assembler = VectorAssembler(inputCols=[\"fiscal_year\"], outputCol=\"features\")\n",
    "    \n",
    "    # ✅ Define Model\n",
    "    lr = LinearRegression(featuresCol=\"features\", labelCol=\"national_defense_outlays\")\n",
    "    \n",
    "    # ✅ Create Pipeline\n",
    "    pipeline = Pipeline(stages=[assembler, lr])\n",
    "    \n",
    "    # ✅ Train Model\n",
    "    model = pipeline.fit(train_data)\n",
    "\n",
    "    # ✅ Log Model\n",
    "    mlflow.spark.log_model(model, \"model\")\n",
    "\n",
    "    # ✅ Predictions & Evaluation\n",
    "    predictions = model.transform(test_data)\n",
    "    evaluator = RegressionEvaluator(labelCol=\"national_defense_outlays\", predictionCol=\"prediction\", metricName=\"rmse\")\n",
    "    rmse = evaluator.evaluate(predictions)\n",
    "\n",
    "    # ✅ Log Metrics\n",
    "    mlflow.log_metric(\"rmse\", rmse)\n",
    "\n",
    "    print(f\"Trained model with RMSE: {rmse}\")\n",
    "\n",
    "# ✅ Show Predictions\n",
    "predictions.select(\"fiscal_year\", \"national_defense_outlays\", \"prediction\").show(10)\n",
    "\n",
    "\n"
   ]
  },
  {
   "cell_type": "markdown",
   "metadata": {
    "application/vnd.databricks.v1+cell": {
     "cellMetadata": {},
     "inputWidgets": {},
     "nuid": "df8ce4b7-e7a0-48d1-ae9b-51258697209b",
     "showTitle": false,
     "tableResultSettingsMap": {},
     "title": ""
    }
   },
   "source": [
    "Polynomial Regression to compare "
   ]
  },
  {
   "cell_type": "code",
   "execution_count": 0,
   "metadata": {
    "application/vnd.databricks.v1+cell": {
     "cellMetadata": {
      "byteLimit": 2048000,
      "rowLimit": 10000
     },
     "inputWidgets": {},
     "nuid": "d3808dcf-53d1-4a20-94ec-b50011a6bda1",
     "showTitle": false,
     "tableResultSettingsMap": {},
     "title": ""
    }
   },
   "outputs": [
    {
     "output_type": "stream",
     "name": "stderr",
     "output_type": "stream",
     "text": [
      "2025/03/04 00:56:35 INFO mlflow.spark: Inferring pip requirements by reloading the logged model from the databricks artifact repository, which can be time-consuming. To speed up, explicitly specify the conda_env or pip_requirements when calling log_model().\n2025/03/04 00:56:57 WARNING mlflow.utils.environment: Encountered an unexpected error while inferring pip requirements (model URI: dbfs:/databricks/mlflow-tracking/2424288302878693/a683ae0ac3094b508ca86028cfae488e/artifacts/model_poly2/sparkml, flavor: spark). Fall back to return ['pyspark==3.5.0']. Set logging level to DEBUG to see the full traceback. \n2025/03/04 00:57:06 INFO mlflow.spark: Inferring pip requirements by reloading the logged model from the databricks artifact repository, which can be time-consuming. To speed up, explicitly specify the conda_env or pip_requirements when calling log_model().\n2025/03/04 00:57:27 WARNING mlflow.utils.environment: Encountered an unexpected error while inferring pip requirements (model URI: dbfs:/databricks/mlflow-tracking/2424288302878693/a864be7b31964afc8909541f10d187e7/artifacts/model_poly3/sparkml, flavor: spark). Fall back to return ['pyspark==3.5.0']. Set logging level to DEBUG to see the full traceback. \n"
     ]
    },
    {
     "output_type": "execute_result",
     "data": {
      "text/plain": [
       "(0.22995014688238968, 0.22444664225112668)"
      ]
     },
     "execution_count": 10,
     "metadata": {},
     "output_type": "execute_result"
    }
   ],
   "source": [
    "from pyspark.sql import SparkSession\n",
    "from pyspark.sql.functions import col, pow\n",
    "from pyspark.ml.feature import VectorAssembler\n",
    "from pyspark.ml.regression import LinearRegression\n",
    "from pyspark.ml.evaluation import RegressionEvaluator\n",
    "import mlflow\n",
    "import mlflow.spark\n",
    "\n",
    "# ✅ Step 1: Load Data from Parquet\n",
    "df_payments = spark.read.parquet(\"dbfs:/FileStore/cleaned_data/defense_spending_cleaned.parquet\")\n",
    "\n",
    "# ✅ Step 2: Rename & Convert Data Types\n",
    "df_payments = df_payments.withColumnRenamed(\"_c0\", \"fiscal_year\") \\\n",
    "                         .withColumnRenamed(\"_c1\", \"national_defense_outlays\")\n",
    "\n",
    "df_payments = df_payments.withColumn(\"fiscal_year\", col(\"fiscal_year\").cast(\"int\")) \\\n",
    "                         .withColumn(\"national_defense_outlays\", col(\"national_defense_outlays\").cast(\"double\"))\n",
    "\n",
    "df_payments = df_payments.dropna()\n",
    "\n",
    "# ✅ Step 3: Generate Polynomial Features (Degree 2 & 3)\n",
    "df_poly2 = df_payments.withColumn(\"fiscal_year_sq\", pow(col(\"fiscal_year\"), 2))\n",
    "df_poly3 = df_poly2.withColumn(\"fiscal_year_cube\", pow(col(\"fiscal_year\"), 3))\n",
    "\n",
    "# ✅ Step 4: Assemble Features\n",
    "assembler2 = VectorAssembler(inputCols=[\"fiscal_year\", \"fiscal_year_sq\"], outputCol=\"features\")\n",
    "assembler3 = VectorAssembler(inputCols=[\"fiscal_year\", \"fiscal_year_sq\", \"fiscal_year_cube\"], outputCol=\"features\")\n",
    "\n",
    "df_poly2 = assembler2.transform(df_poly2)\n",
    "df_poly3 = assembler3.transform(df_poly3)\n",
    "\n",
    "# ✅ Step 5: Train-Test Split\n",
    "train_data2, test_data2 = df_poly2.randomSplit([0.8, 0.2], seed=42)\n",
    "train_data3, test_data3 = df_poly3.randomSplit([0.8, 0.2], seed=42)\n",
    "\n",
    "# ✅ Step 6: Train Polynomial Regression Models\n",
    "lr = LinearRegression(featuresCol=\"features\", labelCol=\"national_defense_outlays\")\n",
    "\n",
    "mlflow.set_experiment(\"/Users/debray@purdue.edu/Defense_Air_Force_Spending\")\n",
    "\n",
    "# Train and log models\n",
    "with mlflow.start_run(run_name=\"Polynomial_Regression_Degree_2\"):\n",
    "    model2 = lr.fit(train_data2)\n",
    "    predictions2 = model2.transform(test_data2)\n",
    "    rmse2 = RegressionEvaluator(labelCol=\"national_defense_outlays\", predictionCol=\"prediction\", metricName=\"rmse\").evaluate(predictions2)\n",
    "\n",
    "    mlflow.log_param(\"degree\", 2)\n",
    "    mlflow.log_metric(\"rmse\", rmse2)\n",
    "    mlflow.spark.log_model(model2, \"model_poly2\")\n",
    "\n",
    "with mlflow.start_run(run_name=\"Polynomial_Regression_Degree_3\"):\n",
    "    model3 = lr.fit(train_data3)\n",
    "    predictions3 = model3.transform(test_data3)\n",
    "    rmse3 = RegressionEvaluator(labelCol=\"national_defense_outlays\", predictionCol=\"prediction\", metricName=\"rmse\").evaluate(predictions3)\n",
    "\n",
    "    mlflow.log_param(\"degree\", 3)\n",
    "    mlflow.log_metric(\"rmse\", rmse3)\n",
    "    mlflow.spark.log_model(model3, \"model_poly3\")\n",
    "\n",
    "# ✅ Step 7: Compare Model Performance\n",
    "rmse2, rmse3\n"
   ]
  }
 ],
 "metadata": {
  "application/vnd.databricks.v1+notebook": {
   "computePreferences": null,
   "dashboards": [],
   "environmentMetadata": {
    "base_environment": "",
    "client": "1"
   },
   "language": "python",
   "notebookMetadata": {
    "mostRecentlyExecutedCommandWithImplicitDF": {
     "commandId": 718498739267129,
     "dataframes": [
      "_sqldf"
     ]
    },
    "pythonIndentUnit": 4
   },
   "notebookName": "Air Force Budget Analysis",
   "widgets": {}
  }
 },
 "nbformat": 4,
 "nbformat_minor": 0
}
